{
 "cells": [
  {
   "cell_type": "markdown",
   "metadata": {},
   "source": [
    "### Convert Number to palindrome\n",
    "Given an integer, write a function that returns True if the number can be converted into a palindrome, otherwise return False. \n",
    "\n",
    "If the conversion steps result in a number bigger than 1 million, return False."
   ]
  },
  {
   "cell_type": "code",
   "execution_count": 16,
   "metadata": {},
   "outputs": [],
   "source": [
    "def convertToPalindrome(num):\n",
    "    while num < 1000000:\n",
    "        reverted = revert(num)\n",
    "        num = num + reverted\n",
    "        if isPalindrome(num):\n",
    "            return True, num\n",
    "    return False\n",
    "\n",
    "def revert(x):\n",
    "    reverted = 0\n",
    "    num = x\n",
    "    while num > 0:\n",
    "        reverted = (reverted * 10 + num % 10)\n",
    "        num //= 10\n",
    "    return reverted\n",
    "\n",
    "def isPalindrome(x):\n",
    "    if (x % 10 == 0 and x != 0) or x < 0:\n",
    "        return False\n",
    "    reverted = revert(x)\n",
    "        \n",
    "    return x == reverted or x == reverted // 10"
   ]
  },
  {
   "cell_type": "code",
   "execution_count": 21,
   "metadata": {},
   "outputs": [
    {
     "data": {
      "text/plain": [
       "(True, 45254)"
      ]
     },
     "execution_count": 21,
     "metadata": {},
     "output_type": "execute_result"
    }
   ],
   "source": [
    "convertToPalindrome(3373)"
   ]
  },
  {
   "cell_type": "code",
   "execution_count": 23,
   "metadata": {},
   "outputs": [
    {
     "data": {
      "text/plain": [
       "False"
      ]
     },
     "execution_count": 23,
     "metadata": {},
     "output_type": "execute_result"
    }
   ],
   "source": [
    "convertToPalindrome(999999)"
   ]
  },
  {
   "cell_type": "code",
   "execution_count": null,
   "metadata": {},
   "outputs": [],
   "source": []
  }
 ],
 "metadata": {
  "kernelspec": {
   "display_name": "Python 3",
   "language": "python",
   "name": "python3"
  },
  "language_info": {
   "codemirror_mode": {
    "name": "ipython",
    "version": 3
   },
   "file_extension": ".py",
   "mimetype": "text/x-python",
   "name": "python",
   "nbconvert_exporter": "python",
   "pygments_lexer": "ipython3",
   "version": "3.7.6"
  }
 },
 "nbformat": 4,
 "nbformat_minor": 4
}
