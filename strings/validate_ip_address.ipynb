{
 "cells": [
  {
   "cell_type": "markdown",
   "metadata": {},
   "source": [
    "### Problem\n",
    "Write a function to validate an IPv4 Address. \n",
    "\n",
    "An IPv4 addresses are canonically represented in dot-decimal notation, which consists of four decimal numbers, each ranging from 0 to 255, separated by dots, e.g., \n",
    "\n",
    "For example input `172.16.254.1` returns True, and `127...1` is invalid as well as `027.0.0.01` "
   ]
  },
  {
   "cell_type": "code",
   "execution_count": 18,
   "metadata": {},
   "outputs": [],
   "source": [
    "def valid_part(part):\n",
    "    n = len(part)\n",
    "    if n > 3:\n",
    "        return False\n",
    "    if part != '' and part[0] == 0 and n > 1:\n",
    "        return False\n",
    "    for c in part:\n",
    "        if c < \"0\" or c > \"9\":\n",
    "            return False\n",
    "    try:\n",
    "        num = int(part)\n",
    "        return num >= 0 and num <= 255\n",
    "    except Exception as e:\n",
    "        return False\n",
    "    \n",
    "def validate_ip(ip) -> bool:\n",
    "    count = 0\n",
    "    for i in ip:\n",
    "        if i == '.':\n",
    "            count += 1\n",
    "    if count != 3:\n",
    "        return False\n",
    "    # check for parts\n",
    "    parts = ip.split(\".\")\n",
    "    if len(parts) != 4:\n",
    "        return False\n",
    "\n",
    "    for part in parts:\n",
    "        if not valid_part(part):\n",
    "            return False\n",
    "    return True"
   ]
  },
  {
   "cell_type": "code",
   "execution_count": 19,
   "metadata": {},
   "outputs": [
    {
     "data": {
      "text/plain": [
       "True"
      ]
     },
     "execution_count": 19,
     "metadata": {},
     "output_type": "execute_result"
    }
   ],
   "source": [
    "validate_ip(\"127.0.0.1\")"
   ]
  },
  {
   "cell_type": "code",
   "execution_count": 20,
   "metadata": {},
   "outputs": [
    {
     "data": {
      "text/plain": [
       "False"
      ]
     },
     "execution_count": 20,
     "metadata": {},
     "output_type": "execute_result"
    }
   ],
   "source": [
    "validate_ip(\"1222.22.5.1\")"
   ]
  },
  {
   "cell_type": "code",
   "execution_count": 21,
   "metadata": {},
   "outputs": [
    {
     "data": {
      "text/plain": [
       "False"
      ]
     },
     "execution_count": 21,
     "metadata": {},
     "output_type": "execute_result"
    }
   ],
   "source": [
    "validate_ip(\"1...1\")"
   ]
  },
  {
   "cell_type": "code",
   "execution_count": null,
   "metadata": {},
   "outputs": [],
   "source": []
  }
 ],
 "metadata": {
  "kernelspec": {
   "display_name": "Python 3",
   "language": "python",
   "name": "python3"
  },
  "language_info": {
   "codemirror_mode": {
    "name": "ipython",
    "version": 3
   },
   "file_extension": ".py",
   "mimetype": "text/x-python",
   "name": "python",
   "nbconvert_exporter": "python",
   "pygments_lexer": "ipython3",
   "version": "3.7.6"
  }
 },
 "nbformat": 4,
 "nbformat_minor": 4
}
