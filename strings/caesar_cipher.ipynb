{
 "metadata": {
  "language_info": {
   "codemirror_mode": {
    "name": "ipython",
    "version": 3
   },
   "file_extension": ".py",
   "mimetype": "text/x-python",
   "name": "python",
   "nbconvert_exporter": "python",
   "pygments_lexer": "ipython3",
   "version": "3.9.0-final"
  },
  "orig_nbformat": 2,
  "kernelspec": {
   "name": "python3",
   "display_name": "Python 3.9.0 64-bit",
   "metadata": {
    "interpreter": {
     "hash": "aee8b7b246df8f9039afb4144a1f6fd8d2ca17a180786b69acc140d282b71a49"
    }
   }
  }
 },
 "nbformat": 4,
 "nbformat_minor": 2,
 "cells": [
  {
   "cell_type": "code",
   "execution_count": 1,
   "metadata": {},
   "outputs": [],
   "source": [
    "\"\"\"Caecar Cipher implementation.\n",
    "\n",
    "Given a non-empty string of lowercase alphabetic characters, write a function that\n",
    "takes in the string, and an integer called a key,\n",
    "And returns a string obtained by shifting every letter of the input string by k positions\n",
    "in the alphabet, where k is the key.\n",
    "\n",
    "Sample input: \"xyz\", 2\n",
    "Sample output: \"zab\"\n",
    "\"\"\"\n",
    "\n",
    "\n",
    "def caesar_cipher_encryptor(string, key):\n",
    "    \"\"\"\n",
    "    Complexity:\n",
    "        O(n) space\n",
    "        O(n) time\n",
    "    \"\"\"\n",
    "    new_letters = []\n",
    "    new_key = key % 26\n",
    "    for letter in string:\n",
    "        new_letter_code = ord(letter) + new_key\n",
    "        if new_letter_code > 122:  # z character code is 122\n",
    "            character = chr(96 + new_letter_code % 122)\n",
    "            new_letters.append(character)\n",
    "        else:\n",
    "            new_letters.append(chr(new_letter_code))\n",
    "\n",
    "    return \"\".join(new_letters)"
   ]
  },
  {
   "cell_type": "code",
   "execution_count": 3,
   "metadata": {},
   "outputs": [
    {
     "output_type": "execute_result",
     "data": {
      "text/plain": [
       "'zab'"
      ]
     },
     "metadata": {},
     "execution_count": 3
    }
   ],
   "source": [
    "caesar_cipher_encryptor(\"xyz\", 2)"
   ]
  },
  {
   "cell_type": "code",
   "execution_count": null,
   "metadata": {},
   "outputs": [],
   "source": []
  }
 ]
}