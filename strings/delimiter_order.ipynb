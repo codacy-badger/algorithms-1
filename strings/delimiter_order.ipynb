{
 "metadata": {
  "language_info": {
   "codemirror_mode": {
    "name": "ipython",
    "version": 3
   },
   "file_extension": ".py",
   "mimetype": "text/x-python",
   "name": "python",
   "nbconvert_exporter": "python",
   "pygments_lexer": "ipython3",
   "version": "3.9.0-final"
  },
  "orig_nbformat": 2,
  "kernelspec": {
   "name": "python3",
   "display_name": "Python 3.9.0 64-bit",
   "metadata": {
    "interpreter": {
     "hash": "aee8b7b246df8f9039afb4144a1f6fd8d2ca17a180786b69acc140d282b71a49"
    }
   }
  }
 },
 "nbformat": 4,
 "nbformat_minor": 2,
 "cells": [
  {
   "cell_type": "code",
   "execution_count": 1,
   "metadata": {},
   "outputs": [],
   "source": [
    "\"\"\"\n",
    "Reverse the words in a string but maintain the relative order of delimiters.\n",
    "\n",
    "For example:\n",
    "    input = \"hello:world/here\"\n",
    "    output = \"here:world/hello\"\n",
    "\n",
    "\"\"\"\n",
    "import re\n",
    "\n",
    "\n",
    "def reverse(string, delimiters):\n",
    "    \"\"\"Split the words and delimiters into their respective lists.\n",
    "    Then reverse the list of words and merge the two lists together.\n",
    "\n",
    "    Complexity: O(n) time | O(n) space, where n == length of input string.\n",
    "    \"\"\"\n",
    "    words = re.split(f\"[{delimiters}]+\", string)\n",
    "    not_words = re.split(f\"[^({delimiters})]+\", string)\n",
    "\n",
    "    # remove last empty string if present\n",
    "    if words[-1] == '':\n",
    "        words = words[:-1]\n",
    "\n",
    "    # NOTE: we can in built reverse but there's always another way\n",
    "    # reversed_strings = list(reversed(words))\n",
    "    start = 0\n",
    "    end = len(words) - 1\n",
    "    while start < end:\n",
    "        words[start], words[end] = words[end], words[start]\n",
    "        start += 1\n",
    "        end -= 1\n",
    "\n",
    "    output = []\n",
    "    for index, delimiter in enumerate(not_words):\n",
    "        print(index)\n",
    "        output.append(delimiter)\n",
    "        try:\n",
    "            print(f\"adding {words[index]}\")\n",
    "            output.append(words[index])\n",
    "        except IndexError:\n",
    "            pass\n",
    "\n",
    "    return ''.join(output)"
   ]
  },
  {
   "cell_type": "code",
   "execution_count": 3,
   "metadata": {},
   "outputs": [
    {
     "output_type": "stream",
     "name": "stdout",
     "text": [
      "0\nadding here\n1\nadding world\n2\nadding hello\n3\n"
     ]
    },
    {
     "output_type": "execute_result",
     "data": {
      "text/plain": [
       "'here:world/hello'"
      ]
     },
     "metadata": {},
     "execution_count": 3
    }
   ],
   "source": [
    "reverse(\"hello:world/here\", \":/\")"
   ]
  },
  {
   "cell_type": "code",
   "execution_count": null,
   "metadata": {},
   "outputs": [],
   "source": []
  }
 ]
}