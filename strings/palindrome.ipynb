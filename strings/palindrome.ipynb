{
 "metadata": {
  "language_info": {
   "codemirror_mode": {
    "name": "ipython",
    "version": 3
   },
   "file_extension": ".py",
   "mimetype": "text/x-python",
   "name": "python",
   "nbconvert_exporter": "python",
   "pygments_lexer": "ipython3",
   "version": "3.9.0-final"
  },
  "orig_nbformat": 2,
  "kernelspec": {
   "name": "python3",
   "display_name": "Python 3.9.0 64-bit",
   "metadata": {
    "interpreter": {
     "hash": "aee8b7b246df8f9039afb4144a1f6fd8d2ca17a180786b69acc140d282b71a49"
    }
   }
  }
 },
 "nbformat": 4,
 "nbformat_minor": 2,
 "cells": [
  {
   "cell_type": "code",
   "execution_count": 1,
   "metadata": {},
   "outputs": [],
   "source": [
    "\"\"\"\"All the ways to implement a palindrom checker.\n",
    "\n",
    "Check if the string is a palindrome, return True, otherwise, return False.\n",
    "\n",
    "A palindrome is defined as a string that is written the same forward and backward.\n",
    "\"\"\"\n",
    "\n",
    "\n",
    "def is_palindrome1(string):\n",
    "    \"\"\"\n",
    "    Complexity:\n",
    "        O(n) space\n",
    "        O(n) time\n",
    "    \"\"\"\n",
    "    reversed_char = []\n",
    "    for i in reversed(range(len(string))):\n",
    "        reversed_char.append(string[i])\n",
    "    return string == \"\".join(reversed_char)\n",
    "\n",
    "\n",
    "def is_palindrome_best(string):\n",
    "    \"\"\"\n",
    "    Complexity:\n",
    "        O(1) space\n",
    "        O(n) time\n",
    "    \"\"\"\n",
    "    left_index = 0\n",
    "    right_index = len(string) - 1\n",
    "\n",
    "    while left_index < right_index:\n",
    "        if string[left_index] != string[right_index]:\n",
    "            return False\n",
    "        left_index += 1\n",
    "        right_index -= 1\n",
    "    return True\n",
    "\n",
    "\n",
    "def is_palindrome2(string, i = 0):\n",
    "    \"\"\"\n",
    "    Recursive implementation.\n",
    "\n",
    "    Complexity:\n",
    "        O(n) space\n",
    "        O(n) time\n",
    "    \"\"\"\n",
    "    j = len(string) - 1 - i\n",
    "    return True if i >= j else string[i] == string[j] and is_palindrome2(string, i + 1)"
   ]
  },
  {
   "cell_type": "code",
   "execution_count": null,
   "metadata": {},
   "outputs": [],
   "source": []
  }
 ]
}