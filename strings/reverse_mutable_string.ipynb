{
 "metadata": {
  "language_info": {
   "codemirror_mode": {
    "name": "ipython",
    "version": 3
   },
   "file_extension": ".py",
   "mimetype": "text/x-python",
   "name": "python",
   "nbconvert_exporter": "python",
   "pygments_lexer": "ipython3",
   "version": "3.9.0-final"
  },
  "orig_nbformat": 2,
  "kernelspec": {
   "name": "python3",
   "display_name": "Python 3.9.0 64-bit",
   "metadata": {
    "interpreter": {
     "hash": "aee8b7b246df8f9039afb4144a1f6fd8d2ca17a180786b69acc140d282b71a49"
    }
   }
  }
 },
 "nbformat": 4,
 "nbformat_minor": 2,
 "cells": [
  {
   "cell_type": "code",
   "execution_count": 1,
   "metadata": {},
   "outputs": [],
   "source": [
    "def reverse(array, start, end):\n",
    "    \"\"\"Reverse characters in a string from start to end(inclusive).\"\"\"\n",
    "    while start < end:\n",
    "        array[start], array[end] = array[end], array[start]\n",
    "        start += 1\n",
    "        end -= 1\n",
    "\n",
    "\n",
    "def reverse_mutable_string(string_list):\n",
    "    \"\"\"\n",
    "    This function performs a reverse operation on a mutable string in-place.\n",
    "    (saving on space)\n",
    "    Since strings are immutable, a mutable string can be represented\n",
    "    as a list of characters in a buffer e.g\n",
    "    ['h','e','l','l','o',' ','w','o','r','l','d']) == 'hello world'\n",
    "\n",
    "    Approach: First, we reverse entire string to get 'dlrow olleh',\n",
    "    then we reverse each word within the string to obtain original words.\n",
    "\n",
    "    Worst-case complexity:\n",
    "        Time: O(n)\n",
    "        Space: O(1) - since the input memory location is overwritten by the\n",
    "        output as we reverse the string as the algorithm executes.\n",
    "    \"\"\"\n",
    "    # reverse entire string\n",
    "    reverse(string_list, 0, len(string_list) - 1)\n",
    "    # reverse each word in the string\n",
    "    start = 0\n",
    "    for end in range(len(string_list)):\n",
    "        if string_list[end] == \" \":\n",
    "            reverse(string_list, start, end - 1)\n",
    "            start = end + 1\n",
    "\n",
    "    # reverse last word since we stopped at the last white space in the list\n",
    "    # remember, there are characters after the white space.\n",
    "    reverse(string_list, start, len(string_list) - 1)\n",
    "    return string_list"
   ]
  },
  {
   "cell_type": "code",
   "execution_count": 2,
   "metadata": {},
   "outputs": [
    {
     "output_type": "execute_result",
     "data": {
      "text/plain": [
       "['w', 'o', 'r', 'l', 'd', ' ', 'h', 'e', 'l', 'l', 'o']"
      ]
     },
     "metadata": {},
     "execution_count": 2
    }
   ],
   "source": [
    "reverse_mutable_string(['h','e','l','l','o',' ','w','o','r','l','d'])"
   ]
  },
  {
   "cell_type": "code",
   "execution_count": null,
   "metadata": {},
   "outputs": [],
   "source": []
  }
 ]
}