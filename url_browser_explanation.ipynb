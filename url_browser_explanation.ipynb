{
 "cells": [
  {
   "cell_type": "markdown",
   "metadata": {},
   "source": [
    "# Problem\n",
    "\n",
    "Describe what happens when you type a URL into your browser and press Enter.\n"
   ]
  },
  {
   "cell_type": "markdown",
   "metadata": {},
   "source": [
    "# Solution\n",
    "\n",
    "We'll go through a high level overview of how requests are made.\n",
    "\n"
   ]
  },
  {
   "cell_type": "markdown",
   "metadata": {},
   "source": [
    "## 1. DNS\n",
    "- First, the URL, or domain name, must be converted into an IP address that the browser can use to send an HTTP request. \n",
    "- Each domain name is associated with an IP address, and if the apir has not been saved in the browser's cache, then most browsers will ask the OS to look up (or resolve) the domain for it.\n",
    "- Here, the OS usually has default [DNS](https://en.wikipedia.org/wiki/Domain_Name_System) nameserves that it can ask to lookup. These DNS servers are essentially huge lookup takels. If an entry is not found in these nameservers, then it may query others to see of it exists there, and forward the results (and store them in its own cache)"
   ]
  },
  {
   "cell_type": "markdown",
   "metadata": {},
   "source": [
    "## 2. HTTP Request"
   ]
  },
  {
   "cell_type": "code",
   "execution_count": null,
   "metadata": {},
   "outputs": [],
   "source": []
  }
 ],
 "metadata": {
  "kernelspec": {
   "display_name": "Python 3",
   "language": "python",
   "name": "python3"
  },
  "language_info": {
   "codemirror_mode": {
    "name": "ipython",
    "version": 3
   },
   "file_extension": ".py",
   "mimetype": "text/x-python",
   "name": "python",
   "nbconvert_exporter": "python",
   "pygments_lexer": "ipython3",
   "version": "3.6.5"
  }
 },
 "nbformat": 4,
 "nbformat_minor": 2
}
