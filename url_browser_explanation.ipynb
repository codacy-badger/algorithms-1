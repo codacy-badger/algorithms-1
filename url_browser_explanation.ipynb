{
 "cells": [
  {
   "cell_type": "markdown",
   "metadata": {},
   "source": [
    "# Problem\n",
    "\n",
    "Describe what happens when you type a URL into your browser and press Enter.\n"
   ]
  },
  {
   "cell_type": "markdown",
   "metadata": {},
   "source": [
    "# Solution\n",
    "\n",
    "We'll go through a high level overview of how requests are made.\n",
    "\n"
   ]
  },
  {
   "cell_type": "markdown",
   "metadata": {},
   "source": [
    "## 1. DNS\n",
    "- First, the URL, or domain name, must be converted into an IP address that the browser can use to send an HTTP request. \n",
    "- Each domain name is associated with an IP address, and if the apir has not been saved in the browser's cache, then most browsers will ask the OS to look up (or resolve) the domain for it.\n",
    "- Here, the OS usually has default [DNS](https://en.wikipedia.org/wiki/Domain_Name_System) nameserves that it can ask to lookup. These DNS servers are essentially huge lookup takels. If an entry is not found in these nameservers, then it may query others to see of it exists there, and forward the results (and store them in its own cache)"
   ]
  },
  {
   "cell_type": "markdown",
   "metadata": {},
   "source": [
    "## 2. HTTP Request\n",
    "\n",
    "Once the browser has the correct IP address, it then sends an HTTP GET request with all the metadata in the headers and cookies to that IP address.\n",
    "\n",
    "- The HTTP request must go through many networking layers (e.g SSL if it's encrypted). \n",
    "- These layers generally serve to protect the integrity of the data and do error correction. For example, the TCP layer handles reliability of the data and orderedness. If packets underneath the TCP layer are corrupted (detected via checksum), the protocol dictates that the request must be resent. If packets arrive in the wrong order, it will reorder them.\n",
    "\n",
    "In the end, the server will receive a request from the client at the URL specified, along with metadata in the headers and cookies.\n",
    "\n",
    "\n",
    "\n"
   ]
  },
  {
   "cell_type": "markdown",
   "metadata": {},
   "source": [
    "## 3. Server Handler \n",
    "\n",
    "Now the request has been received by the server. Popular server engines are nginx and Apache. The server handles the request accordingly. If the website is static, for example, the server serves a file from the local file system. More often, though, the request is forwarded to an application running on a web framwork such as Django or Ruby on Rails.\n",
    "\n",
    "What these applications do is eventually return a response to the request, usually after performing some logic to serve it. \n",
    "\n",
    "For instance, if you're on Facebook, their servres will parse the request, see that you are logged in, and query their databases and get the data for your Facebook Feed.\n"
   ]
  },
  {
   "cell_type": "markdown",
   "metadata": {},
   "source": [
    "## 4. Rendering\n",
    "The server then sends back the HTTP response to your client (your browser), usually in the form of HTML and CSS. Inside the browser, a component called the rendering engines (layout engine) then transforms the HTML documents and other resources into an interactive visual representation for the user to see. Examples of rendering engines include Webkit, Gecko, Blink, etc.\n",
    "\n",
    "The request might also ask the browser to load more resources, such as images, streams, more stylesheets, or JavaScript. This makes more requests, and JavaScript may also be used to dynamically alter the page and make requests to the backend.\n",
    "\n",
    "More and more, web apps these days simply load a bare page containing a JS bundle"
   ]
  },
  {
   "cell_type": "code",
   "execution_count": null,
   "metadata": {},
   "outputs": [],
   "source": []
  }
 ],
 "metadata": {
  "kernelspec": {
   "display_name": "Python 3",
   "language": "python",
   "name": "python3"
  },
  "language_info": {
   "codemirror_mode": {
    "name": "ipython",
    "version": 3
   },
   "file_extension": ".py",
   "mimetype": "text/x-python",
   "name": "python",
   "nbconvert_exporter": "python",
   "pygments_lexer": "ipython3",
   "version": "3.6.5"
  }
 },
 "nbformat": 4,
 "nbformat_minor": 2
}
