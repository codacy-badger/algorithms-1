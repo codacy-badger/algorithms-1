{
 "cells": [
  {
   "cell_type": "markdown",
   "metadata": {},
   "source": [
    "## Problem\n",
    "\n",
    "Given an integer n, return the length of the longest consecutive run of 1s in its binary representation.\n",
    "\n",
    "For example, given 156, you should return 3."
   ]
  },
  {
   "cell_type": "markdown",
   "metadata": {},
   "source": [
    "### 1st Approach\n",
    "The simplest way to solve this is to keep track of a counter of the maximum number of consecutive 1's seen. Once we get a longer run of set bits, we update the counter."
   ]
  },
  {
   "cell_type": "code",
   "execution_count": 2,
   "metadata": {},
   "outputs": [],
   "source": [
    "def find_length(n):\n",
    "    max_length = current_length = 0\n",
    "    bits = bin(n)[2:]\n",
    "    \n",
    "    for bit in bits:\n",
    "        if bit == \"1\":\n",
    "            current_length += 1\n",
    "            max_length = max(max_length, current_length)\n",
    "        else:\n",
    "            current_length = 0\n",
    "    return max_length        "
   ]
  },
  {
   "cell_type": "code",
   "execution_count": 3,
   "metadata": {},
   "outputs": [
    {
     "data": {
      "text/plain": [
       "3"
      ]
     },
     "execution_count": 3,
     "metadata": {},
     "output_type": "execute_result"
    }
   ],
   "source": [
    "find_length(156)"
   ]
  },
  {
   "cell_type": "markdown",
   "metadata": {},
   "source": [
    "### 2nd approach\n",
    "The solution above runs in O(N) time. \n",
    "A faster way to solve this is to manipulate bits directly.\n",
    "\n",
    "If we perform the operation `X & (X << 1)`, the consecutive runs of 1 must decrease by 1. By shifting the current number first, all but one of the set bits in the original number will correspond with the set bits in the shifted number.\n",
    "\n",
    "For instance:\n",
    "\n",
    "```\n",
    " 10011100\n",
    "& 00111000\n",
    "-----------\n",
    "  00011000\n",
    "```"
   ]
  },
  {
   "cell_type": "code",
   "execution_count": 7,
   "metadata": {},
   "outputs": [
    {
     "data": {
      "text/plain": [
       "'0b11000'"
      ]
     },
     "execution_count": 7,
     "metadata": {},
     "output_type": "execute_result"
    }
   ],
   "source": [
    "# 156 & (156 << 1)\n",
    "bin(0b10011100 & (0b10011100 << 1))"
   ]
  },
  {
   "cell_type": "code",
   "execution_count": null,
   "metadata": {},
   "outputs": [],
   "source": []
  }
 ],
 "metadata": {
  "kernelspec": {
   "display_name": "Python 3",
   "language": "python",
   "name": "python3"
  },
  "language_info": {
   "codemirror_mode": {
    "name": "ipython",
    "version": 3
   },
   "file_extension": ".py",
   "mimetype": "text/x-python",
   "name": "python",
   "nbconvert_exporter": "python",
   "pygments_lexer": "ipython3",
   "version": "3.7.6"
  }
 },
 "nbformat": 4,
 "nbformat_minor": 4
}
