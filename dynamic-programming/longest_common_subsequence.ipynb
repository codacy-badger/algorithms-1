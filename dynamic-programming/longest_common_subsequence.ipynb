{
 "cells": [
  {
   "cell_type": "markdown",
   "metadata": {},
   "source": [
    "## Problem\n",
    "\n",
    "Write a function that takes two strings and returns their longest common subsequence.\n",
    "\n",
    "A subsequence is a set of characters in a string that aren't necessarily adjacent to each other but are in the same order that they appear in the string.\n",
    "\n",
    "For example, given string `abcd`, `acd` is a subsequence.\n",
    "\n"
   ]
  },
  {
   "cell_type": "code",
   "execution_count": 17,
   "metadata": {},
   "outputs": [],
   "source": [
    "def longestCommonSubsequence(str1, str2):\n",
    "    m = len(str1)\n",
    "    n = len(str2)\n",
    "    \n",
    "    # create a 2-dim array from the strings\n",
    "    array = [[[] for j in range(n + 1)] for i in range(m + 1)]\n",
    "    \n",
    "    # iterate through the 2D array\n",
    "    for i in range(1, m + 1):\n",
    "        for j in range(1, n + 1):\n",
    "            # compare the string characters together for equality\n",
    "            if str1[i - 1] == str2[j - 1]:\n",
    "                # Concatenate A[i - 1][j - 1] with A[i][j]\n",
    "                array[i][j] = array[i - 1][j - 1] + [str1[i - 1]]\n",
    "            else:\n",
    "                # A[i][j] = Max(A[i-1][j], A[i][j-1])\n",
    "                array[i][j] = max(array[i - 1][j], array[i][j - 1], key=len)\n",
    "    # return the bottom-rightmost element of the 2D array\n",
    "    return array[-1][-1]\n",
    "\n",
    "    # O(M * N ) * O(min(m, n)) ===> O(MN * min(M, N))  == Space complexity\n",
    "    \n",
    "    "
   ]
  },
  {
   "cell_type": "code",
   "execution_count": 18,
   "metadata": {},
   "outputs": [
    {
     "data": {
      "text/plain": [
       "['a', 'b']"
      ]
     },
     "execution_count": 18,
     "metadata": {},
     "output_type": "execute_result"
    }
   ],
   "source": [
    "longestCommonSubsequence(\"abcd\", \"abf\")"
   ]
  },
  {
   "cell_type": "code",
   "execution_count": null,
   "metadata": {},
   "outputs": [],
   "source": []
  }
 ],
 "metadata": {
  "kernelspec": {
   "display_name": "Python 3",
   "language": "python",
   "name": "python3"
  },
  "language_info": {
   "codemirror_mode": {
    "name": "ipython",
    "version": 3
   },
   "file_extension": ".py",
   "mimetype": "text/x-python",
   "name": "python",
   "nbconvert_exporter": "python",
   "pygments_lexer": "ipython3",
   "version": "3.7.6"
  }
 },
 "nbformat": 4,
 "nbformat_minor": 4
}
