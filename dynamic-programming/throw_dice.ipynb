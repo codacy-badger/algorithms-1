{
 "cells": [
  {
   "cell_type": "markdown",
   "metadata": {},
   "source": [
    "### Problem\n",
    "\n",
    "Write a function, `throw_dice(N, faces, total)`, that determines how many ways it is possible to throw N dice with some number of faces each to get a specific total.\n",
    "\n",
    "For example, throw_dice(3, 6, 7) should return 15."
   ]
  },
  {
   "cell_type": "markdown",
   "metadata": {},
   "source": [
    "### Approach\n",
    "For one dice, there are only two posibilities:\n",
    "1. If the total is less than the faces in the dice, then there's **`1 way`** to get the total.\n",
    "2. If the total is greater than the faces, it's impossible, so there's **0** ways\n",
    "\n",
    "For two or more die, we find all the possible outcomes for rolling one dice first. \n",
    "\n",
    "THEN, for every new dice, we calculate all the ways it could add to the total, by adding each of its faces to the cumulative total of the previous dice.\n",
    "\n",
    "We can implement this recursively in O(M^N) time."
   ]
  },
  {
   "cell_type": "code",
   "execution_count": 4,
   "metadata": {},
   "outputs": [],
   "source": [
    "def throw_dice_recursively(n, faces, total):\n",
    "    if n == 1:\n",
    "        return 1 if total <= faces else 0\n",
    "    \n",
    "    ways = 0\n",
    "    for face in range(1, min(total, faces + 1)):\n",
    "        ways += throw_dice_recursively(n - 1, faces, total - face)\n",
    "    \n",
    "    return ways"
   ]
  },
  {
   "cell_type": "code",
   "execution_count": 5,
   "metadata": {},
   "outputs": [
    {
     "data": {
      "text/plain": [
       "15"
      ]
     },
     "execution_count": 5,
     "metadata": {},
     "output_type": "execute_result"
    }
   ],
   "source": [
    "throw_dice_recursively(3, 6, 7)"
   ]
  },
  {
   "cell_type": "markdown",
   "metadata": {},
   "source": [
    "### Dynamic Programming Approach\n",
    "\n",
    "We can optimize our previous solution by using dynamic programming.\n",
    "\n",
    "We create a 2-dimensional array to store number of ways that `N dice` can contribute to the given total.\n",
    "\n",
    "We know the solution for one dice. `No.of ways == 1 if faces is <= total else 0`. We'll update the first row of the matrix to reflect this.\n",
    "\n",
    "```python\n",
    "# Given a total of 7,\n",
    "# Our matrix will look like this:\n",
    "\n",
    "ways = [\n",
    "         [0, 1, 1, 1, 1, 1, 1, 0]  # dice 1 (Last 0 in row because we can't get a 7 from a single dice)\n",
    "         [0 ,0, 0, 0, 0, 0, 0, 0]  # dice 2\n",
    "         [0 ,0, 0, 0, 0, 0, 0, 0]  # dice 3\n",
    "         [0 ,0, 0, 0, 0, 0, 0, 0]  # dice N\n",
    "       ]\n",
    "We add a single column at the beginning, to cater for a total of zero.\n",
    "```\n",
    "\n",
    "We then loop through each row(each representing a single dice), and through each column (representing potential totals), and through each face value, we accumulate the ways to get to the final total by adding a single face value. \n",
    "\n",
    "We'll then obtain the total number of ways from the bottom end of the matrix."
   ]
  },
  {
   "cell_type": "code",
   "execution_count": 6,
   "metadata": {},
   "outputs": [],
   "source": [
    "def throw_dice(n, faces, total):\n",
    "    ways = [[0 for _ in range(total + 1)] for _ in range(n)]\n",
    "\n",
    "    for t in range(1, total + 1):\n",
    "        ways[0][t] = 1 if t <= faces else 0\n",
    "     \n",
    "    for dice in range(1, n):\n",
    "        for t in range(1, total + 1):\n",
    "            for face in range(1, min(t, faces + 1)):\n",
    "                ways[dice][t] += ways[dice - 1][t - face]\n",
    "                \n",
    "    return ways[-1][-1]"
   ]
  },
  {
   "cell_type": "code",
   "execution_count": 7,
   "metadata": {},
   "outputs": [
    {
     "data": {
      "text/plain": [
       "0"
      ]
     },
     "execution_count": 7,
     "metadata": {},
     "output_type": "execute_result"
    }
   ],
   "source": [
    "throw_dice(1, 6, 7)"
   ]
  },
  {
   "cell_type": "code",
   "execution_count": 8,
   "metadata": {},
   "outputs": [
    {
     "data": {
      "text/plain": [
       "3"
      ]
     },
     "execution_count": 8,
     "metadata": {},
     "output_type": "execute_result"
    }
   ],
   "source": [
    "throw_dice(n=3, faces=6, total=4)"
   ]
  },
  {
   "cell_type": "markdown",
   "metadata": {},
   "source": [
    "As you can see above, the number of ways to get a total of 4 from 3 dice is 3. \n",
    "```\n",
    "dice-1 | dice-2 | dice-3 | Total\n",
    "-------------------------------\n",
    "  2   +     1    +    1   == 4   FIRST WAY\n",
    "  1   +     2    +    1   == 4   SECOND WAY\n",
    "  1   +     1    +    2   == 4   THIRD WAY\n",
    "```"
   ]
  }
 ],
 "metadata": {
  "kernelspec": {
   "display_name": "Python 3",
   "language": "python",
   "name": "python3"
  },
  "language_info": {
   "codemirror_mode": {
    "name": "ipython",
    "version": 3
   },
   "file_extension": ".py",
   "mimetype": "text/x-python",
   "name": "python",
   "nbconvert_exporter": "python",
   "pygments_lexer": "ipython3",
   "version": "3.7.6"
  }
 },
 "nbformat": 4,
 "nbformat_minor": 4
}
