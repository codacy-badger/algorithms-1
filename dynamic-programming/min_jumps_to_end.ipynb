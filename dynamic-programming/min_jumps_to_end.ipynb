{
 "cells": [
  {
   "cell_type": "markdown",
   "metadata": {},
   "source": [
    "### Problem\n",
    "Given an array of positive integers, find the minimum number of jumps required to get from the first index to the final one.\n",
    "\n",
    "Sample input:\n",
    "```\n",
    "array = [4, 2, 1, 1, 3, 1, 2, 1]\n",
    "```\n",
    "\n",
    "Sample output:\n",
    "```\n",
    "2   (4 --> 3 --> 1)\n",
    "```\n",
    "\n",
    "Note that jumping from index `i` to index `i + X` is still one jump, regardless of the size of X"
   ]
  },
  {
   "cell_type": "markdown",
   "metadata": {},
   "source": [
    "We build a new array to store minimum number of jumps from index 0 to rest of indices. \n",
    "    \n",
    "The first is 0. (since step required to jump from an index to itself is zero)\n",
    "\n",
    "Progressively build the array using the previously computed min jumps."
   ]
  },
  {
   "cell_type": "code",
   "execution_count": 7,
   "metadata": {},
   "outputs": [],
   "source": [
    "def minJumps(array):\n",
    "    \"\"\"O(n) space | O(n^2) time, since for every index, we are checking all elements to its left\"\"\"\n",
    "    \n",
    "    jumps = [float('inf') for i in array]\n",
    "    jumps[0] = 0\n",
    "    for i in range(1, len(array)):\n",
    "        for j in range(0, i):\n",
    "            # check if value before i (array[j]), if the step j is added to it, will it exceed i\n",
    "            if array[j] + j >= i:\n",
    "                jumps[i] = min(jumps[i], jumps[j] + 1)\n",
    "    # the last element contains the min jumps required to reach the end of array\n",
    "    return jumps[-1]        "
   ]
  },
  {
   "cell_type": "code",
   "execution_count": 8,
   "metadata": {},
   "outputs": [
    {
     "data": {
      "text/plain": [
       "2"
      ]
     },
     "execution_count": 8,
     "metadata": {},
     "output_type": "execute_result"
    }
   ],
   "source": [
    "minJumps([4, 2, 1, 1, 3, 1, 2, 1])"
   ]
  }
 ],
 "metadata": {
  "kernelspec": {
   "display_name": "Python 3",
   "language": "python",
   "name": "python3"
  },
  "language_info": {
   "codemirror_mode": {
    "name": "ipython",
    "version": 3
   },
   "file_extension": ".py",
   "mimetype": "text/x-python",
   "name": "python",
   "nbconvert_exporter": "python",
   "pygments_lexer": "ipython3",
   "version": "3.7.6"
  }
 },
 "nbformat": 4,
 "nbformat_minor": 4
}
