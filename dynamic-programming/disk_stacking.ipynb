{
 "cells": [
  {
   "cell_type": "markdown",
   "metadata": {},
   "source": [
    "### Disk stacking\n",
    "An array's element represents a disk. Each element has `[length, width, height]`\n",
    "Write a function that will stack the disks and build a tower with the greatest height, such that each disk has strictly lower dimensions than those below it.\n",
    "\n",
    "Sample input\n",
    "```\n",
    "array = [[2, 1, 2], [3, 2, 3], [2, 2, 8], [2, 3, 4], [1, 3, 1], [4, 4, 5]]\n",
    "```\n",
    "\n",
    "Sample output:\n",
    "```\n",
    "[[4, 4, 5], [3, 2, 3], [2, 1, 2]]\n",
    "\n",
    "The tower looks something like this\n",
    "\n",
    "        [2, 1, 2]\n",
    "       [ 3, 2, 3 ]\n",
    "      [4,   4,   5]\n",
    "```\n"
   ]
  },
  {
   "cell_type": "code",
   "execution_count": 57,
   "metadata": {},
   "outputs": [],
   "source": [
    "def diskStacking(disks):\n",
    "    \"\"\"O(n) space, O(n^2) time\"\"\"\n",
    "    # sort based on height\n",
    "    disks.sort(key=lambda disk: disk[2])\n",
    "    diskHeights = [disk[2] for disk in disks]\n",
    "    sequences = [None for disk in disks]\n",
    "    \n",
    "    # maxHeightIndex\n",
    "    maxHeightIndex = 0\n",
    "    \n",
    "    for i in range(1, len(disks)):\n",
    "        currentDisk = disks[i]\n",
    "        for j in range(0, i):\n",
    "            otherDisk = disks[j]\n",
    "            # validate dimensions\n",
    "            if areValidDimensions(otherDisk, currentDisk):\n",
    "                if diskHeights[i] <= currentDisk[2] + diskHeights[j]:\n",
    "                    diskHeights[i] = currentDisk[2] + diskHeights[j]\n",
    "                    sequences[i] = j\n",
    "        # update maxHeightIndex: which will help us backtrack to find the disks involved.\n",
    "        if diskHeights[i] >= diskHeights[maxHeightIndex]:\n",
    "            maxHeightIndex = i\n",
    "    return buildSequence(disks, sequences, maxHeightIndex)\n",
    "    \n",
    "def buildSequence(array, sequences, currentIdx):\n",
    "    results = []\n",
    "    while currentIdx is not None:\n",
    "        results.append(disks[currentIdx])\n",
    "        currentIdx = sequences[currentIdx]\n",
    "    return results\n",
    "        \n",
    "def areValidDimensions(o, c):\n",
    "    return o[0] < c[0] and o[1] < c[1] and o[2] < c[2]\n"
   ]
  },
  {
   "cell_type": "code",
   "execution_count": 58,
   "metadata": {},
   "outputs": [
    {
     "data": {
      "text/plain": [
       "[[4, 4, 5], [3, 2, 3], [2, 1, 2]]"
      ]
     },
     "execution_count": 58,
     "metadata": {},
     "output_type": "execute_result"
    }
   ],
   "source": [
    "disks = [[2, 1, 2], [3, 2, 3], [2, 2, 8], [2, 3, 4], [1, 3, 1], [4, 4, 5]]\n",
    "diskStacking(disks)"
   ]
  },
  {
   "cell_type": "code",
   "execution_count": null,
   "metadata": {},
   "outputs": [],
   "source": []
  }
 ],
 "metadata": {
  "kernelspec": {
   "display_name": "Python 3",
   "language": "python",
   "name": "python3"
  },
  "language_info": {
   "codemirror_mode": {
    "name": "ipython",
    "version": 3
   },
   "file_extension": ".py",
   "mimetype": "text/x-python",
   "name": "python",
   "nbconvert_exporter": "python",
   "pygments_lexer": "ipython3",
   "version": "3.7.6"
  }
 },
 "nbformat": 4,
 "nbformat_minor": 4
}
