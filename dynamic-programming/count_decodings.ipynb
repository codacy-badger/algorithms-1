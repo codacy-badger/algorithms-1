{
 "cells": [
  {
   "cell_type": "markdown",
   "metadata": {},
   "source": [
    "## Count number of ways to decode.\n",
    "\n",
    "Given the mapping a = 1, b = 2, ... z = 26, and an encoded message, count the number of ways it can be decoded.\n",
    "\n",
    "For example, the message '111' would give 3, since it could be decoded as 'aaa', 'ka', and 'ak'.\n",
    "\n",
    "You can assume that the messages are decodable. For example, '001' is not allowed."
   ]
  },
  {
   "cell_type": "markdown",
   "metadata": {},
   "source": [
    "### Solution\n",
    "Let's at some cases to build our approach:\n",
    "\n",
    "\n",
    "- \"\", the empty string and our base case, should return 1.\n",
    "- \"1\" should return 1, since we can parse it as \"a\" + \"\".\n",
    "- \"11\" should return 2, since we can parse it as \"a\" + \"a\" + \"\" and \"k\" + \"\".\n",
    "- \"111\" should return 3, since we can parse it as:\n",
    "    - \"a\" + \"k\" + \"\"\n",
    "    - \"k\" + \"a\" + \"\"\n",
    "    - \"a\" + \"a\" + \"a\" + \"\".\n",
    "- \"011\" should return 0, since no letter starts with 0 in our mapping.\n",
    "- \"705\" should also return 0 since no letter starts with 0 just as the example above.\n",
    "\n",
    "We can use dynamic programming to cache computed steps for a string with one letter, two letters, three, all the way to the end of the string.\n",
    "\n",
    "Our cache can contain zeros first. \n",
    "\n",
    "- Starting from the first digit, to decode it, there's only one way, since a single digit maps directly (only once) to its respective letter. Therefore, `cache[0] = 1.` \n",
    "- We build up the cache by incrementing the previously saved total by 1 if and only if the sliced current number falls under 26, inclusive.\n",
    "\n",
    "Eventually after traversing the string, we'll return the last element in our cache list, since it contains the total number of ways to decode the string."
   ]
  },
  {
   "cell_type": "code",
   "execution_count": 18,
   "metadata": {},
   "outputs": [],
   "source": [
    "def num_decodings(s) -> int:\n",
    "    cache = [0 for i in range(len(s))]\n",
    "    for i in range(len(s)):\n",
    "        if s[i].startswith('0'):\n",
    "            cache[i] = 0\n",
    "        elif i == 0:\n",
    "            cache[i] = 1\n",
    "        else:\n",
    "            num = int(s[i-1:i+1])\n",
    "            if num <= 26:\n",
    "                cache[i] = cache[i - 1] + 1\n",
    "            else:\n",
    "                cache[i] = cache[i - 1]\n",
    "    return cache[-1]"
   ]
  },
  {
   "cell_type": "code",
   "execution_count": 21,
   "metadata": {},
   "outputs": [
    {
     "data": {
      "text/plain": [
       "3"
      ]
     },
     "execution_count": 21,
     "metadata": {},
     "output_type": "execute_result"
    }
   ],
   "source": [
    "num_decodings(\"111\")"
   ]
  },
  {
   "cell_type": "code",
   "execution_count": 22,
   "metadata": {},
   "outputs": [
    {
     "data": {
      "text/plain": [
       "2"
      ]
     },
     "execution_count": 22,
     "metadata": {},
     "output_type": "execute_result"
    }
   ],
   "source": [
    "num_decodings(\"1011\")  # (10, 11) and # (10, 1, 1) so 2 ways."
   ]
  }
 ],
 "metadata": {
  "kernelspec": {
   "display_name": "Python 3",
   "language": "python",
   "name": "python3"
  },
  "language_info": {
   "codemirror_mode": {
    "name": "ipython",
    "version": 3
   },
   "file_extension": ".py",
   "mimetype": "text/x-python",
   "name": "python",
   "nbconvert_exporter": "python",
   "pygments_lexer": "ipython3",
   "version": "3.7.6"
  }
 },
 "nbformat": 4,
 "nbformat_minor": 4
}
