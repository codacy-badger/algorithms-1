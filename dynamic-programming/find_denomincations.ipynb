{
 "cells": [
  {
   "cell_type": "markdown",
   "metadata": {},
   "source": [
    "### Problem\n",
    "You are given an array of length N, where each element i represents the number of ways we can produce i units of change. For example, [1, 0, 1, 1, 2] shows that there is only one way to make [0, 2, or 3] units, and 2 ways of making 4 units.\n",
    "\n",
    "Given such an array, determine the denominations that must be in use. In the case above, there must be coins with value 2, 3, and 4."
   ]
  },
  {
   "cell_type": "markdown",
   "metadata": {},
   "source": [
    "## Approach\n",
    "\n",
    "There are two situation that will make the value at that index i be incremented:\n",
    "    1. Coin **`i`** is one of the denominations\n",
    "    2. Another coin j is one of the denominations and the value of array[i - j] is also non-zero\n",
    "    \n",
    "For each index:\n",
    "- Check the lower denominations j that are known to be part of the solution.\n",
    "- Each time we find `i - j` to be non-zero, we have encountered one of the ways of getting to element `i`, so we decrement the value at that index by 1.\n",
    "- If after going through all coins and the value at that index is still positive, we know that we must include `i` as part of the solution\n",
    "\n",
    "We must take note not to double count. For example, when `i == 7` and [3, 4] are in our solution set, that is one way of producing 7.\n",
    "When two coins sum up to an index, only the lower one cause us to decrement the value at that index.\n",
    "\n",
    "    "
   ]
  },
  {
   "cell_type": "code",
   "execution_count": 14,
   "metadata": {},
   "outputs": [],
   "source": [
    "def find_denominations(array):\n",
    "    coins = set()\n",
    "    # start from index 1, and start counting from 1 (not zero-based index)\n",
    "    for i, val in enumerate(array[1:], 1):\n",
    "        if val > 0:\n",
    "            for j in coins:\n",
    "                if array[i - j] > 0 and i - j not in coins or (i - j) <= j:\n",
    "                    val -= 1\n",
    "            if i > 0:\n",
    "                coins.add(i)\n",
    "    return coins"
   ]
  },
  {
   "cell_type": "code",
   "execution_count": 15,
   "metadata": {},
   "outputs": [
    {
     "data": {
      "text/plain": [
       "{2, 3, 4}"
      ]
     },
     "execution_count": 15,
     "metadata": {},
     "output_type": "execute_result"
    }
   ],
   "source": [
    "find_denominations([1, 0, 1, 1, 2])"
   ]
  },
  {
   "cell_type": "code",
   "execution_count": null,
   "metadata": {},
   "outputs": [],
   "source": []
  }
 ],
 "metadata": {
  "kernelspec": {
   "display_name": "Python 3",
   "language": "python",
   "name": "python3"
  },
  "language_info": {
   "codemirror_mode": {
    "name": "ipython",
    "version": 3
   },
   "file_extension": ".py",
   "mimetype": "text/x-python",
   "name": "python",
   "nbconvert_exporter": "python",
   "pygments_lexer": "ipython3",
   "version": "3.7.6"
  }
 },
 "nbformat": 4,
 "nbformat_minor": 4
}
