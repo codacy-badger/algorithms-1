{
 "cells": [
  {
   "cell_type": "markdown",
   "metadata": {},
   "source": [
    "## Minumum squares that sum to n\n",
    "\n",
    "Given a positive integer n, find the smallest number of squared integers which sum to n.\n",
    "\n",
    "For example, given n = 13, return 2 since 13 = 32 + 22 = 9 + 4.\n",
    "\n",
    "Given n = 27, return 3 since 27 = 32 + 32 + 32 = 9 + 9 + 9."
   ]
  },
  {
   "cell_type": "markdown",
   "metadata": {},
   "source": [
    "### Naive Approach\n",
    "We can use a recursive approach to naively solve this problem:\n",
    "- Iterate through from 1 to sqrt(n)\n",
    "- Recursively find the minimum number of squares needed to sum to `n - i * i`\n",
    "- Pick the minimum of those plus 1\n",
    "- Base case is when n == 0"
   ]
  },
  {
   "cell_type": "code",
   "execution_count": 1,
   "metadata": {},
   "outputs": [],
   "source": [
    "from math import inf\n",
    "\n",
    "def num_squares(n):\n",
    "    if n == 0:\n",
    "        return 0\n",
    "    \n",
    "    min_num_squares = inf\n",
    "    i = 1\n",
    "    while n - i * i >= 0:\n",
    "        min_num_squares = min(min_num_squares, num_squares(n - i * i) + 1)\n",
    "        i += 1\n",
    "        \n",
    "    return min_num_squares"
   ]
  },
  {
   "cell_type": "code",
   "execution_count": 2,
   "metadata": {},
   "outputs": [
    {
     "data": {
      "text/plain": [
       "3"
      ]
     },
     "execution_count": 2,
     "metadata": {},
     "output_type": "execute_result"
    }
   ],
   "source": [
    "num_squares(27)"
   ]
  },
  {
   "cell_type": "markdown",
   "metadata": {},
   "source": [
    "### DP Approach\n"
   ]
  }
 ],
 "metadata": {
  "kernelspec": {
   "display_name": "Python 3",
   "language": "python",
   "name": "python3"
  },
  "language_info": {
   "codemirror_mode": {
    "name": "ipython",
    "version": 3
   },
   "file_extension": ".py",
   "mimetype": "text/x-python",
   "name": "python",
   "nbconvert_exporter": "python",
   "pygments_lexer": "ipython3",
   "version": "3.7.6"
  }
 },
 "nbformat": 4,
 "nbformat_minor": 4
}
