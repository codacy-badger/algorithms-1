{
 "cells": [
  {
   "cell_type": "markdown",
   "metadata": {},
   "source": [
    "## Problem\n",
    "An array of integers represents a Binary Search Tree(BST) obtained by inserting each integer into the array (from left to right) into the BST. \n",
    "\n",
    "Without constructing a BST tree, write a function that returns a boolean indicating whether the two arrays represent the same BST.\n",
    "\n",
    "A BST tree is a tree that consists of only BST nodes. A node is said to be a BST node if it meets the BST property: its value is strictly greater than the values of the every node to its left; its value is less or equal to the nodes to its right, and its children nodes are also BST nodes or Null values.\n",
    "\n",
    "Sample input: \n",
    "[10, 15, 8, 12, 92, 81, 5, 2, 11]\n",
    "[10, 8, 5, 15, 2, 12, 11, 94, 81]\n",
    "\n",
    "Sample output: True"
   ]
  },
  {
   "cell_type": "code",
   "execution_count": 2,
   "metadata": {},
   "outputs": [],
   "source": [
    "## Solution\n",
    "def is_same_bst(arr_1, arr_2):\n",
    "    if len(arr_1) != len(arr_2):\n",
    "        return False\n",
    "    \n",
    "    if len(arr_1) == 0 and len(arr_2) == 0:\n",
    "        return True\n",
    "    \n",
    "    if arr_1[0] != arr_2[0]:\n",
    "        return False\n",
    "    \n",
    "    left_subtree_1 = get_smaller(arr_1)\n",
    "    left_subtree_2 = get_smaller(arr_2)\n",
    "    right_subtree_1 = get_bigger_or_equal(arr_1)\n",
    "    right_subtree_2 = get_bigger_or_equal(arr_2)\n",
    "    \n",
    "    return is_same_bst(left_subtree_1, left_subtree_2) and is_same_bst(right_subtree_1, right_subtree_2)\n",
    "    \n",
    "\n",
    "def get_smaller(array):\n",
    "    node = array[0]\n",
    "    # from the second index onwards (array[1:]) ... check BST property against array[0]\n",
    "    smaller = [i for i in array[1:] if i < node]\n",
    "    return smaller\n",
    "\n",
    "def get_bigger_or_equal(array):\n",
    "    node = array[0]\n",
    "    # from the second index onwards (array[1:]) ... check BST property against array[0]\n",
    "    bigger = [i for i in array[1:] if i >= node]\n",
    "    return bigger\n",
    "    "
   ]
  },
  {
   "cell_type": "code",
   "execution_count": 4,
   "metadata": {},
   "outputs": [
    {
     "data": {
      "text/plain": [
       "False"
      ]
     },
     "execution_count": 4,
     "metadata": {},
     "output_type": "execute_result"
    }
   ],
   "source": [
    "array_1 = [10, 15, 12, 94, 2]\n",
    "array_2 = [10, 15, 12, 94]\n",
    "is_same_bst(array_1, array_2)"
   ]
  },
  {
   "cell_type": "code",
   "execution_count": null,
   "metadata": {},
   "outputs": [],
   "source": []
  }
 ],
 "metadata": {
  "kernelspec": {
   "display_name": "Python 3",
   "language": "python",
   "name": "python3"
  },
  "language_info": {
   "codemirror_mode": {
    "name": "ipython",
    "version": 3
   },
   "file_extension": ".py",
   "mimetype": "text/x-python",
   "name": "python",
   "nbconvert_exporter": "python",
   "pygments_lexer": "ipython3",
   "version": "3.7.4"
  }
 },
 "nbformat": 4,
 "nbformat_minor": 2
}
