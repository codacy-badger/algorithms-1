{
 "cells": [
  {
   "cell_type": "markdown",
   "metadata": {},
   "source": [
    "### Construct a Min Height BST\n",
    "Given an sorted array of integers, construct a min-height Binary Search Tree and return the root. All the BST rules apply.\n",
    "\n",
    "```\n",
    "Sample input:\n",
    "    [1, 2, 3, 5, 10, 12, 15, 20, 24]\n",
    "  \n",
    "Sample output:\n",
    "              10\n",
    "            /    \\\n",
    "          2        15\n",
    "         / \\      /  \\\n",
    "         1  3     12  20\n",
    "             \\          \\ \n",
    "             5          24\n",
    "```"
   ]
  },
  {
   "cell_type": "code",
   "execution_count": 1,
   "metadata": {},
   "outputs": [],
   "source": [
    "# First Approach\n",
    "def bst_constructor(A):\n",
    "    \"\"\"Complexity\n",
    "        O(N log N) time where N is the total number of elements in the array\n",
    "        O(N) space\n",
    "    \"\"\"\n",
    "    if len(A) == 1:\n",
    "        return BST(A[0])\n",
    "    \n",
    "    return bst_helper(A, None, 0, len(A) - 1)\n",
    "\n",
    "def bst_helper(A, bst, start, end):\n",
    "    # base case\n",
    "    if start > end:\n",
    "        return\n",
    "    else:\n",
    "        mid = (start + end) // 2\n",
    "        value_to_add = A[mid]\n",
    "        if bst is None:\n",
    "            # create the root\n",
    "            bst = BST(value_to_add)\n",
    "        else:\n",
    "            bst.insert(value_to_add)\n",
    "        bst_helper(A, bst, start, mid - 1)\n",
    "        bst_helper(A, bst, mid + 1, end)\n",
    "    return bst\n",
    "\n",
    "class BST:\n",
    "    def __init__(self, value):\n",
    "        self.value = value\n",
    "        self.left = None\n",
    "        self.right = None\n",
    "        \n",
    "    def insert(self, value):\n",
    "        if value_to_add < self.value:\n",
    "            if self.left is None:\n",
    "                self.left = BST(value_to_add)\n",
    "            else:\n",
    "                self.left.insert(value_to_add)\n",
    "        else:\n",
    "            if self.right is None:\n",
    "                self.right = BST(value_to_add)\n",
    "            else:\n",
    "                self.right.insert(value_to_add)\n"
   ]
  },
  {
   "cell_type": "code",
   "execution_count": 3,
   "metadata": {},
   "outputs": [],
   "source": [
    "# Second approach\n",
    "def bst_constructor(array):\n",
    "    \"\"\"O(n) time | O(n) space\"\"\"\n",
    "    return bst_constructor_helper(array, None, 0, len(array) - 1)\n",
    "\n",
    "def bst_constructor_helper(array, bst, start_index, end_index):\n",
    "    if end_index < start_index:\n",
    "        return\n",
    "    else:\n",
    "        mid_index = (start_index + end_index) // 2\n",
    "        new_bst_node = BST(array[mid_index]) \n",
    "        if bst is None:\n",
    "            bst = new_bst_node\n",
    "        else:\n",
    "            if array[mid_index] < bst.value:\n",
    "                bst.left = BST(array[mid_index])\n",
    "                bst = bst.left\n",
    "            else:\n",
    "                bst.right = BST(array[mid_index])\n",
    "                bst = bst.right\n",
    "        \n",
    "        bst_constructor_helper(array, bst, start_index, mid_index - 1)\n",
    "        bst_constructor_helper(array, bst, mid_index + 1, end_index)\n",
    "        return bst"
   ]
  },
  {
   "cell_type": "code",
   "execution_count": 4,
   "metadata": {},
   "outputs": [],
   "source": [
    "# Third approach\n",
    "def bst_construct(A):\n",
    "    \"\"\"O(n) time | O(n) space\"\"\"\n",
    "    return bst_construct_helper(A, 0, len(A) - 1)\n",
    "\n",
    "def bst_construct_helper(A, start, end):\n",
    "    # base case\n",
    "    if end < start:\n",
    "        return None\n",
    "    mid = (start + end) // 2\n",
    "    bst = BST(A[mid])\n",
    "    bst.left = bst_construct_helper(A, start, mid - 1)\n",
    "    bst.right = bst_construct_helper(A, mid + 1, end)\n",
    "    return bst\n"
   ]
  },
  {
   "cell_type": "code",
   "execution_count": 9,
   "metadata": {},
   "outputs": [
    {
     "name": "stdout",
     "output_type": "stream",
     "text": [
      "2, 1, 4\n"
     ]
    }
   ],
   "source": [
    "root = bst_construct([1, 2, 4])\n",
    "print(f\"{root.value}, {root.left.value}, {root.right.value}\")"
   ]
  },
  {
   "cell_type": "code",
   "execution_count": null,
   "metadata": {},
   "outputs": [],
   "source": []
  }
 ],
 "metadata": {
  "kernelspec": {
   "display_name": "Python 3",
   "language": "python",
   "name": "python3"
  },
  "language_info": {
   "codemirror_mode": {
    "name": "ipython",
    "version": 3
   },
   "file_extension": ".py",
   "mimetype": "text/x-python",
   "name": "python",
   "nbconvert_exporter": "python",
   "pygments_lexer": "ipython3",
   "version": "3.7.6"
  }
 },
 "nbformat": 4,
 "nbformat_minor": 4
}
