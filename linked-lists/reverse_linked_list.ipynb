{
 "cells": [
  {
   "cell_type": "code",
   "execution_count": 1,
   "metadata": {},
   "outputs": [],
   "source": [
    "### Reverse a linked-list, given the head of the linkedlist. Return the new head.\n",
    "def reverse(head):\n",
    "    \"\"\"Reverse In place. \n",
    "    O(1) space | O(n) time, where n = number of nodes in the linked list.\n",
    "    \"\"\"\n",
    "    previous_node = None\n",
    "    current_node = head\n",
    "\n",
    "    while current_node is not None:\n",
    "        next_node = current_node.next\n",
    "        current_node.next = previous_node\n",
    "        previous_node = current_node\n",
    "        current_node = next_node\n",
    "    \n",
    "    # we return the previous node because the current is now None (new tail)\n",
    "    return previous_node"
   ]
  },
  {
   "cell_type": "code",
   "execution_count": null,
   "metadata": {},
   "outputs": [],
   "source": []
  }
 ],
 "metadata": {
  "kernelspec": {
   "display_name": "Python 3",
   "language": "python",
   "name": "python3"
  },
  "language_info": {
   "codemirror_mode": {
    "name": "ipython",
    "version": 3
   },
   "file_extension": ".py",
   "mimetype": "text/x-python",
   "name": "python",
   "nbconvert_exporter": "python",
   "pygments_lexer": "ipython3",
   "version": "3.7.6"
  }
 },
 "nbformat": 4,
 "nbformat_minor": 4
}
