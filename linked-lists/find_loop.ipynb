{
 "cells": [
  {
   "cell_type": "markdown",
   "metadata": {},
   "source": [
    "### Looped linked list\n",
    "Write a function that takes in the head of a linked list and returns the node from which the loop originates, in constant space.\n",
    "\n",
    "Sample input:\n",
    "```\n",
    "1 -> 2 -> 3 -> 4\n",
    "          ^     V\n",
    "          6 <-  5\n",
    "```\n",
    "\n",
    "Sample output:\n",
    "```\n",
    "3 -> 4\n",
    "|    |\n",
    "6 <- 5\n",
    "```"
   ]
  },
  {
   "cell_type": "code",
   "execution_count": 3,
   "metadata": {},
   "outputs": [],
   "source": [
    "class LinkedList:\n",
    "    def __init__(self, value):\n",
    "        self.value = value\n",
    "        self.next = None\n",
    "\n",
    "def findLoop(head):\n",
    "    \"\"\"Use two pointers: Traverse the list with one iterating once, and the other jumping one node. \n",
    "    They eventually overlap at a point D, where the distance is equivalent to start of the list to the point where the loop is.\n",
    "    We can therefore obtain that loop point by taking the first pointer back to the head, then iterating both pointers one step until they converge at that point.\n",
    "    \n",
    "    Time: O(n) | Space: O(1), where n = number of nodes in linked list\"\"\"\n",
    "    first = head.next\n",
    "    second = head.next.next\n",
    "    \n",
    "    while first != second:\n",
    "        first = first.next\n",
    "        second = second.next.next\n",
    "    first = head\n",
    "    while first != second:\n",
    "        first = first.next\n",
    "        second = second.next\n",
    "    return first"
   ]
  },
  {
   "cell_type": "code",
   "execution_count": null,
   "metadata": {},
   "outputs": [],
   "source": []
  }
 ],
 "metadata": {
  "kernelspec": {
   "display_name": "Python 3",
   "language": "python",
   "name": "python3"
  },
  "language_info": {
   "codemirror_mode": {
    "name": "ipython",
    "version": 3
   },
   "file_extension": ".py",
   "mimetype": "text/x-python",
   "name": "python",
   "nbconvert_exporter": "python",
   "pygments_lexer": "ipython3",
   "version": "3.7.6"
  }
 },
 "nbformat": 4,
 "nbformat_minor": 4
}
