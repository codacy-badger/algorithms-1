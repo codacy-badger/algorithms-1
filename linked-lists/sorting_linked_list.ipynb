{
 "cells": [
  {
   "cell_type": "markdown",
   "metadata": {},
   "source": [
    "## Problem\n",
    "Given a linked list, sort it in **O(n log N)** time and **constant** space.\n",
    "For example: the linked list 4 -> 1 -> -3 -> 99 should become\n",
    "-3 -> 1 -> 4 -> 99"
   ]
  },
  {
   "cell_type": "markdown",
   "metadata": {},
   "source": [
    "## Solution\n",
    "We can sort a linked list in O(n log n) by doing something like merge sort:\n",
    "\n",
    "- Split the list by half using fast and slow pointers\n",
    "- Recursively sort each half list (base case: when size of list is 1)\n",
    "- Merge the sorted halves together by using the standard merge algorithm\n",
    "\n",
    "However, since we are dividing the list in half and recursively sorting it, the function call stack will grow and use up to log n space. We want to do it in constant O(1) space.\n",
    "\n",
    "Since the problem comes from the call stack (built by recursion), we can transform the algorithm into an iterative one and keep track of the array indices ourselves to use only constant space.\n",
    "We can do this by merging blocks at a time from the bottom-up. \n",
    "\n",
    "Let k be equal to 1. Then  we'll merge lists of size k into list of size 2k.\n",
    "\n",
    "Then double k and repeat, until there are no more merges left.\n",
    "\n",
    "Consider this example: \n",
    "```\n",
    "linked list 8 -> 6 -> 3 -> 21 -> 23 -> 5\n",
    "```\n",
    "\n",
    "After the first pass, we'll combine all pairs so that they are sorted:\n",
    "```\n",
    "6 -> 8 -> 3 -> 21 -> 5 -> 23\n",
    "```\n",
    "And then all groups of 3:\n",
    "```\n",
    "3 -> 6 -> 8 and 5 -> 21 -> 23\n",
    "```\n",
    "And then finally the entire list\n",
    "```\n",
    "3 -> 5 -> 6 -> 8 -> 21 -> 23\n",
    "```"
   ]
  },
  {
   "cell_type": "code",
   "execution_count": null,
   "metadata": {},
   "outputs": [],
   "source": [
    "class Node:\n",
    "    def __init__(self, value, nxt=None):\n",
    "        self.value = value\n",
    "        self.next = nxt\n",
    "\n",
    "def sort(head):\n",
    "    if not head:\n",
    "        return head\n",
    "        "
   ]
  }
 ],
 "metadata": {
  "kernelspec": {
   "display_name": "Python 3",
   "language": "python",
   "name": "python3"
  },
  "language_info": {
   "codemirror_mode": {
    "name": "ipython",
    "version": 3
   },
   "file_extension": ".py",
   "mimetype": "text/x-python",
   "name": "python",
   "nbconvert_exporter": "python",
   "pygments_lexer": "ipython3",
   "version": "3.6.5"
  }
 },
 "nbformat": 4,
 "nbformat_minor": 2
}
