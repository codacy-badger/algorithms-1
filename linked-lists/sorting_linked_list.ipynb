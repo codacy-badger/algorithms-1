{
 "cells": [
  {
   "cell_type": "markdown",
   "metadata": {},
   "source": [
    "## Problem\n",
    "Given a linked list, sort it in **O(n log N)** time and **constant** space.\n",
    "For example: the linked list 4 -> 1 -> -3 -> 99 should become\n",
    "-3 -> 1 -> 4 -> 99"
   ]
  },
  {
   "cell_type": "markdown",
   "metadata": {},
   "source": [
    "## Solution\n",
    "We can sort a linked list in O(n log n) by doing something like merge sort:\n",
    "\n",
    "- Split the list by half using fast and slow pointers\n",
    "- Recursively sort each half list (base case: when size of list is 1)\n",
    "- Merge the sorted halves together by using the standard merge algorithm\n",
    "\n",
    "However, since we are dividing the list in half and recursively sorting it, the function call stack will grow and use up to log n space. We want to do it in constant O(1) space.\n",
    "\n",
    "Since the problem comes from the call stack (built by recursion), we can transform the algorithm into an iterative one and keep track of the array indices ourselves to use only constant space.\n",
    "We can do this by merging blocks at a time from the bottom-up. \n",
    "\n",
    "Let k be equal to 1. Then  we'll merge lists of size k into list of size 2k.\n",
    "\n",
    "Then double k and repeat, until there are no more merges left.\n",
    "\n",
    "Consider this example: \n",
    "```\n",
    "linked list:\n",
    "    8 -> 6 -> 3 -> 21 -> 23 -> 5\n",
    "```\n",
    "\n",
    "After the first pass, we'll combine all pairs so that they are sorted:\n",
    "```\n",
    "(6 -> 8) -> and -> (3 -> 21) -> and -> (5 -> 23)\n",
    "```\n",
    "And then all groups of 4 (since we doubled k, so k=2 * 2):\n",
    "```\n",
    "(3 -> 6 -> 8 -> 21 ) ->and->   (5 -> 23)\n",
    "```\n",
    "And then finally the entire list\n",
    "```\n",
    "3 -> 5 -> 6 -> 8 -> 21 -> 23 (now sorted!)\n",
    "```"
   ]
  },
  {
   "cell_type": "code",
   "execution_count": 2,
   "metadata": {},
   "outputs": [],
   "source": [
    "class Node:\n",
    "    def __init__(self, value, nxt=None):\n",
    "        self.value = value\n",
    "        self.next = nxt\n",
    "\n",
    "def sort(head):\n",
    "    if not head:\n",
    "        # empty linked list. return\n",
    "        return head\n",
    "    \n",
    "    k = 1\n",
    "    while True:\n",
    "        first = head\n",
    "        head = None\n",
    "        tail = None\n",
    "        \n",
    "        merges = 0\n",
    "        while first:\n",
    "            merges += 1\n",
    "            \n",
    "            # Move second 'k' steps forward.\n",
    "            second = first\n",
    "            first_size = 0\n",
    "            for i in range(k):\n",
    "                first_size += 1\n",
    "                second = second.next\n",
    "                if second is None:\n",
    "                    # list contains only one node. break.\n",
    "                    break\n",
    "            \n",
    "            # Merge lists \"first\" and \"second\"\n",
    "            second_size = k\n",
    "            while first_size > 0 or (second_size > 0 and second is not None):\n",
    "                temp = None\n",
    "                \n",
    "                if first_size == 0:\n",
    "                    temp = second\n",
    "                    second = second.next\n",
    "                    second_size -= 1\n",
    "                elif second_size == 0 or second is None:\n",
    "                    temp = first\n",
    "                    first = first.next\n",
    "                    first_size -= 1\n",
    "                elif first.value <= second.value:\n",
    "                    temp = first\n",
    "                    first = first.next\n",
    "                    first_size -= 1\n",
    "                else:\n",
    "                    temp = second\n",
    "                    second = second.next\n",
    "                    second_size -= 1\n",
    "\n",
    "                if tail is not None:\n",
    "                    tail.next = temp\n",
    "                else:\n",
    "                    head = temp\n",
    "                tail = temp\n",
    "            \n",
    "            first = second\n",
    "            \n",
    "        tail.next = None\n",
    "        if merges <= 1:\n",
    "            return head\n",
    "        \n",
    "        k = k * 2"
   ]
  },
  {
   "cell_type": "code",
   "execution_count": 5,
   "metadata": {},
   "outputs": [
    {
     "data": {
      "text/plain": [
       "[3, 5, 6, 8, 12, 20, 21]"
      ]
     },
     "execution_count": 5,
     "metadata": {},
     "output_type": "execute_result"
    }
   ],
   "source": [
    "# test with linked list: 8 -> 6 -> 3 -> 21 -> 12 -> 20 -> 5\n",
    "linked_list = Node(8, nxt=Node(6, nxt=Node(3, nxt=Node(21, nxt=Node(12, nxt=Node(20, nxt=Node(5)))))))\n",
    "sorted_list = sort(linked_list)\n",
    "\n",
    "# traverse the linked list\n",
    "def traverse(head):\n",
    "    current = head\n",
    "    li = []\n",
    "    while current:\n",
    "        li.append(current.value)\n",
    "        current = current.next\n",
    "    return li\n",
    "\n",
    "traverse(sorted_list)"
   ]
  },
  {
   "cell_type": "code",
   "execution_count": null,
   "metadata": {},
   "outputs": [],
   "source": []
  },
  {
   "cell_type": "code",
   "execution_count": null,
   "metadata": {},
   "outputs": [],
   "source": []
  }
 ],
 "metadata": {
  "kernelspec": {
   "display_name": "Python 3",
   "language": "python",
   "name": "python3"
  },
  "language_info": {
   "codemirror_mode": {
    "name": "ipython",
    "version": 3
   },
   "file_extension": ".py",
   "mimetype": "text/x-python",
   "name": "python",
   "nbconvert_exporter": "python",
   "pygments_lexer": "ipython3",
   "version": "3.6.5"
  }
 },
 "nbformat": 4,
 "nbformat_minor": 2
}
