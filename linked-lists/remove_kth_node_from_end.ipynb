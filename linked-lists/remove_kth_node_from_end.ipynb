{
 "cells": [
  {
   "cell_type": "markdown",
   "metadata": {},
   "source": [
    "## Problem\n",
    "Write a function that takes in the head of a singly linked list, and an integer k (assume the list has at least k nodes). The function should remove the kth node from the end of the list.\n",
    "\n",
    "Every node has a value property to store its value and a next property to point to the next node in the linked list.\n",
    "\n",
    "Sample input: 1 -> 2 -> 3 -> 4 -> 5, 2\n",
    "Sample output: 1 -> 2 -> 3 -> 5"
   ]
  },
  {
   "cell_type": "code",
   "execution_count": 1,
   "metadata": {},
   "outputs": [],
   "source": [
    "class LinkedList:\n",
    "    def __init__(self, value):\n",
    "        self.value = value\n",
    "        self.next = None\n",
    "\n",
    "def remove_kth_node_from_end(head, k):\n",
    "    # Space: O(1) | Time: O(n) \n",
    "    counter = 1\n",
    "    first = head\n",
    "    second = head\n",
    "    \n",
    "    while counter <= k:\n",
    "        second = second.next\n",
    "        counter += 1\n",
    "    \n",
    "    if second is None:\n",
    "        # we're removing the head (first node)\n",
    "        head.value = head.next.value\n",
    "        head.next = head.next.next\n",
    "    \n",
    "    while second.next is not None:\n",
    "        first = first.next\n",
    "        second = second.next\n",
    "    # remove the kth node by skipping it (garbage collected)\n",
    "    first.next = first.next.next"
   ]
  },
  {
   "cell_type": "code",
   "execution_count": 12,
   "metadata": {},
   "outputs": [],
   "source": [
    "class LinkedList:\n",
    "    def __init__(self, value):\n",
    "        self.value = value\n",
    "        self.next = None\n",
    "        \n",
    "    def add_many(self, values):\n",
    "        # utility function to add many values in a linked list\n",
    "        current = self\n",
    "        while current.next is not None:\n",
    "            current = current.next\n",
    "        for value in values:\n",
    "            current.next = LinkedList(value)\n",
    "            current = current.next\n",
    "        return self\n",
    "    \n",
    "    def get_nodes_in_array(self):\n",
    "        current = self\n",
    "        nodes = []\n",
    "        while current is not None:\n",
    "            nodes.append(current.value)\n",
    "            current = current.next\n",
    "        return nodes"
   ]
  },
  {
   "cell_type": "code",
   "execution_count": 13,
   "metadata": {},
   "outputs": [
    {
     "data": {
      "text/plain": [
       "[0, 1, 2, 3, 5, 6, 7]"
      ]
     },
     "execution_count": 13,
     "metadata": {},
     "output_type": "execute_result"
    }
   ],
   "source": [
    "li = LinkedList(0).add_many([1, 2, 3, 4, 5, 6, 7])\n",
    "remove_kth_node_from_end(li, 4)\n",
    "li.get_nodes_in_array()"
   ]
  }
 ],
 "metadata": {
  "kernelspec": {
   "display_name": "Python 3",
   "language": "python",
   "name": "python3"
  },
  "language_info": {
   "codemirror_mode": {
    "name": "ipython",
    "version": 3
   },
   "file_extension": ".py",
   "mimetype": "text/x-python",
   "name": "python",
   "nbconvert_exporter": "python",
   "pygments_lexer": "ipython3",
   "version": "3.7.4"
  }
 },
 "nbformat": 4,
 "nbformat_minor": 2
}
