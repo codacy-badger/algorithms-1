{
 "cells": [
  {
   "cell_type": "markdown",
   "metadata": {},
   "source": [
    "## Problem\n",
    "Write a function that takes in the head of a singly linked list, and an integer k (assume the list has at least k nodes). The function should remove the kth node from the end of the list.\n",
    "\n",
    "Every node has a value property to store its value and a next property to point to the next node in the linked list.\n",
    "\n",
    "Sample input: 1 -> 2 -> 3 -> 4 -> 5, 2\n",
    "Sample output: 1 -> 2 -> 3 -> 5"
   ]
  },
  {
   "cell_type": "code",
   "execution_count": 1,
   "metadata": {},
   "outputs": [],
   "source": [
    "class LinkedList:\n",
    "    def __init__(self, value):\n",
    "        self.value = value\n",
    "        self.next = None\n",
    "\n",
    "def remove_kth_node_from_end(head, k):\n",
    "    # Space: O(1) | Time: O(n) \n",
    "    counter = 1\n",
    "    first = head\n",
    "    second = head\n",
    "    \n",
    "    while counter <= k:\n",
    "        second = second.next\n",
    "        counter += 1\n",
    "    \n",
    "    if second is None:\n",
    "        # we're removing the head (first node)\n",
    "        head.value = head.next.value\n",
    "        head.next = head.next.next\n",
    "    \n",
    "    while second.next is not None:\n",
    "        first = first.next\n",
    "        second = second.next\n",
    "    # remove the kth node by skipping it (garbage collected)\n",
    "    first.next = first.next.next"
   ]
  },
  {
   "cell_type": "code",
   "execution_count": 2,
   "metadata": {},
   "outputs": [],
   "source": [
    "class LinkedList:\n",
    "    def __init__(self, value):\n",
    "        self.value = value\n",
    "        self.next = None\n",
    "        \n",
    "    def add_many(self, values):\n",
    "        # utility function to add many values in a linked list\n",
    "        current = self\n",
    "        while current.next is not None:\n",
    "            current = current.next\n",
    "        for value in values:\n",
    "            current.next = LinkedList(value)\n",
    "            current = current.next\n",
    "        return self\n",
    "    \n",
    "    def get_nodes_in_array(self):\n",
    "        current = self\n",
    "        nodes = []\n",
    "        while current is not None:\n",
    "            nodes.append(current.value)\n",
    "            current = current.next\n",
    "        return nodes"
   ]
  },
  {
   "cell_type": "code",
   "execution_count": 3,
   "metadata": {},
   "outputs": [
    {
     "data": {
      "text/plain": [
       "[0, 1, 2, 3, 5, 6, 7]"
      ]
     },
     "execution_count": 3,
     "metadata": {},
     "output_type": "execute_result"
    }
   ],
   "source": [
    "li = LinkedList(0).add_many([1, 2, 3, 4, 5, 6, 7])\n",
    "remove_kth_node_from_end(li, 4)\n",
    "li.get_nodes_in_array()"
   ]
  },
  {
   "cell_type": "code",
   "execution_count": 7,
   "metadata": {},
   "outputs": [
    {
     "name": "stderr",
     "output_type": "stream",
     "text": [
      "..\n",
      "----------------------------------------------------------------------\n",
      "Ran 2 tests in 0.004s\n",
      "\n",
      "OK\n"
     ]
    },
    {
     "ename": "SystemExit",
     "evalue": "False",
     "output_type": "error",
     "traceback": [
      "An exception has occurred, use %tb to see the full traceback.\n",
      "\u001b[0;31mSystemExit\u001b[0m\u001b[0;31m:\u001b[0m False\n"
     ]
    },
    {
     "name": "stderr",
     "output_type": "stream",
     "text": [
      "/Users/jee/.pyenv/versions/miniconda3-latest/lib/python3.7/site-packages/IPython/core/interactiveshell.py:3334: UserWarning: To exit: use 'exit', 'quit', or Ctrl-D.\n",
      "  warn(\"To exit: use 'exit', 'quit', or Ctrl-D.\", stacklevel=1)\n"
     ]
    }
   ],
   "source": [
    "# feel free to run these unit tests \n",
    "import unittest\n",
    "\n",
    "class TestLinkedListKthRemoval(unittest.TestCase, LinkedList):  \n",
    "    def test_case_0(self):\n",
    "        linked_list = LinkedList(0).add_many(list(range(1,9)))\n",
    "        result = LinkedList(0).add_many(list(range(1, 8)))\n",
    "        remove_kth_node_from_end(linked_list, 1)\n",
    "        self.assertEqual(linked_list.get_nodes_in_array(), result.get_nodes_in_array())\n",
    "        \n",
    "    def test_case_1(self):\n",
    "        test = LinkedList(0).add_many([1, 2, 3, 4, 5, 6, 7, 8, 9])\n",
    "        remove_kth_node_from_end(test, 2)\n",
    "        expected = LinkedList(0).add_many([1, 2, 3, 4, 5, 6, 7, 9])\n",
    "        self.assertEqual(test.get_nodes_in_array(), expected.get_nodes_in_array())\n",
    "        \n",
    "if __name__ == \"__main__\":\n",
    "    unittest.main(argv=['first-arg-is-ignored'])"
   ]
  },
  {
   "cell_type": "code",
   "execution_count": null,
   "metadata": {},
   "outputs": [],
   "source": []
  },
  {
   "cell_type": "code",
   "execution_count": null,
   "metadata": {},
   "outputs": [],
   "source": []
  }
 ],
 "metadata": {
  "kernelspec": {
   "display_name": "Python 3",
   "language": "python",
   "name": "python3"
  },
  "language_info": {
   "codemirror_mode": {
    "name": "ipython",
    "version": 3
   },
   "file_extension": ".py",
   "mimetype": "text/x-python",
   "name": "python",
   "nbconvert_exporter": "python",
   "pygments_lexer": "ipython3",
   "version": "3.7.4"
  }
 },
 "nbformat": 4,
 "nbformat_minor": 2
}
