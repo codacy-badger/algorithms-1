{
 "cells": [
  {
   "cell_type": "markdown",
   "metadata": {},
   "source": [
    "## Find smallest missing positive integer\n",
    "Given an array of integers, find the first missing **positive** integer in linear time and constant space. \n",
    "\n",
    "In other words, find the lowest positive integer that does not exist in the array. The array can contain duplicates and negative numbers as well.\n",
    "\n",
    "For example, the input `[3, 4, -1, 1]` should give `2`. The input `[1, 2, 0]` should give 3.\n",
    "\n",
    "You can modify the input array in-place."
   ]
  },
  {
   "cell_type": "markdown",
   "metadata": {},
   "source": [
    "## Solution\n",
    "We could sort the list first but that takes O(N log (N)). We want a solution that works in O(N) time.\n",
    "\n",
    "We can follow the following steps to solve it:\n",
    "\n",
    "- pop the smallest value in the list. \n",
    "- If it's less than 0, we pop the next min value. \n",
    "- If not, check whether the `smallest + 1` exists in the array. Continue looping if this value exists in the array. Otherwise, return `smallest + 1`.\n",
    "- If we continously pop to the last element, return 1. This means that all the values were negative and the smallest positive integer is 1."
   ]
  },
  {
   "cell_type": "code",
   "execution_count": 19,
   "metadata": {},
   "outputs": [],
   "source": [
    "def first_missing_positive(array) -> int:\n",
    "    if len(array) == 0:\n",
    "        return 1\n",
    "    \n",
    "    while len(array) > 0:\n",
    "        smallest = array.pop(array.index(min(array)))\n",
    "        if smallest < 0:\n",
    "            continue\n",
    "        elif smallest + 1 in array:\n",
    "            continue\n",
    "        else:\n",
    "            return smallest + 1\n",
    "    return 1"
   ]
  },
  {
   "cell_type": "code",
   "execution_count": 20,
   "metadata": {},
   "outputs": [
    {
     "data": {
      "text/plain": [
       "1"
      ]
     },
     "execution_count": 20,
     "metadata": {},
     "output_type": "execute_result"
    }
   ],
   "source": [
    "first_missing_positive([-1, 0, 4, 5])"
   ]
  },
  {
   "cell_type": "markdown",
   "metadata": {},
   "source": [
    "Another way, although running in O(N) space, is to put all the numbers in a set and init a counter to 1. Then, continously increment the counter and check whether the value exists in the set."
   ]
  },
  {
   "cell_type": "code",
   "execution_count": 23,
   "metadata": {},
   "outputs": [],
   "source": [
    "def first_missing_positive(nums) -> int:\n",
    "    nums_set = set(nums)\n",
    "    i = 1\n",
    "    while i in nums_set:\n",
    "        i += 1\n",
    "    return i"
   ]
  },
  {
   "cell_type": "code",
   "execution_count": 24,
   "metadata": {},
   "outputs": [
    {
     "data": {
      "text/plain": [
       "5"
      ]
     },
     "execution_count": 24,
     "metadata": {},
     "output_type": "execute_result"
    }
   ],
   "source": [
    "first_missing_positive([0, 1, 2, 3, 4])"
   ]
  }
 ],
 "metadata": {
  "kernelspec": {
   "display_name": "Python 3",
   "language": "python",
   "name": "python3"
  },
  "language_info": {
   "codemirror_mode": {
    "name": "ipython",
    "version": 3
   },
   "file_extension": ".py",
   "mimetype": "text/x-python",
   "name": "python",
   "nbconvert_exporter": "python",
   "pygments_lexer": "ipython3",
   "version": "3.7.6"
  }
 },
 "nbformat": 4,
 "nbformat_minor": 4
}
