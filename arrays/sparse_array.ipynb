{
 "cells": [
  {
   "cell_type": "markdown",
   "metadata": {},
   "source": [
    "## Problem\n",
    "\n",
    "You have a large array with most of the elements as zero.\n",
    "\n",
    "Use a more space-efficient data structure, SparseArray, that implements the same interface:\n",
    "\n",
    "- `init(arr, size)`: initialize with the original large array and size.\n",
    "- `set(i, val)`: updates index at i with val.\n",
    "- `get(i)`: gets the value at index i."
   ]
  },
  {
   "cell_type": "code",
   "execution_count": 1,
   "metadata": {},
   "outputs": [],
   "source": [
    "class SparseArray:\n",
    "    def __init__(self, arr, size):\n",
    "        self._dict = {}\n",
    "        self.size = size\n",
    "        \n",
    "        for i, value in enumerate(arr):\n",
    "            if value != 0:\n",
    "                self._dict[i] = value\n",
    "    \n",
    "    def set(self, i, val):\n",
    "        if i < 0 or i >= self.size:\n",
    "            raise IndexError(\"Out of bounds\")\n",
    "        if val != 0:\n",
    "            self._dict[i] = val\n",
    "            return\n",
    "        elif val in self._dict:\n",
    "            del self._dict[i]\n",
    "        \n",
    "    \n",
    "    def get(self, i):\n",
    "        if i < 0 or i >= self.size:\n",
    "            raise IndexError(\"Out of bounds\")\n",
    "        return self._dict.get(i, 0)\n",
    "        \n",
    "    "
   ]
  },
  {
   "cell_type": "code",
   "execution_count": 13,
   "metadata": {},
   "outputs": [],
   "source": [
    "arr = [0 for i in range(100)]\n",
    "arr = [i for i in range(15)] + arr\n",
    "sparse_array = SparseArray(arr, 20)"
   ]
  },
  {
   "cell_type": "code",
   "execution_count": 18,
   "metadata": {},
   "outputs": [
    {
     "data": {
      "text/plain": [
       "14"
      ]
     },
     "execution_count": 18,
     "metadata": {},
     "output_type": "execute_result"
    }
   ],
   "source": [
    "sparse_array.get(14)"
   ]
  },
  {
   "cell_type": "code",
   "execution_count": 22,
   "metadata": {},
   "outputs": [],
   "source": [
    "sparse_array.set(14, 12310)"
   ]
  },
  {
   "cell_type": "code",
   "execution_count": 23,
   "metadata": {},
   "outputs": [
    {
     "data": {
      "text/plain": [
       "{1: 1,\n",
       " 2: 2,\n",
       " 3: 3,\n",
       " 4: 4,\n",
       " 5: 5,\n",
       " 6: 6,\n",
       " 7: 7,\n",
       " 8: 8,\n",
       " 9: 9,\n",
       " 10: 10,\n",
       " 11: 11,\n",
       " 12: 12,\n",
       " 13: 13,\n",
       " 14: 12310}"
      ]
     },
     "execution_count": 23,
     "metadata": {},
     "output_type": "execute_result"
    }
   ],
   "source": [
    "sparse_array._dict"
   ]
  },
  {
   "cell_type": "code",
   "execution_count": null,
   "metadata": {},
   "outputs": [],
   "source": []
  }
 ],
 "metadata": {
  "kernelspec": {
   "display_name": "Python 3",
   "language": "python",
   "name": "python3"
  },
  "language_info": {
   "codemirror_mode": {
    "name": "ipython",
    "version": 3
   },
   "file_extension": ".py",
   "mimetype": "text/x-python",
   "name": "python",
   "nbconvert_exporter": "python",
   "pygments_lexer": "ipython3",
   "version": "3.7.6"
  }
 },
 "nbformat": 4,
 "nbformat_minor": 4
}
