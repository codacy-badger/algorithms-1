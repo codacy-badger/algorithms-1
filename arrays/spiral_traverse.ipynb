{
 "cells": [
  {
   "cell_type": "markdown",
   "metadata": {},
   "source": [
    "### Spiral Traverse\n",
    "Write a function that takes in an n X m two-dimensional array and returns an array of the elements in spiral order.\n",
    "\n",
    "For instance, given\n",
    "```\n",
    "[\n",
    "    [1, 2, 3, 4],\n",
    "    [12, 13, 14, 5],\n",
    "    [11, 16, 15, 6],\n",
    "    [10, 9, 8, 7]\n",
    "]\n",
    "```\n",
    "The function should return \n",
    "```\n",
    "[1, 2, 3, 4, 5, 6, 7, 8, 9, 10, 11, 12, 13, 14, 15, 16]\n",
    "```"
   ]
  },
  {
   "cell_type": "code",
   "execution_count": 10,
   "metadata": {},
   "outputs": [],
   "source": [
    "## solution: iterative\n",
    "def spiral_traverse(A):\n",
    "    # first define starting and ending row, starting and ending column\n",
    "    start_row, end_row = 0, len(A) - 1\n",
    "    start_col, end_col = 0, len(A[0]) - 1\n",
    "    \n",
    "    output = []\n",
    "    while start_row <= end_row and start_col <= end_col:\n",
    "        \n",
    "        for col in range(start_col, end_col + 1):\n",
    "            output.append(A[start_row][col])\n",
    "        \n",
    "        for row in range(start_row + 1, end_row + 1):\n",
    "            output.append(A[row][end_col])\n",
    "        \n",
    "        for col in reversed(range(start_col, end_col)):\n",
    "            # prevent double counting of the row (in case we have counted it in for-loop 1)\n",
    "            if start_row == end_row:\n",
    "                break\n",
    "            output.append(A[end_row][col])\n",
    "        \n",
    "        for row in reversed(range(start_row + 1, end_row)):\n",
    "            # prevent double counting of column (in case we have counted it in for loop 2)\n",
    "            if start_col == end_col:\n",
    "                break\n",
    "            output.append(A[row][start_col])\n",
    "        \n",
    "        start_row += 1\n",
    "        start_col += 1\n",
    "        end_row -= 1\n",
    "        end_col -= 1\n",
    "\n",
    "    return output"
   ]
  },
  {
   "cell_type": "code",
   "execution_count": 11,
   "metadata": {},
   "outputs": [
    {
     "data": {
      "text/plain": [
       "[1, 2, 3, 4, 5, 6, 7, 8, 9, 10, 11, 12, 13, 14, 15, 16]"
      ]
     },
     "execution_count": 11,
     "metadata": {},
     "output_type": "execute_result"
    }
   ],
   "source": [
    "A = [\n",
    "    [1, 2, 3, 4],\n",
    "    [12, 13, 14, 5],\n",
    "    [11, 16, 15, 6],\n",
    "    [10, 9, 8, 7],\n",
    "]\n",
    "spiral_traverse(A)"
   ]
  },
  {
   "cell_type": "code",
   "execution_count": null,
   "metadata": {},
   "outputs": [],
   "source": []
  }
 ],
 "metadata": {
  "kernelspec": {
   "display_name": "Python 3",
   "language": "python",
   "name": "python3"
  },
  "language_info": {
   "codemirror_mode": {
    "name": "ipython",
    "version": 3
   },
   "file_extension": ".py",
   "mimetype": "text/x-python",
   "name": "python",
   "nbconvert_exporter": "python",
   "pygments_lexer": "ipython3",
   "version": "3.7.6"
  }
 },
 "nbformat": 4,
 "nbformat_minor": 4
}
