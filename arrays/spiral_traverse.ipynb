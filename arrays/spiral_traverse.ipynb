{
 "cells": [
  {
   "cell_type": "markdown",
   "metadata": {},
   "source": [
    "### Spiral Traverse\n",
    "Write a function that takes in an n X m two-dimensional array and returns an array of the elements in spiral order.\n",
    "\n",
    "For instance, given\n",
    "```\n",
    "[\n",
    "    [1, 2, 3, 4],\n",
    "    [12, 13, 14, 5]\n",
    "    [11, 16, 15, 6]\n",
    "    [10, 9, 8, 7]\n",
    "]\n",
    "```\n",
    "The function should return \n",
    "```\n",
    "[1, 2, 3, 4, 5, 6, 7, 8, 9, 10, 11, 12, 13, 14, 15, 16]\n",
    "```"
   ]
  },
  {
   "cell_type": "code",
   "execution_count": null,
   "metadata": {},
   "outputs": [],
   "source": []
  }
 ],
 "metadata": {
  "kernelspec": {
   "display_name": "Python 3",
   "language": "python",
   "name": "python3"
  },
  "language_info": {
   "codemirror_mode": {
    "name": "ipython",
    "version": 3
   },
   "file_extension": ".py",
   "mimetype": "text/x-python",
   "name": "python",
   "nbconvert_exporter": "python",
   "pygments_lexer": "ipython3",
   "version": "3.7.6"
  }
 },
 "nbformat": 4,
 "nbformat_minor": 4
}
