{
 "cells": [
  {
   "cell_type": "markdown",
   "metadata": {},
   "source": [
    "### Zero threesum\n",
    "Given an array of integers return three numbers that sum up to zero. The function should also get rid of duplicate triplets.\n",
    "\n",
    "Sample input\n",
    "```python\n",
    "nums = [-1, -1, 0, 1, 2]\n",
    "```\n",
    "\n",
    "Sample output\n",
    "```python\n",
    "[[-1, -1, 2], [-1, 0, 1]]\n",
    "\n",
    "```"
   ]
  },
  {
   "cell_type": "code",
   "execution_count": 6,
   "metadata": {},
   "outputs": [],
   "source": [
    "def threesum(nums):\n",
    "    \"\"\"O(n^2) time ---> since (N^2 from two loops + Nlog(N) from sorting) is asympotically equivalent to O(N^2))  |  O(nlog n) space\"\"\"\n",
    "    nums.sort()\n",
    "    triplets = []\n",
    "    for i in range(len(nums) - 2):\n",
    "        if nums[i] > 0:\n",
    "            break\n",
    "        if i > 0 and nums[i] == nums[i - 1]:\n",
    "            continue\n",
    "\n",
    "        left = i + 1\n",
    "        right = len(nums) - 1\n",
    "        while left < right:\n",
    "            triplet_sum = nums[left] + nums[i] + nums[right]\n",
    "            if  triplet_sum == 0:\n",
    "                triplets.append(sorted([nums[left], nums[i], nums[right]]))\n",
    "                left += 1\n",
    "                right -= 1\n",
    "\n",
    "                while left < right and nums[left] == nums[left - 1]:\n",
    "                    left += 1\n",
    "\n",
    "            elif triplet_sum > 0:\n",
    "                right -= 1\n",
    "            else:\n",
    "                left += 1\n",
    "    return triplets"
   ]
  },
  {
   "cell_type": "code",
   "execution_count": 9,
   "metadata": {},
   "outputs": [
    {
     "data": {
      "text/plain": [
       "[[-3, -1, 4], [-3, 1, 2], [-2, 0, 2], [-1, 0, 1]]"
      ]
     },
     "execution_count": 9,
     "metadata": {},
     "output_type": "execute_result"
    }
   ],
   "source": [
    "threesum([2, -1, 1, 0, -2, 7, 2, -3, 4])\n"
   ]
  },
  {
   "cell_type": "code",
   "execution_count": 10,
   "metadata": {},
   "outputs": [
    {
     "data": {
      "text/plain": [
       "[[-1, -1, 2], [-1, 0, 1]]"
      ]
     },
     "execution_count": 10,
     "metadata": {},
     "output_type": "execute_result"
    }
   ],
   "source": [
    "threesum([-1, -1, 0, 1, 2])"
   ]
  }
 ],
 "metadata": {
  "kernelspec": {
   "display_name": "Python 3",
   "language": "python",
   "name": "python3"
  },
  "language_info": {
   "codemirror_mode": {
    "name": "ipython",
    "version": 3
   },
   "file_extension": ".py",
   "mimetype": "text/x-python",
   "name": "python",
   "nbconvert_exporter": "python",
   "pygments_lexer": "ipython3",
   "version": "3.7.6"
  }
 },
 "nbformat": 4,
 "nbformat_minor": 4
}
