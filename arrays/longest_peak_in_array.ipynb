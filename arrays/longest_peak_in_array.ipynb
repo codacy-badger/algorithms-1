{
 "cells": [
  {
   "cell_type": "markdown",
   "metadata": {},
   "source": [
    "### Longest Peak\n",
    "Write a function that takes in an array and returns the length of the longest peak in the array.\n",
    "\n",
    "A peak is defined as adjacent elements that are strictly increasing towards a peak tip, then scrictly decreasing.\n",
    "\n",
    "For instance, the array values `1, 2, 5, 3, 0` have a peak, while `10, 0, 4`. Similarly, `1, 2, 3` isn't a peak beacuase there aren't any integers decreasing after 3.\n",
    "\n",
    "Note: There can exist more than one peak in the array. Return the longest one.\n",
    "\n",
    "Sample input:\n",
    "```\n",
    "[11, 3, 6, 4, 0, 10, 6, 5, -3, -1, 10]\n",
    "```\n",
    "\n",
    "Sample output:\n",
    "```\n",
    "6\n",
    "```"
   ]
  },
  {
   "cell_type": "code",
   "execution_count": 16,
   "metadata": {},
   "outputs": [],
   "source": [
    "def longest_peak(A):\n",
    "    \"\"\"\n",
    "    Complexity: O(1) space,  O(n) time, where n is the total number of elements in the array A.\n",
    "    \"\"\"\n",
    "    \n",
    "    longest_peak_length = 0\n",
    "    # start from the second elem in array (i = 1)\n",
    "    i = 1\n",
    "    while i < len(A) - 1:\n",
    "        # check each element for peakness\n",
    "        peak = array[i - 1] < array[i] and array[i] > array[i + 1]\n",
    "        if not peak:\n",
    "            i += 1\n",
    "            continue\n",
    "        # spread outwards in left direction to find peak start.\n",
    "        left_index = i - 2\n",
    "        while left_index >= 0 and A[left_index] < A[left_index + 1]:\n",
    "            left_index -= 1\n",
    "        # spread outwards in right direction to find peak stop.\n",
    "        right_index = i + 2\n",
    "        while right_index < len(A) and A[right_index] < A[right_index - 1]:\n",
    "            right_index += 1\n",
    "\n",
    "        current_peak_length = right_index - left_index - 1\n",
    "        longest_peak_length = max(current_peak_length, longest_peak_length)\n",
    "        i = right_index\n",
    "    return longest_peak_length"
   ]
  },
  {
   "cell_type": "code",
   "execution_count": 17,
   "metadata": {},
   "outputs": [
    {
     "data": {
      "text/plain": [
       "6"
      ]
     },
     "execution_count": 17,
     "metadata": {},
     "output_type": "execute_result"
    }
   ],
   "source": [
    "array = [1, 2, 3, 3, 4, 0, 10, 6, 5, -1, -3, 2, 3]\n",
    "longest_peak(array)"
   ]
  }
 ],
 "metadata": {
  "kernelspec": {
   "display_name": "Python 3",
   "language": "python",
   "name": "python3"
  },
  "language_info": {
   "codemirror_mode": {
    "name": "ipython",
    "version": 3
   },
   "file_extension": ".py",
   "mimetype": "text/x-python",
   "name": "python",
   "nbconvert_exporter": "python",
   "pygments_lexer": "ipython3",
   "version": "3.7.6"
  }
 },
 "nbformat": 4,
 "nbformat_minor": 4
}
