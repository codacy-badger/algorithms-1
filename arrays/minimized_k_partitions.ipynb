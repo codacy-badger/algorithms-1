{
 "cells": [
  {
   "cell_type": "markdown",
   "metadata": {},
   "source": [
    "Given an array of numbers and an integer K, split the array into K partitions such that the maximum sum of any partition is minimized. Return the sum.\n",
    "\n",
    "Sample input:\n",
    "\n",
    "```\n",
    "array = [1, 2, 3, 7, 5, 4]  k = 3\n",
    "```\n",
    "\n",
    "Output:\n",
    "\n",
    "```\n",
    "Return 8\n",
    "\n",
    "since the optimal partition is \n",
    "[5, 2], [7, 1], [3, 4]\n",
    "```\n"
   ]
  },
  {
   "cell_type": "code",
   "execution_count": null,
   "metadata": {},
   "outputs": [],
   "source": []
  }
 ],
 "metadata": {
  "kernelspec": {
   "display_name": "Python 3",
   "language": "python",
   "name": "python3"
  },
  "language_info": {
   "codemirror_mode": {
    "name": "ipython",
    "version": 3
   },
   "file_extension": ".py",
   "mimetype": "text/x-python",
   "name": "python",
   "nbconvert_exporter": "python",
   "pygments_lexer": "ipython3",
   "version": "3.7.6"
  }
 },
 "nbformat": 4,
 "nbformat_minor": 4
}
