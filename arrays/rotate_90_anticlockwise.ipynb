{
 "cells": [
  {
   "cell_type": "markdown",
   "metadata": {},
   "source": [
    "## Rotate a matrix -90 degrees\n",
    "\n",
    "Given a 2 dimensional array, rotate it 90 degrees anti-clockwise in constant space.\n",
    "\n",
    "Sample input:\n",
    "```\n",
    "[\n",
    "    [1, 2, 3],\n",
    "    [4, 5, 6],\n",
    "    [7, 8, 9],\n",
    "]\n",
    "```\n",
    "\n",
    "Sample output:\n",
    "```\n",
    "[\n",
    "    [3, 6, 9],\n",
    "    [2, 5, 8],\n",
    "    [1, 4, 7],\n",
    "]\n",
    "```"
   ]
  },
  {
   "cell_type": "code",
   "execution_count": 3,
   "metadata": {},
   "outputs": [],
   "source": [
    "def rotate_anti_90(matrix):\n",
    "    # first, transpose the matrix, swaping i and j (the elements in the diagonal won't move)\n",
    "    n, m = len(matrix), len(matrix[0])\n",
    "    for i in range(n):\n",
    "        for j in range(i):\n",
    "            matrix[i][j], matrix[j][i] = matrix[j][i], matrix[i][j]\n",
    "    \n",
    "    # IF matrix = [\n",
    "    #   [1, 2, 3],\n",
    "    #   [4, 5, 6],\n",
    "    #   [7, 8, 9]\n",
    "    # ] \n",
    "    # Then matrix currently looks like this\n",
    "    #  [\n",
    "    #   [1, 4, 7]\n",
    "    #   [2, 5, 8]\n",
    "    #   [3, 6, 9]\n",
    "    # ]\n",
    "    \n",
    "    \n",
    "    # For each column (j) in the matrix, swap the top (i) with the bottom (ith) element. \n",
    "    # Work inwards, withing the inner for loop and swap accordingly. \n",
    "    # For a matrix that has an odd length, the inner element won't be swapped. \n",
    "    for j in range(m):\n",
    "        for i in range(n // 2):\n",
    "            # swapping\n",
    "            A[i][j], A[n - 1 - i][j] = A[n - 1 - i][j], A[i][j]\n",
    "\n",
    "    return A"
   ]
  },
  {
   "cell_type": "code",
   "execution_count": 4,
   "metadata": {},
   "outputs": [
    {
     "data": {
      "text/plain": [
       "[[3, 6, 9], [2, 5, 8], [1, 4, 7]]"
      ]
     },
     "execution_count": 4,
     "metadata": {},
     "output_type": "execute_result"
    }
   ],
   "source": [
    "A = [\n",
    "    [1, 2, 3],\n",
    "    [4, 5, 6],\n",
    "    [7, 8, 9]\n",
    "]\n",
    "\n",
    "rotate_anti_90(A)"
   ]
  }
 ],
 "metadata": {
  "kernelspec": {
   "display_name": "Python 3",
   "language": "python",
   "name": "python3"
  },
  "language_info": {
   "codemirror_mode": {
    "name": "ipython",
    "version": 3
   },
   "file_extension": ".py",
   "mimetype": "text/x-python",
   "name": "python",
   "nbconvert_exporter": "python",
   "pygments_lexer": "ipython3",
   "version": "3.7.6"
  }
 },
 "nbformat": 4,
 "nbformat_minor": 4
}
