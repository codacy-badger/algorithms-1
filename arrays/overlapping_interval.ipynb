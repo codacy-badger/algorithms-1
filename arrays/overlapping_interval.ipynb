{
 "cells": [
  {
   "cell_type": "markdown",
   "metadata": {},
   "source": [
    "### Problem\n",
    "\n",
    "Given a list of possibly overlapping intervals, return a new list of intervals where all overlapping intervals have been merged.\n",
    "\n",
    "The input list is not necessarily ordered in any way.\n",
    "\n",
    "For example, given [(1, 3), (5, 8), (4, 10), (20, 25)], you should return [(1, 3), (4, 10), (20, 25)]."
   ]
  },
  {
   "cell_type": "code",
   "execution_count": 6,
   "metadata": {},
   "outputs": [],
   "source": [
    "def merge_overlaps(array):\n",
    "    \"\"\"Time: \"\"\"\n",
    "    if len(array == 1):\n",
    "        return array\n",
    "    array.sort(key=lambda x: x[0])  # O(N log N) sorting\n",
    "    i = 1\n",
    "    while i < len(array):\n",
    "        if is_subset(array[i - 1], array[i]):\n",
    "            # current is subset of previous, remove current\n",
    "            del(array[i])\n",
    "        elif is_subset(array[i], array[i - 1]):\n",
    "            # previous is subset of current, remove previous\n",
    "            del(A[i - 1])\n",
    "        else:\n",
    "            i += 1\n",
    "    return array\n",
    "\n",
    "def is_subset(parent, target) -> bool:\n",
    "    return True if target[0] >= parent[0] and target[1] <= parent[1] else False\n"
   ]
  },
  {
   "cell_type": "code",
   "execution_count": 7,
   "metadata": {},
   "outputs": [
    {
     "data": {
      "text/plain": [
       "[(1, 3), (4, 10), (20, 25)]"
      ]
     },
     "execution_count": 7,
     "metadata": {},
     "output_type": "execute_result"
    }
   ],
   "source": [
    "array = [(1, 3), (5, 8), (4, 10), (20, 25)]\n",
    "merge_overlaps(array)"
   ]
  },
  {
   "cell_type": "code",
   "execution_count": 8,
   "metadata": {},
   "outputs": [
    {
     "data": {
      "text/plain": [
       "[(1, 10), (11, 12)]"
      ]
     },
     "execution_count": 8,
     "metadata": {},
     "output_type": "execute_result"
    }
   ],
   "source": [
    "arr = [(1, 10), (2, 3), (11, 12), (3, 4), (7, 8), (9, 10)]\n",
    "merge_overlaps(arr)"
   ]
  }
 ],
 "metadata": {
  "kernelspec": {
   "display_name": "Python 3",
   "language": "python",
   "name": "python3"
  },
  "language_info": {
   "codemirror_mode": {
    "name": "ipython",
    "version": 3
   },
   "file_extension": ".py",
   "mimetype": "text/x-python",
   "name": "python",
   "nbconvert_exporter": "python",
   "pygments_lexer": "ipython3",
   "version": "3.7.6"
  }
 },
 "nbformat": 4,
 "nbformat_minor": 4
}
