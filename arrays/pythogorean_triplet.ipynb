{
 "cells": [
  {
   "cell_type": "markdown",
   "metadata": {},
   "source": [
    "## Pythogorean triplet\n",
    "\n",
    "Given an array of integers, determine whether it contains a Pythagorean triplet. Recall that a Pythogorean triplet (a, b, c) is defined by the equation a2+ b2= c2."
   ]
  },
  {
   "cell_type": "code",
   "execution_count": 11,
   "metadata": {},
   "outputs": [],
   "source": [
    "def triplet(array):\n",
    "    array = [i ** 2 for i in array]\n",
    "    for a in array:\n",
    "        for b in array:\n",
    "            for c in array:\n",
    "                if a + b == c or a + c == b or b + c == a:\n",
    "                    return True\n",
    "    return False"
   ]
  },
  {
   "cell_type": "code",
   "execution_count": 17,
   "metadata": {},
   "outputs": [
    {
     "data": {
      "text/plain": [
       "True"
      ]
     },
     "execution_count": 17,
     "metadata": {},
     "output_type": "execute_result"
    }
   ],
   "source": [
    "triplet([10, 8, 6, 4, 3, 0])"
   ]
  },
  {
   "cell_type": "markdown",
   "metadata": {},
   "source": [
    "# Better solution\n",
    "We first sort the squared array. This allows us to work with the assumption that `a < b < c`, and that a, b and c exist this way in the newly sorted squared array.\n",
    "\n",
    "Assume that the c = last element in the array, a = first element, b = second-last element. We can use the following algorithm to find if there are triplets:\n",
    "\n",
    "- If a + b < c, increment left_pointer so that new a = the second element in list.\n",
    "- If a + b > c, decrement right_pointer so that new b = the third-last element in list.\n",
    "- If a + b == c, return True\n",
    "- Repeat step one and two until the left_pointer > right_pointer. c becomes the second last elememt.\n",
    "- Repeat all steps above until c is "
   ]
  },
  {
   "cell_type": "code",
   "execution_count": 22,
   "metadata": {},
   "outputs": [],
   "source": [
    "def triplet(array):\n",
    "    array = sorted([_ ** 2 for _ in array])\n",
    "    \n",
    "    for c in range(2, len(array)):\n",
    "        a = 0\n",
    "        b = c - 1\n",
    "        while a < b:\n",
    "            if array[a] + array[b] < array[c]:\n",
    "                a += 1\n",
    "            elif array[a] + array[b] > array[c]:\n",
    "                b -= 1\n",
    "            else:\n",
    "                return True\n",
    "    return False"
   ]
  },
  {
   "cell_type": "code",
   "execution_count": 23,
   "metadata": {},
   "outputs": [
    {
     "data": {
      "text/plain": [
       "True"
      ]
     },
     "execution_count": 23,
     "metadata": {},
     "output_type": "execute_result"
    }
   ],
   "source": [
    "triplet([11, 4, 78, 23, 7, 2, 4, 3, 5])"
   ]
  },
  {
   "cell_type": "code",
   "execution_count": null,
   "metadata": {},
   "outputs": [],
   "source": []
  }
 ],
 "metadata": {
  "kernelspec": {
   "display_name": "Python 3",
   "language": "python",
   "name": "python3"
  },
  "language_info": {
   "codemirror_mode": {
    "name": "ipython",
    "version": 3
   },
   "file_extension": ".py",
   "mimetype": "text/x-python",
   "name": "python",
   "nbconvert_exporter": "python",
   "pygments_lexer": "ipython3",
   "version": "3.7.6"
  }
 },
 "nbformat": 4,
 "nbformat_minor": 4
}
