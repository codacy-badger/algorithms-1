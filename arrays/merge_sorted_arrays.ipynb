{
 "cells": [
  {
   "cell_type": "markdown",
   "metadata": {},
   "source": [
    "## Problem\n",
    "Given a non-empty list of non-empty sorted arrays, write a function to merge the lists into one sorted list.\n",
    "\n",
    "Sample input:\n",
    "```python\n",
    "arrays = [\n",
    "    [1, 5, 9, 21], \n",
    "    [-1, 0], \n",
    "    [-124, 81, 121], \n",
    "    [3, 6, 12, 20, 150]\n",
    "]\n",
    "```\n",
    "The function should return:\n",
    "\n",
    "```python\n",
    "[-124, -1, 0, 1, 3, 5, 6, 9, 12, 20, 21, 81, 121, 150]\n",
    "```"
   ]
  },
  {
   "cell_type": "markdown",
   "metadata": {},
   "source": [
    "### Solution\n",
    "The first element in each array is the smallest element on their respective arrays. \n",
    "\n",
    "We can perform the following steps:\n",
    "\n",
    "- To find the smallest element to add to the final sorted list, we pick the first elements from each array and obtain the smallest of them.\n",
    "- Once we find the smallest integer, we move to the next index on the array the integer belongs to.\n",
    "- We repeat this process until we reach the last index on each array. We break out of the loop and return the sorted list.\n",
    "\n",
    "This will run in O(nk) time and O(n + k) space, where n = number of array elements and k = number of arrays."
   ]
  },
  {
   "cell_type": "code",
   "execution_count": 3,
   "metadata": {},
   "outputs": [],
   "source": [
    "def merge(arrays):\n",
    "    sorted_list = []\n",
    "    element_indices = [0 for array in arrays]\n",
    "    while True:\n",
    "        smallest_items = []\n",
    "        for i in range(len(arrays)):\n",
    "            array = arrays[i]\n",
    "            element_idx = element_indices[i]\n",
    "            if element_idx == len(array):\n",
    "                continue\n",
    "            smallest_items.append({\n",
    "                'array_index': i,\n",
    "                'num': array[element_idx]\n",
    "            })\n",
    "        if len(smallest_items) == 0:\n",
    "            break\n",
    "\n",
    "        next_item = get_min_value(smallest_items)\n",
    "        sorted_list.append(next_item['num'])\n",
    "        element_indices[next_item['array_index']] += 1\n",
    "    return sorted_list\n",
    "\n",
    "\n",
    "def get_min_value(items):\n",
    "    min_value_index = 0\n",
    "    for i in range(1, len(items)):\n",
    "        if items[i][\"num\"] < items[min_value_index][\"num\"]:\n",
    "            min_value_index = i\n",
    "    return items[min_value_index]"
   ]
  },
  {
   "cell_type": "code",
   "execution_count": 4,
   "metadata": {},
   "outputs": [
    {
     "data": {
      "text/plain": [
       "[-124, -1, 0, 1, 3, 5, 6, 9, 12, 20, 21, 81, 121, 150]"
      ]
     },
     "execution_count": 4,
     "metadata": {},
     "output_type": "execute_result"
    }
   ],
   "source": [
    "arrays = [\n",
    "    [1, 5, 9, 21], \n",
    "    [-1, 0], \n",
    "    [-124, 81, 121], \n",
    "    [3, 6, 12, 20, 150]\n",
    "]\n",
    "merge(arrays)"
   ]
  },
  {
   "cell_type": "code",
   "execution_count": null,
   "metadata": {},
   "outputs": [],
   "source": []
  }
 ],
 "metadata": {
  "kernelspec": {
   "display_name": "Python 3",
   "language": "python",
   "name": "python3"
  },
  "language_info": {
   "codemirror_mode": {
    "name": "ipython",
    "version": 3
   },
   "file_extension": ".py",
   "mimetype": "text/x-python",
   "name": "python",
   "nbconvert_exporter": "python",
   "pygments_lexer": "ipython3",
   "version": "3.7.6"
  }
 },
 "nbformat": 4,
 "nbformat_minor": 4
}
