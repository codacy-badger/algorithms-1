{
 "cells": [
  {
   "cell_type": "code",
   "execution_count": 36,
   "metadata": {},
   "outputs": [],
   "source": [
    "\"\"\"\n",
    "Given a list of numbers and a number k, return whether any two numbers from the list add up to k.\n",
    "\n",
    "For example, given [10, 15, 3, 7] and k of 17, return true since 10 + 7 is 17.\n",
    "\"\"\"\n",
    "\n",
    "def twoSum(array, k):\n",
    "    \"\"\"Return true if numbers in the array add to k, else false | O(n) time and space\"\"\"\n",
    "    seen = set()\n",
    "    for i in array:\n",
    "        if k - i in seen:\n",
    "            return True\n",
    "        seen.add(i)\n",
    "    return False"
   ]
  },
  {
   "cell_type": "code",
   "execution_count": 40,
   "metadata": {},
   "outputs": [
    {
     "data": {
      "text/plain": [
       "True"
      ]
     },
     "execution_count": 40,
     "metadata": {},
     "output_type": "execute_result"
    }
   ],
   "source": [
    "twoSum([1, 1, -1, 1, 6, 9, 3, 1], 10)"
   ]
  },
  {
   "cell_type": "code",
   "execution_count": 31,
   "metadata": {},
   "outputs": [],
   "source": [
    "# [3, 2, 6, 1, 0], k = 4  ==> [0, 1, 2, 3, 6]\n",
    "\n",
    "def twoSum(A, k):\n",
    "    \"\"\"Sort the list first O(n log n) for constant space O(1)\"\"\"\n",
    "    A.sort()\n",
    "    left = 0\n",
    "    right = len(A) - 1\n",
    "    \n",
    "    while left < right:\n",
    "        totalSum = A[left] + A[right]\n",
    "        if totalSum > k:\n",
    "            right -= 1\n",
    "        elif totalSum < k:\n",
    "            left += 1\n",
    "        else:\n",
    "            return True\n",
    "    return False\n"
   ]
  },
  {
   "cell_type": "code",
   "execution_count": 32,
   "metadata": {},
   "outputs": [
    {
     "data": {
      "text/plain": [
       "True"
      ]
     },
     "execution_count": 32,
     "metadata": {},
     "output_type": "execute_result"
    }
   ],
   "source": [
    "twoSum([3, 2, 6, 1, -1], 0)"
   ]
  },
  {
   "cell_type": "code",
   "execution_count": null,
   "metadata": {},
   "outputs": [],
   "source": []
  }
 ],
 "metadata": {
  "kernelspec": {
   "display_name": "Python 3",
   "language": "python",
   "name": "python3"
  },
  "language_info": {
   "codemirror_mode": {
    "name": "ipython",
    "version": 3
   },
   "file_extension": ".py",
   "mimetype": "text/x-python",
   "name": "python",
   "nbconvert_exporter": "python",
   "pygments_lexer": "ipython3",
   "version": "3.7.6"
  }
 },
 "nbformat": 4,
 "nbformat_minor": 4
}
