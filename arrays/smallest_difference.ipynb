{
 "cells": [
  {
   "cell_type": "markdown",
   "metadata": {},
   "source": [
    "## Problem\n",
    "Find the smallest difference between two arrays.\n",
    "\n",
    "The function should take in two arrays and find the pair of numbers in the array whose absolute difference is closest to zero.\n"
   ]
  },
  {
   "cell_type": "code",
   "execution_count": 3,
   "metadata": {},
   "outputs": [],
   "source": [
    "def smallest_difference(array_one, array_two):\n",
    "    \"\"\"\n",
    "    Complexity:\n",
    "        Time: O(nlog(n))  +  mlog(m))\n",
    "        where n = length of first array, m = length of second array\n",
    "        (the nlog n comes from sorting using an optimal sorting algorithm)\n",
    "\n",
    "        Space: O(1)\n",
    "    \"\"\"\n",
    "\n",
    "    # first, we sort the arrays\n",
    "    array_one.sort()\n",
    "    array_two.sort()\n",
    "\n",
    "    # init pointers that we'll use for each array\n",
    "    idx_one = 0\n",
    "    idx_two = 0\n",
    "\n",
    "    current_diff = float('inf')\n",
    "    smallest_diff = float('inf')\n",
    "\n",
    "    while idx_one < len(array_one) and idx_two < len(array_two):\n",
    "        first_num = array_one[idx_one]\n",
    "        second_num = array_two[idx_two]\n",
    "\n",
    "        # find absolute difference\n",
    "        current_diff = abs(first_num - second_num)\n",
    "\n",
    "        if first_num < second_num:\n",
    "            # increment the index of first array\n",
    "            idx_one += 1\n",
    "        elif second_num < first_num:\n",
    "            # increment the index of second array\n",
    "            idx_two += 1\n",
    "        else:\n",
    "            return [first_num, second_num]\n",
    "\n",
    "        if smallest_diff > current_diff:\n",
    "            smallest_diff = current_diff\n",
    "            smallest_pair = [first_num, second_num]\n",
    "\n",
    "    return smallest_pair\n"
   ]
  },
  {
   "cell_type": "code",
   "execution_count": 4,
   "metadata": {},
   "outputs": [
    {
     "data": {
      "text/plain": [
       "[2, 2]"
      ]
     },
     "execution_count": 4,
     "metadata": {},
     "output_type": "execute_result"
    }
   ],
   "source": [
    "array1 = [2, 1, 3, 5, 4]\n",
    "array2 = [4, 5, 6, 3, 2]\n",
    "smallest_difference(array1, array2)"
   ]
  },
  {
   "cell_type": "code",
   "execution_count": null,
   "metadata": {},
   "outputs": [],
   "source": []
  }
 ],
 "metadata": {
  "kernelspec": {
   "display_name": "Python 3",
   "language": "python",
   "name": "python3"
  },
  "language_info": {
   "codemirror_mode": {
    "name": "ipython",
    "version": 3
   },
   "file_extension": ".py",
   "mimetype": "text/x-python",
   "name": "python",
   "nbconvert_exporter": "python",
   "pygments_lexer": "ipython3",
   "version": "3.7.6"
  }
 },
 "nbformat": 4,
 "nbformat_minor": 4
}
