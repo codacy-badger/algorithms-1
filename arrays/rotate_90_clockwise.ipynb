{
 "cells": [
  {
   "cell_type": "markdown",
   "metadata": {},
   "source": [
    "### Rotate a matrix 90 degrees\n",
    "Given a 2 dimensional array, rotate it 90 degrees clockwise in constant space.\n",
    "\n",
    "Sample input:\n",
    "```\n",
    "[\n",
    "    [1, 2, 3],\n",
    "    [4, 5, 6],\n",
    "    [7, 8, 9],\n",
    "]\n",
    "```\n",
    "\n",
    "Sample output:\n",
    "```\n",
    "[\n",
    "    [7, 4, 1],\n",
    "    [8, 5, 2],\n",
    "    [9, 6, 3],\n",
    "]\n",
    "```"
   ]
  },
  {
   "cell_type": "code",
   "execution_count": 79,
   "metadata": {},
   "outputs": [],
   "source": [
    "\"\"\"\n",
    "The solution is a two-parter:\n",
    "We'll do an in-place rearrangement of the elements in the array, swapping them to become a 90 degree rotation.\n",
    "1. Transpose our matrix: taking our rows and turn them into columns... we'll loop through the array and swap(a[i][j], a[j][i]). Note: the diagonal won't get swapped.\n",
    "2. Flip horizontally: we'll have two pointers moving towards the center, left([i][j] -->, <---[i][n-1-j] right. We'll then swap the elements on their path. \n",
    "If the middle elements are odd, they won't be swapped. \n",
    "\"\"\"\n",
    "\n",
    "def rotate_90(array):\n",
    "    for i in range(0, len(array)):\n",
    "        for j in range(i, len(array[0])):\n",
    "            array[i][j], array[j][i] = array[j][i], array[i][j]\n",
    "\n",
    "    n = len(array)\n",
    "    for i in range(0, n):\n",
    "        for j in range(0, n // 2):\n",
    "            array[i][j], array[i][n - 1 - j] = array[i][n - 1 - j], array[i][j]\n",
    "            \n",
    "    return array"
   ]
  },
  {
   "cell_type": "code",
   "execution_count": 83,
   "metadata": {},
   "outputs": [
    {
     "data": {
      "text/plain": [
       "[[13, 9, 5, 1], [14, 10, 6, 2], [15, 11, 7, 3], [16, 12, 8, 4]]"
      ]
     },
     "execution_count": 83,
     "metadata": {},
     "output_type": "execute_result"
    }
   ],
   "source": [
    "array = [\n",
    "    [1, 2, 3, 4],\n",
    "    [5, 6, 7, 8],\n",
    "    [9, 10, 11, 12],\n",
    "    [13, 14, 15, 16]\n",
    "]\n",
    "rotate_90(array)"
   ]
  },
  {
   "cell_type": "code",
   "execution_count": null,
   "metadata": {},
   "outputs": [],
   "source": []
  },
  {
   "cell_type": "code",
   "execution_count": null,
   "metadata": {},
   "outputs": [],
   "source": []
  }
 ],
 "metadata": {
  "kernelspec": {
   "display_name": "Python 3",
   "language": "python",
   "name": "python3"
  },
  "language_info": {
   "codemirror_mode": {
    "name": "ipython",
    "version": 3
   },
   "file_extension": ".py",
   "mimetype": "text/x-python",
   "name": "python",
   "nbconvert_exporter": "python",
   "pygments_lexer": "ipython3",
   "version": "3.7.6"
  }
 },
 "nbformat": 4,
 "nbformat_minor": 2
}
