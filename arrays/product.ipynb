{
 "cells": [
  {
   "cell_type": "markdown",
   "metadata": {},
   "source": [
    "## Problem\n",
    "Given an array of integers, return a new array such that each element at index i of the new array is the product of all the numbers in the original array except the one at i.\n",
    "\n",
    "Sample input:\n",
    "\n",
    "```\n",
    "[1, 2, 3, 4, 5]\n",
    "```\n",
    "\n",
    "Expected output:\n",
    "\n",
    "```\n",
    "[120, 60, 40, 30, 24].\n",
    "```"
   ]
  },
  {
   "cell_type": "code",
   "execution_count": 3,
   "metadata": {},
   "outputs": [],
   "source": [
    "def product(array):\n",
    "    \"\"\"O(n) time | O(1) space\"\"\"\n",
    "    prod = 1\n",
    "    for i in array:\n",
    "        prod *= i\n",
    "    for i in range(len(array)):\n",
    "        array[i] = prod // array[i]\n",
    "    return array   "
   ]
  },
  {
   "cell_type": "code",
   "execution_count": 4,
   "metadata": {},
   "outputs": [
    {
     "data": {
      "text/plain": [
       "[2, 3, 6]"
      ]
     },
     "execution_count": 4,
     "metadata": {},
     "output_type": "execute_result"
    }
   ],
   "source": [
    "product([3, 2, 1])"
   ]
  },
  {
   "cell_type": "code",
   "execution_count": 11,
   "metadata": {},
   "outputs": [],
   "source": [
    "\"\"\"\n",
    "For a solution that doesn't use division:\n",
    "\n",
    "To solve this problem,\n",
    "we need to take the product of each element before ith element, including i (prefix products) \n",
    "and then multiply with product of elements after i, including i (suffix products).\n",
    "\n",
    "O(n) time and O(n) space because of two auxiliary arrays created.\n",
    "\"\"\"\n",
    "def productArray(A):\n",
    "    prefixProducts = []\n",
    "    for num in A:\n",
    "        if not prefixProducts:\n",
    "            prefixProducts.append(num)\n",
    "        else:\n",
    "            prefixProducts.append(prefixProducts[-1] * num)\n",
    "    \n",
    "    suffixProducts = []\n",
    "    for num in reversed(A):\n",
    "        if not suffixProducts:\n",
    "            suffixProducts.append(num)\n",
    "        else:\n",
    "            suffixProducts.append(suffixProducts[-1] * num)\n",
    "    suffixProducts = list(reversed(suffixProducts))\n",
    "    \n",
    "    for i in range(len(A)):\n",
    "        if i == 0:\n",
    "            A[i] = suffixProducts[i + 1]\n",
    "        elif i == len(A) - 1:\n",
    "            A[i] = prefixProducts[i - 1]\n",
    "        else:\n",
    "            A[i] = prefixProducts[i - 1] * suffixProducts[i + 1]\n",
    "    return A"
   ]
  },
  {
   "cell_type": "code",
   "execution_count": 12,
   "metadata": {},
   "outputs": [
    {
     "data": {
      "text/plain": [
       "[2, 3, 6]"
      ]
     },
     "execution_count": 12,
     "metadata": {},
     "output_type": "execute_result"
    }
   ],
   "source": [
    "productArray([3, 2, 1])"
   ]
  }
 ],
 "metadata": {
  "kernelspec": {
   "display_name": "Python 3",
   "language": "python",
   "name": "python3"
  },
  "language_info": {
   "codemirror_mode": {
    "name": "ipython",
    "version": 3
   },
   "file_extension": ".py",
   "mimetype": "text/x-python",
   "name": "python",
   "nbconvert_exporter": "python",
   "pygments_lexer": "ipython3",
   "version": "3.7.6"
  }
 },
 "nbformat": 4,
 "nbformat_minor": 4
}
