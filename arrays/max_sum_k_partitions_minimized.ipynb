{
 "cells": [
  {
   "cell_type": "markdown",
   "metadata": {},
   "source": [
    "## Minimized max sum of k partitions\n",
    "\n",
    "Given an array of numbers and an integer K, split the array into K partitions such that the maximum sum of any partition is minimized. Return the sum.\n",
    "\n",
    "Sample input:\n",
    "\n",
    "```\n",
    "array = [5, 1, 2, 7, 3, 4]  k = 3\n",
    "```\n",
    "\n",
    "Output:\n",
    "\n",
    "```\n",
    "Return 8\n",
    "\n",
    "since the optimal partition is \n",
    "[5, 1, 2], [7], [3, 4]\n",
    "```\n"
   ]
  },
  {
   "cell_type": "markdown",
   "metadata": {},
   "source": [
    "### Approach\n",
    "- We know that the sum can't be smaller than the largest element in the list\n",
    "- It also can't be largest than the sum of the whole list\n",
    "\n",
    "We can check each value between the max element and the array sum until we find the smallest one that works. To make the search better, we can perform a binary search."
   ]
  },
  {
   "cell_type": "code",
   "execution_count": 1,
   "metadata": {},
   "outputs": [],
   "source": [
    "def max_partition_sum(array, k):\n",
    "    left, right = max(array), sum(array)\n",
    "    \n",
    "    while left < right:\n",
    "        mid = (left + right) // 2\n",
    "        if can_partition(array, mid, k):\n",
    "            right = mid\n",
    "        else:\n",
    "            left = mid + 1\n",
    "    return left\n",
    "\n",
    "def can_partition(array, limit, k):\n",
    "    total = 0\n",
    "    partitions = 1\n",
    "    \n",
    "    for num in array:\n",
    "        if total + num > limit:\n",
    "            \n",
    "            total = num\n",
    "            partitions += 1\n",
    "            if partitions > k:\n",
    "                return False\n",
    "        else:\n",
    "            total += num\n",
    "    return True"
   ]
  },
  {
   "cell_type": "code",
   "execution_count": 6,
   "metadata": {},
   "outputs": [
    {
     "data": {
      "text/plain": [
       "8"
      ]
     },
     "execution_count": 6,
     "metadata": {},
     "output_type": "execute_result"
    }
   ],
   "source": [
    "max_partition_sum(\n",
    "    array=[5, 1, 2, 7, 3, 4],\n",
    "    k=3\n",
    ")"
   ]
  },
  {
   "cell_type": "markdown",
   "metadata": {},
   "source": [
    "In the `can_partition`, we must check for a given candidate limit, whether an array can be split into k partitions such that no partition exceed this candidate limit. \n",
    "\n",
    "Here, we can use a greedy solution:\n",
    "- We traverse the list, adding elements into the current partition up until its sum exceeds the limit. \n",
    "- In this case, we start a new partition with the current element.\n",
    "- If the number of partitions required is more than k, we know it is impossible, so we increment the left lower bound side by 1 (so as to eventually reduce the partitions to come close to or equal k).\n",
    "\n",
    "Each call to can_partition runs in `O(N)` time, since we must traverse the entire array in the worst case. \n",
    "The number of calls is at most log R, where R = (array sum - max element of array).\n",
    "\n",
    "So overall, the time complexity is O(N log R)"
   ]
  },
  {
   "cell_type": "code",
   "execution_count": null,
   "metadata": {},
   "outputs": [],
   "source": []
  }
 ],
 "metadata": {
  "kernelspec": {
   "display_name": "Python 3",
   "language": "python",
   "name": "python3"
  },
  "language_info": {
   "codemirror_mode": {
    "name": "ipython",
    "version": 3
   },
   "file_extension": ".py",
   "mimetype": "text/x-python",
   "name": "python",
   "nbconvert_exporter": "python",
   "pygments_lexer": "ipython3",
   "version": "3.7.6"
  }
 },
 "nbformat": 4,
 "nbformat_minor": 4
}
