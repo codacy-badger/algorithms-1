{
 "cells": [
  {
   "cell_type": "markdown",
   "metadata": {},
   "source": [
    "## Problem: Sub-array sort\n",
    "\n",
    "Find the smallest sub array in the input array that should be sorted in order for the\n",
    "entire input array to be sorted.\n",
    "The function should return an array of the first index and last index\n",
    "of the smallest sub-array.\n",
    "\n",
    "If  the whole input array is already sorted, return [-1, -1]\n",
    "\n",
    "Sample input: [1, 2, 4, 10, 15, 3, 5, 7, 17]\n",
    "Sample output: [2, 7]\n"
   ]
  },
  {
   "cell_type": "code",
   "execution_count": 6,
   "metadata": {},
   "outputs": [],
   "source": [
    "def sub_array_sort(array):\n",
    "    \"\"\"Complexity: O(n) time | O(1) space.\"\"\"\n",
    "\n",
    "    min_unsorted_num = float('inf')\n",
    "    max_unsorted_num = float('-inf')\n",
    "\n",
    "    for i in range(len(array)):\n",
    "        num = array[i]\n",
    "\n",
    "        if is_out_of_order(i, num,  array):\n",
    "            min_unsorted_num = min(max_unsorted_num, num)\n",
    "            max_unsorted_num = max(max_unsorted_num, num)\n",
    "\n",
    "    if min_unsorted_num == float('inf'):\n",
    "        return [-1, -1]\n",
    "\n",
    "    min_index = 0\n",
    "    max_index = len(array) - 1\n",
    "\n",
    "    while min_unsorted_num >= array[min_index]:\n",
    "        min_index += 1\n",
    "\n",
    "    while max_unsorted_num <= array[max_index]:\n",
    "        max_index -= 1\n",
    "\n",
    "    return [min_index, max_index]\n",
    "\n",
    "\n",
    "def is_out_of_order(i, num, array):\n",
    "    if i == 0:\n",
    "        return num > array[i + 1]\n",
    "\n",
    "    if i == len(array) - 1:\n",
    "        return num < array[i - 1]\n",
    "\n",
    "    return num > array[i + 1] or num < array[i - 1]"
   ]
  },
  {
   "cell_type": "code",
   "execution_count": 7,
   "metadata": {},
   "outputs": [
    {
     "data": {
      "text/plain": [
       "[2, 7]"
      ]
     },
     "execution_count": 7,
     "metadata": {},
     "output_type": "execute_result"
    }
   ],
   "source": [
    "sub_array_sort([1, 2, 4, 10, 15, 3, 5, 7, 17])"
   ]
  },
  {
   "cell_type": "code",
   "execution_count": null,
   "metadata": {},
   "outputs": [],
   "source": []
  }
 ],
 "metadata": {
  "kernelspec": {
   "display_name": "Python 3",
   "language": "python",
   "name": "python3"
  },
  "language_info": {
   "codemirror_mode": {
    "name": "ipython",
    "version": 3
   },
   "file_extension": ".py",
   "mimetype": "text/x-python",
   "name": "python",
   "nbconvert_exporter": "python",
   "pygments_lexer": "ipython3",
   "version": "3.7.6"
  }
 },
 "nbformat": 4,
 "nbformat_minor": 4
}
