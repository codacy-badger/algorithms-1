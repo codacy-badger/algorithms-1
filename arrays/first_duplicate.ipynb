{
 "cells": [
  {
   "cell_type": "markdown",
   "metadata": {},
   "source": [
    "## Problem\n",
    "Find the first duplicate value in an array of positive integers. Each integer value in the array is less or equal to the length of the array.\n",
    "\n",
    "Sample input: [1, 2, 1, 3] (Notice the length of array is 3, so the largest value is 3)\n",
    "\n",
    "Sample output: 1\n",
    "\n",
    "Try finding a solution that runs in constant space."
   ]
  },
  {
   "cell_type": "code",
   "execution_count": 1,
   "metadata": {},
   "outputs": [],
   "source": [
    "## solution (O(n) time | O(n) space)\n",
    "def first_dup(array):\n",
    "    unique = set()\n",
    "    for i in array:\n",
    "        if i in unique:\n",
    "            return i\n",
    "        unique.add(i)\n",
    "    return -1\n",
    "    "
   ]
  },
  {
   "cell_type": "code",
   "execution_count": 2,
   "metadata": {},
   "outputs": [
    {
     "data": {
      "text/plain": [
       "1"
      ]
     },
     "execution_count": 2,
     "metadata": {},
     "output_type": "execute_result"
    }
   ],
   "source": [
    "first_dup([1, 2, 1, 3, 2])"
   ]
  },
  {
   "cell_type": "markdown",
   "metadata": {},
   "source": [
    "### Optimal Approach\n",
    "We can take each element's value minus 1 and use it as an index. Where the index will fall in the array, we'll set that value to -ve. As we loop through the array,\n",
    "if we end up at an element that is already set to -ve, we know we've found a duplicate.\n"
   ]
  },
  {
   "cell_type": "code",
   "execution_count": 7,
   "metadata": {},
   "outputs": [],
   "source": [
    "def first_duplicate(array):\n",
    "    \"\"\"Complexity: O(n) time | O(1) space\"\"\"\n",
    "    \n",
    "    i = 0\n",
    "    while i < len(array):\n",
    "        val = abs(array[i]) - 1\n",
    "        # if we find a negative number, it's our first duplicate\n",
    "        if array[val] < 0:\n",
    "            return abs(array[val])\n",
    "        else:\n",
    "            # make the current value negative\n",
    "            array[val] = -array[val]\n",
    "        # increment i\n",
    "        i += 1\n",
    "    return -1"
   ]
  },
  {
   "cell_type": "code",
   "execution_count": 8,
   "metadata": {},
   "outputs": [
    {
     "data": {
      "text/plain": [
       "7"
      ]
     },
     "execution_count": 8,
     "metadata": {},
     "output_type": "execute_result"
    }
   ],
   "source": [
    "first_duplicate([ 2, 1, 3, 4, 7, 6, 7])"
   ]
  }
 ],
 "metadata": {
  "kernelspec": {
   "display_name": "Python 3",
   "language": "python",
   "name": "python3"
  },
  "language_info": {
   "codemirror_mode": {
    "name": "ipython",
    "version": 3
   },
   "file_extension": ".py",
   "mimetype": "text/x-python",
   "name": "python",
   "nbconvert_exporter": "python",
   "pygments_lexer": "ipython3",
   "version": "3.7.6"
  }
 },
 "nbformat": 4,
 "nbformat_minor": 2
}
