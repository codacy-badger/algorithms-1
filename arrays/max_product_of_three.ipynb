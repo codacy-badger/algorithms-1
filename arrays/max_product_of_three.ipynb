{
 "cells": [
  {
   "cell_type": "markdown",
   "metadata": {},
   "source": [
    "## Maximum product of three\n",
    "Given an list of integers, return the maximum product that can be formed by multiplying any three integers.\n",
    "\n",
    "Sample input:\n",
    "```\n",
    "[-10, -20, 5, 2, -7, 3]\n",
    "```\n",
    "\n",
    "Output:\n",
    "```\n",
    "1000  (-10 * -20 * 5)\n",
    "```\n",
    "\n",
    "Assume that the list has at least 3 integers."
   ]
  },
  {
   "cell_type": "code",
   "execution_count": 1,
   "metadata": {},
   "outputs": [],
   "source": [
    "def product(array) -> int:\n",
    "    \"\"\"O(N log N) time, because of sorting.\"\"\"\n",
    "    \n",
    "    array.sort()\n",
    "    max1, max2, max3 = array[-1], array[-2], array[-3]\n",
    "    min1, min2 = array[0], array[1]\n",
    "    return max(max1 * max2 * max3, min1 * min2 * max1)\n",
    "    "
   ]
  },
  {
   "cell_type": "code",
   "execution_count": 2,
   "metadata": {},
   "outputs": [
    {
     "data": {
      "text/plain": [
       "1000"
      ]
     },
     "execution_count": 2,
     "metadata": {},
     "output_type": "execute_result"
    }
   ],
   "source": [
    "product([-10, -20, 5, 2, -7, 3])"
   ]
  },
  {
   "cell_type": "markdown",
   "metadata": {},
   "source": [
    "# 2nd Approach\n",
    "We can look for the largest elements manually and create a solution that runs on O(N) time."
   ]
  },
  {
   "cell_type": "code",
   "execution_count": 3,
   "metadata": {},
   "outputs": [],
   "source": [
    "from math import inf\n",
    "\n",
    "def max_product(array) -> int:\n",
    "    max1, max2, max3 = -inf, -inf, -inf\n",
    "    min1, min2 = inf, inf\n",
    "    \n",
    "    for i in array:\n",
    "        if i > max1:\n",
    "            max3 = max2\n",
    "            max2 = max1\n",
    "            max1 = i\n",
    "        elif i > max2:\n",
    "            max3 = max2\n",
    "            max2 = i\n",
    "        elif i > max3:\n",
    "            max3 = i\n",
    "        \n",
    "        if i < min1:\n",
    "            min2 = min1\n",
    "            min1 = i\n",
    "        elif i < min2:\n",
    "            min2 = i\n",
    "        \n",
    "    return max(max1 * max2 * max3, max1 * min1 * min2)"
   ]
  },
  {
   "cell_type": "code",
   "execution_count": 4,
   "metadata": {},
   "outputs": [
    {
     "data": {
      "text/plain": [
       "1000"
      ]
     },
     "execution_count": 4,
     "metadata": {},
     "output_type": "execute_result"
    }
   ],
   "source": [
    "max_product([-10, -20, 5, 2, -7, 3])"
   ]
  },
  {
   "cell_type": "code",
   "execution_count": null,
   "metadata": {},
   "outputs": [],
   "source": []
  }
 ],
 "metadata": {
  "kernelspec": {
   "display_name": "Python 3",
   "language": "python",
   "name": "python3"
  },
  "language_info": {
   "codemirror_mode": {
    "name": "ipython",
    "version": 3
   },
   "file_extension": ".py",
   "mimetype": "text/x-python",
   "name": "python",
   "nbconvert_exporter": "python",
   "pygments_lexer": "ipython3",
   "version": "3.7.6"
  }
 },
 "nbformat": 4,
 "nbformat_minor": 4
}
