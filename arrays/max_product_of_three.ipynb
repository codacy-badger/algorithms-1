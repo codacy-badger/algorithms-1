{
 "cells": [
  {
   "cell_type": "markdown",
   "metadata": {},
   "source": [
    "## Maximum product of three\n",
    "Given an list of integers, return the maximum product that can be formed by multiplying any three integers.\n",
    "\n",
    "Sample input:\n",
    "```\n",
    "[-10, -20, 5, 2, -7, 3]\n",
    "```\n",
    "\n",
    "Output:\n",
    "```\n",
    "1000  (-10 * -20 * 5)\n",
    "```\n",
    "\n",
    "Assume that the list has at least 3 integers."
   ]
  },
  {
   "cell_type": "code",
   "execution_count": 1,
   "metadata": {},
   "outputs": [],
   "source": [
    "def product(array) -> int:\n",
    "    \"\"\"O(N log N) time, because of sorting.\"\"\"\n",
    "    \n",
    "    array.sort()\n",
    "    max1, max2, max3 = array[-1], array[-2], array[-3]\n",
    "    min1, min2 = array[0], array[1]\n",
    "    return max(max1 * max2 * max3, min1 * min2 * max1)\n",
    "    "
   ]
  },
  {
   "cell_type": "code",
   "execution_count": 2,
   "metadata": {},
   "outputs": [
    {
     "data": {
      "text/plain": [
       "1000"
      ]
     },
     "execution_count": 2,
     "metadata": {},
     "output_type": "execute_result"
    }
   ],
   "source": [
    "product([-10, -20, 5, 2, -7, 3])"
   ]
  },
  {
   "cell_type": "markdown",
   "metadata": {},
   "source": [
    "# 2nd Approach\n",
    "We can look for the largest elements manually and create a solution that runs on O(N) time."
   ]
  }
 ],
 "metadata": {
  "kernelspec": {
   "display_name": "Python 3",
   "language": "python",
   "name": "python3"
  },
  "language_info": {
   "codemirror_mode": {
    "name": "ipython",
    "version": 3
   },
   "file_extension": ".py",
   "mimetype": "text/x-python",
   "name": "python",
   "nbconvert_exporter": "python",
   "pygments_lexer": "ipython3",
   "version": "3.7.6"
  }
 },
 "nbformat": 4,
 "nbformat_minor": 4
}
