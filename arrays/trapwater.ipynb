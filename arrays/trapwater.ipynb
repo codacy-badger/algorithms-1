{
 "cells": [
  {
   "cell_type": "markdown",
   "metadata": {},
   "source": [
    "## Problem\n",
    "Given a list of non-negative integers representing an elevation map where the width of each map is one, compute the amount of water it is able to collect after raining.\n",
    "\n",
    "![](../images/rainwatertrap.png)\n",
    "\n",
    "The above elavation map is represented by the array [0,1,0,2,1,0,1,3,2,1,2,1]. In this case, 6 units of rain water are being trapped. 6 units of water.\n",
    "\n",
    "Sample input: [0,1,0,2,1,0,1,3,2,1,2,1]\n",
    "Sample output: 6"
   ]
  },
  {
   "cell_type": "code",
   "execution_count": 1,
   "metadata": {},
   "outputs": [],
   "source": [
    "## solution\n",
    "def trap(array):\n",
    "    \"\"\"Complexity: O(n) time | O(1) space\"\"\"\n",
    "    trapped_water = 0\n",
    "    left = 0\n",
    "    right = len(array) - 1\n",
    "    max_height = 0\n",
    "    \n",
    "    while left < right:\n",
    "        if array[left] < array[right]:\n",
    "            if array[left] > max_height:\n",
    "                max_height = array[left]\n",
    "            else:\n",
    "                trapped_water += max_height - array[left]\n",
    "            left += 1\n",
    "        else:\n",
    "            if array[right] > max_height:\n",
    "                max_height = array[right]\n",
    "            else:\n",
    "                trapped_water += max_height - array[right]\n",
    "            right -= 1\n",
    "    return trapped_water"
   ]
  },
  {
   "cell_type": "code",
   "execution_count": 2,
   "metadata": {},
   "outputs": [
    {
     "output_type": "execute_result",
     "data": {
      "text/plain": [
       "6"
      ]
     },
     "metadata": {},
     "execution_count": 2
    }
   ],
   "source": [
    "array = [0,1,0,2,1,0,1,3,2,1,2,1]\n",
    "trap(array)"
   ]
  },
  {
   "cell_type": "code",
   "execution_count": 6,
   "metadata": {},
   "outputs": [],
   "source": [
    "# unit tests\n",
    "import unittest\n",
    "\n",
    "class TrapTestCase(unittest.TestCase):\n",
    "    def test_case_0(self):\n",
    "        array = list(range(10))\n",
    "        self.assertEqual(trap(array), 0)\n",
    "        \n",
    "    def test_case_1(self):\n",
    "        array = [3, 1, 2, 0, 3, 0, 1, 2]\n",
    "        self.assertEqual(trap(array), 9)\n",
    "        \n",
    "        \n",
    "\n",
    "# if __name__ == \"__main__\":\n",
    "#    unittest.main(argv=[\"\"], exit=False)"
   ]
  }
 ],
 "metadata": {
  "kernelspec": {
   "display_name": "Python 3",
   "language": "python",
   "name": "python3"
  },
  "language_info": {
   "codemirror_mode": {
    "name": "ipython",
    "version": 3
   },
   "file_extension": ".py",
   "mimetype": "text/x-python",
   "name": "python",
   "nbconvert_exporter": "python",
   "pygments_lexer": "ipython3",
   "version": "3.7.6-final"
  }
 },
 "nbformat": 4,
 "nbformat_minor": 2
}