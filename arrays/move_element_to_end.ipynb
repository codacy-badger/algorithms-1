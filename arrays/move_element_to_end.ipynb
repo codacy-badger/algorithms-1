{
 "cells": [
  {
   "cell_type": "markdown",
   "metadata": {},
   "source": [
    "### Problem: Move given elements to the end of the list\n",
    "You are given an array of integers and an integer.\n",
    "Write a function that moves all the instances of that integer in the array to\n",
    "the end of the array.\n",
    "\n",
    "Sample input: \n",
    "```\n",
    "[2, 1, 2, 3, 7, 2, 1], 2\n",
    "```\n",
    "\n",
    "Sample output: \n",
    "```    \n",
    "    [1, 3, 7, 1, 2, 2, 2]\n",
    "```"
   ]
  },
  {
   "cell_type": "code",
   "execution_count": 2,
   "metadata": {},
   "outputs": [],
   "source": [
    "def move_elements_to_end(array, to_move):\n",
    "    \"\"\"O(n) time | O(1) space, since we aren't using any auxiliary data structure.\"\"\"\n",
    "    \n",
    "    i = 0\n",
    "    j = len(array) - 1\n",
    "\n",
    "    while i < j:\n",
    "        while i < j and array[j] == to_move:\n",
    "            # decrement j to point to an integer that isn't  to_move\n",
    "            j -= 1\n",
    "\n",
    "        if array[i] == to_move:\n",
    "            # swap (constant time operation)\n",
    "            array[i], array[j] = array[j], array[i]\n",
    "\n",
    "        # increment i\n",
    "        i += 1\n",
    "\n",
    "    return array"
   ]
  },
  {
   "cell_type": "code",
   "execution_count": 3,
   "metadata": {},
   "outputs": [
    {
     "data": {
      "text/plain": [
       "[1, 1, 7, 3, 2, 2, 2]"
      ]
     },
     "execution_count": 3,
     "metadata": {},
     "output_type": "execute_result"
    }
   ],
   "source": [
    "move_elements_to_end([2, 1, 2, 3, 7, 2, 1], 2)"
   ]
  },
  {
   "cell_type": "code",
   "execution_count": null,
   "metadata": {},
   "outputs": [],
   "source": []
  }
 ],
 "metadata": {
  "kernelspec": {
   "display_name": "Python 3",
   "language": "python",
   "name": "python3"
  },
  "language_info": {
   "codemirror_mode": {
    "name": "ipython",
    "version": 3
   },
   "file_extension": ".py",
   "mimetype": "text/x-python",
   "name": "python",
   "nbconvert_exporter": "python",
   "pygments_lexer": "ipython3",
   "version": "3.7.6"
  }
 },
 "nbformat": 4,
 "nbformat_minor": 4
}
