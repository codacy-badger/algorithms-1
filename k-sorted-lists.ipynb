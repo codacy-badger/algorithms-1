{
 "cells": [
  {
   "cell_type": "markdown",
   "metadata": {},
   "source": [
    "# Problem\n",
    "Find the smallest interval of K-sorted lists\n",
    "\n",
    "Given K sorted lists of integers, return the **smallest interval** (inclusive) that contains at least one element from each least.\n",
    "\n",
    "For example, given:\n",
    "\n",
    "```python\n",
    "[[0, 1, 4, 17, 20, 25, 31],\n",
    " [5, 6, 10],\n",
    " [0, 3, 7, 8, 12]]\n",
    "```\n",
    "The smallest range here is [3,5], since it contains:\n",
    "* 4 from first list,\n",
    "* 5 from the second list (inclusive),\n",
    "* 3 from the third list (inclusive)\n",
    "\n"
   ]
  },
  {
   "cell_type": "code",
   "execution_count": null,
   "metadata": {},
   "outputs": [],
   "source": []
  }
 ],
 "metadata": {
  "kernelspec": {
   "display_name": "Python 3",
   "language": "python",
   "name": "python3"
  },
  "language_info": {
   "codemirror_mode": {
    "name": "ipython",
    "version": 3
   },
   "file_extension": ".py",
   "mimetype": "text/x-python",
   "name": "python",
   "nbconvert_exporter": "python",
   "pygments_lexer": "ipython3",
   "version": "3.6.5"
  }
 },
 "nbformat": 4,
 "nbformat_minor": 2
}
