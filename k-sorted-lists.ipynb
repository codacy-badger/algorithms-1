{
 "cells": [
  {
   "cell_type": "markdown",
   "metadata": {},
   "source": [
    "# Finding The Smallest Interval of K-sorted Lists.\n",
    "\n",
    "Given K sorted lists of integers, return the **smallest interval** (inclusive) that contains at least one element from each least.\n",
    "\n",
    "For example, given:\n",
    "\n",
    "```python\n",
    "[[0, 1, 4, 17, 20, 25, 31],\n",
    " [5, 6, 10],\n",
    " [0, 3, 7, 8, 12]]\n",
    "```\n",
    "The smallest range here is [3,5], since it contains:\n",
    "* 4 from first list,\n",
    "* 5 from the second list (inclusive),\n",
    "* 3 from the third list (inclusive)\n",
    "\n"
   ]
  },
  {
   "cell_type": "markdown",
   "metadata": {},
   "source": [
    "## Naive Solution\n",
    "The brute force solution would be to compare every pair of elements in the lists and consider their intervals. After finding this internval, traverse every list to make sure that there is at least one element from each list in the interval.\n",
    "\n",
    "In order to find the smallest such interval, we need to store the smallest seen so far, and update if we see a smaller interval.\n",
    "\n",
    "This would be an expensive O(N^3), where N is the total number of elements in all K lists. On the bright side, this solution uses O(1) memory, since it only needs to store the current smallest interval.\n"
   ]
  },
  {
   "cell_type": "markdown",
   "metadata": {},
   "source": [
    "## Solution 1: K-pointers\n",
    "Since the K lists are all sorted, this suggest iterating from the beginning (smallest elements) to end (largest elements).\n",
    "\n",
    "&nbsp;\n",
    "\n",
    "Imagine comparing the minimum values of all the arrays: In our example above, the first values will be **[0, 5, 0]**. And the interval would be the minimum and maximum of these values: **[0, 5]**.\n",
    "\n",
    "&nbsp;\n",
    "\n",
    "This is one such interval but we aren't sure if it's the smallest. So we must keep looking. We must step along by increasing the minimum. In this case, the next interval we should consider is **[1, 5]**\n",
    "\n",
    "Let's translate this process into an alogirithm:\n",
    "\n",
    "1. Initialize K pointers, one for each list, pointing the minimum element in the list. (index 0 -- because they are sorted).\n",
    "2. Initialize variables to track the right and left boundaries of the interval.\n",
    "3. Find the pointer pointing to the **minimum** and the pointer pointing to the **maximum** of all the values pointed to. This becomes your **tracked interval**.\n",
    "4. If the new interval is smaller than the previously tracked interval, update the tracked interval to be this new interval.\n",
    "5. Increment the minimum value pointer. After incrementing this pointer, it may not point to a minimum value anymore.\n",
    "6. Repeat steps 3 -5 until we get to the end of one of the lists.\n",
    "7. Return the tracked interval (by now, it's the smallest)"
   ]
  },
  {
   "cell_type": "code",
   "execution_count": 14,
   "metadata": {},
   "outputs": [],
   "source": [
    "def smallest_interval(k_arrays):\n",
    "    # step 1: init K pointers \n",
    "    k_pointers = [0] * len(k_arrays)  # evaluates to [0, 0, 0]\n",
    "    # step 2: init the left, right boundaries of the interval\n",
    "    interval = float('-inf'), float('inf')\n",
    "\n",
    "    while True:\n",
    "        # initialize local max and min, for updating tracked interval.\n",
    "        local_max = float('-inf')\n",
    "        local_min = float('inf')\n",
    "        min_index = -1\n",
    "        reached_end = False\n",
    "        \n",
    "        # step 3: find out which is the max, min to make the interval\n",
    "        for i in range(len(k_pointers)):\n",
    "            \n",
    "            # first, check if we've reached the end of one of the K-lists\n",
    "            if k_pointers[i] >= len(k_arrays[i]):\n",
    "                reached_end = True\n",
    "                break\n",
    "\n",
    "            if k_arrays[i][k_pointers[i]] > local_max:\n",
    "                local_max = k_arrays[i][k_pointers[i]]\n",
    "            \n",
    "            if k_arrays[i][k_pointers[i]] < local_min:\n",
    "                local_min = k_arrays[i][k_pointers[i]]\n",
    "                # save the index of minimum value, to be used later for incrementing\n",
    "                min_index = i\n",
    "        \n",
    "        # if we've reached the end of any list,\n",
    "        # we've already found the smallest interval\n",
    "        if reached_end:\n",
    "            break\n",
    "            \n",
    "        # step 4: update, if the new interval is < previous interval\n",
    "        if local_max - local_min < interval[1] - interval[0]:\n",
    "            interval = local_min, local_max\n",
    "            \n",
    "        # step 5: increment the minimum value pointer\n",
    "        k_pointers[min_index] = k_pointers[min_index] + 1\n",
    "            \n",
    "    return interval\n"
   ]
  },
  {
   "cell_type": "code",
   "execution_count": 15,
   "metadata": {},
   "outputs": [
    {
     "data": {
      "text/plain": [
       "(3, 5)"
      ]
     },
     "execution_count": 15,
     "metadata": {},
     "output_type": "execute_result"
    }
   ],
   "source": [
    "# let's test it out\n",
    "k_arrays = [[0, 1, 4, 17, 20, 25, 31],\n",
    " [5, 6, 10],\n",
    " [0, 3, 7, 8, 12]]\n",
    "\n",
    "smallest_interval(k_arrays)"
   ]
  },
  {
   "cell_type": "markdown",
   "metadata": {},
   "source": [
    "This code runs in O(K * N) time where:\n",
    "\n",
    "K = number of lists, \n",
    "\n",
    "and N = total number of elements in all the lists.\n",
    "\n",
    "The space compexity is O(K), since we are storing a K length array of pointers."
   ]
  },
  {
   "cell_type": "markdown",
   "metadata": {},
   "source": [
    "## Solution 2: Min-Heap\n",
    "We can use a heap to simplify much of the work in the for loop. \n",
    "\n",
    "If we used a heap instead of an array of pointers to track the values we are currently looking at, we would be able to find the local minimum in O(1) time. \n",
    "\n",
    "However, we still need to know which list the local minimum is from: for this, we can make use of Python's tuple.\n",
    "\n",
    "&nbsp;\n",
    "\n",
    "> The min-heap is a heap where the first element is guaranteed to be minimum of all elementes in the heap\n",
    "\n",
    "Consider a min-heap consisting of tuples holding the following info:\n",
    "```\n",
    "( value,  which list it is from,  index of the value in that list )\n",
    "```\n",
    "\n",
    "We can adapt the algorithm to use the heap as follows:\n",
    "\n",
    "1. Initialize the heap of size K, with all the tuples being: (first value of list, the list it is from,  index 0). \n",
    "2. Initialize variables to track the right and left boundaries of the interval\n",
    "3. Initialize the `local_max` variable to the max of the first set of values. Since we are using a min-heap, there is no easy way to retrieve the maximum value, do we will need to track it.\n",
    "4. Pop an element from the top of the heap. The element contains the `local_min`, the list it is from, and index within that list.\n",
    "5. Compare the new range `(local maximum - local minimum)` and update the current tracked interval if necessary.\n",
    "6. Increment the `local min`s index, and read the value.\n",
    "7. If the value is larger than the `local_max`, update the `local_max`. This sets ut up so that the next iteration has an updated version of `local_max`.\n",
    "8. Create a heap element using the new value, and insert it into the heap.\n",
    "9. Repeat steps 4-8 until we've exhaused the list.\n"
   ]
  },
  {
   "cell_type": "code",
   "execution_count": null,
   "metadata": {},
   "outputs": [],
   "source": []
  }
 ],
 "metadata": {
  "kernelspec": {
   "display_name": "Python 3",
   "language": "python",
   "name": "python3"
  },
  "language_info": {
   "codemirror_mode": {
    "name": "ipython",
    "version": 3
   },
   "file_extension": ".py",
   "mimetype": "text/x-python",
   "name": "python",
   "nbconvert_exporter": "python",
   "pygments_lexer": "ipython3",
   "version": "3.6.5"
  }
 },
 "nbformat": 4,
 "nbformat_minor": 2
}
