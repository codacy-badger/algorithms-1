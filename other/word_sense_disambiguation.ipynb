{
 "cells": [
  {
   "cell_type": "code",
   "execution_count": 3,
   "metadata": {},
   "outputs": [],
   "source": [
    "import re\n",
    "\n",
    "STOPWORDS = set(['a', 'in', 'or', 'the', 'to'])\n",
    "\n",
    "def normalize(sentense):\n",
    "    sentense = re.sub('[^A-Za-z]', ' ', sentense)\n",
    "    words = sentense.lower().split()\n",
    "    sentense = [word for word in words if word not in STOPWORDS]\n",
    "    return sentense"
   ]
  },
  {
   "cell_type": "code",
   "execution_count": 4,
   "metadata": {},
   "outputs": [
    {
     "data": {
      "text/plain": [
       "['i',\n",
       " 'have',\n",
       " 'dream',\n",
       " 'last',\n",
       " 'night',\n",
       " 'at',\n",
       " 'that',\n",
       " 'will',\n",
       " 'be',\n",
       " 'good',\n",
       " 'year',\n",
       " 'for',\n",
       " 'me']"
      ]
     },
     "execution_count": 4,
     "metadata": {},
     "output_type": "execute_result"
    }
   ],
   "source": [
    "normalize(\"I have a dream last night at 2 that 2021 will be a good year for me!\")"
   ]
  },
  {
   "cell_type": "code",
   "execution_count": 5,
   "metadata": {},
   "outputs": [],
   "source": [
    "def disambiguate(sentense, words, meanings):\n",
    "    sentense = set(normalize(sentense))\n",
    "    for word in words:\n",
    "        true_senses = {}\n",
    "        \n",
    "        max_overlaps = 0\n",
    "        true_senses[word] = None\n",
    "        \n",
    "        for meaning in meanings[word]:\n",
    "            definition = set(normalize(meaning))\n",
    "            overlaps = definition.intersection(sentense)\n",
    "            if len(overlaps) > max_overlaps:\n",
    "                max_overlaps = len(overlaps)\n",
    "                true_senses[word] = meaning\n",
    "        return true_senses"
   ]
  },
  {
   "cell_type": "code",
   "execution_count": 6,
   "metadata": {},
   "outputs": [
    {
     "data": {
      "text/plain": [
       "{'bank': 'place to deposit money'}"
      ]
     },
     "execution_count": 6,
     "metadata": {},
     "output_type": "execute_result"
    }
   ],
   "source": [
    "meanings = {\n",
    "    'bank': ['land beside a river or lake', 'place to deposit money'],\n",
    "    'fork': ['eating utensil', 'bend in the road']\n",
    "}\n",
    "disambiguate(\n",
    "    sentense=\"I took my money to the bank\", \n",
    "    words=['bank', 'fork'],\n",
    "    meanings=meanings\n",
    ")"
   ]
  },
  {
   "cell_type": "code",
   "execution_count": null,
   "metadata": {},
   "outputs": [],
   "source": []
  }
 ],
 "metadata": {
  "kernelspec": {
   "display_name": "Python 3",
   "language": "python",
   "name": "python3"
  },
  "language_info": {
   "codemirror_mode": {
    "name": "ipython",
    "version": 3
   },
   "file_extension": ".py",
   "mimetype": "text/x-python",
   "name": "python",
   "nbconvert_exporter": "python",
   "pygments_lexer": "ipython3",
   "version": "3.7.6"
  }
 },
 "nbformat": 4,
 "nbformat_minor": 4
}
