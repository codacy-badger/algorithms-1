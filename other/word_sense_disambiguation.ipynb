{
 "cells": [
  {
   "cell_type": "markdown",
   "metadata": {},
   "source": [
    "## Problem: Word Sense Disambiguation\n",
    "\n",
    "Word sense disambiguation is the problem of determining which sense a word takes on in a particular setting, if that word has multiple meanings. \n",
    "\n",
    "For example, in the sentence \"I went to get money from the bank\", bank probably means the place where people deposit money, not the land beside a river or lake.\n",
    "\n",
    "Suppose you are given a list of meanings for several words, formatted like so:\n",
    "```json\n",
    "{\n",
    "    \"word_1\": [\"meaning one\", \"meaning two\", ...],\n",
    "    ...\n",
    "    \"word_n\": [\"meaning one\", \"meaning two\", ...]\n",
    "}\n",
    "```\n",
    "\n",
    "Given a sentence, most of whose words are contained in the meaning list above, create an algorithm that determines the likely sense of each possibly ambiguous word."
   ]
  },
  {
   "cell_type": "code",
   "execution_count": 3,
   "metadata": {},
   "outputs": [],
   "source": [
    "import re\n",
    "\n",
    "STOPWORDS = set(['a', 'in', 'or', 'the', 'to'])\n",
    "\n",
    "def normalize(sentense):\n",
    "    sentense = re.sub('[^A-Za-z]', ' ', sentense)\n",
    "    words = sentense.lower().split()\n",
    "    sentense = [word for word in words if word not in STOPWORDS]\n",
    "    return sentense"
   ]
  },
  {
   "cell_type": "code",
   "execution_count": 4,
   "metadata": {},
   "outputs": [
    {
     "data": {
      "text/plain": [
       "['i',\n",
       " 'have',\n",
       " 'dream',\n",
       " 'last',\n",
       " 'night',\n",
       " 'at',\n",
       " 'that',\n",
       " 'will',\n",
       " 'be',\n",
       " 'good',\n",
       " 'year',\n",
       " 'for',\n",
       " 'me']"
      ]
     },
     "execution_count": 4,
     "metadata": {},
     "output_type": "execute_result"
    }
   ],
   "source": [
    "normalize(\"I have a dream last night at 2 that 2021 will be a good year for me!\")"
   ]
  },
  {
   "cell_type": "code",
   "execution_count": 11,
   "metadata": {},
   "outputs": [],
   "source": [
    "def disambiguate(sentense, words, meanings):\n",
    "    sentense = set(normalize(sentense))\n",
    "    true_senses = {}\n",
    "    for word in words:\n",
    "        true_senses[word] = None\n",
    "        max_overlaps = 0\n",
    "        for meaning in meanings[word]:\n",
    "            definition = set(normalize(meaning))\n",
    "            overlaps = definition.intersection(sentense)\n",
    "            if len(overlaps) > max_overlaps:\n",
    "                max_overlaps = len(overlaps)\n",
    "                true_senses[word] = meaning\n",
    "        return true_senses"
   ]
  },
  {
   "cell_type": "code",
   "execution_count": 12,
   "metadata": {},
   "outputs": [
    {
     "data": {
      "text/plain": [
       "{'bank': 'place to deposit money'}"
      ]
     },
     "execution_count": 12,
     "metadata": {},
     "output_type": "execute_result"
    }
   ],
   "source": [
    "meanings = {\n",
    "    'bank': ['land beside a river or lake', 'place to deposit money'],\n",
    "    'fork': ['eating utensil', 'bend in the road']\n",
    "}\n",
    "disambiguate(\n",
    "    sentense=\"I drove my car past the fork in the road and took my money to the bank\", \n",
    "    words=['bank', 'fork'],\n",
    "    meanings=meanings\n",
    ")"
   ]
  },
  {
   "cell_type": "code",
   "execution_count": null,
   "metadata": {},
   "outputs": [],
   "source": []
  }
 ],
 "metadata": {
  "kernelspec": {
   "display_name": "Python 3",
   "language": "python",
   "name": "python3"
  },
  "language_info": {
   "codemirror_mode": {
    "name": "ipython",
    "version": 3
   },
   "file_extension": ".py",
   "mimetype": "text/x-python",
   "name": "python",
   "nbconvert_exporter": "python",
   "pygments_lexer": "ipython3",
   "version": "3.7.6"
  }
 },
 "nbformat": 4,
 "nbformat_minor": 4
}
