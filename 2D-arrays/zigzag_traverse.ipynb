{
 "cells": [
  {
   "cell_type": "markdown",
   "metadata": {},
   "source": [
    "### Problem\n",
    "Write a function that takes in a two-dim array and returns all the elemets in the array in a one-dimensional array after traversing in a zigzag order.\n",
    "\n",
    "Sample input:\n",
    "array = [\n",
    "    [1, 3, 4, 10],\n",
    "    [2, 5, 9, 11],\n",
    "    [6, 8, 12, 15],\n",
    "    [7, 13, 14, 16],\n",
    "]\n",
    "\n",
    "Sample output:\n",
    "[1, 2, 3, 4, 5, 6, 7, 8, 9, 10, 11, 12, 13, 14, 15, 16]"
   ]
  },
  {
   "cell_type": "code",
   "execution_count": 16,
   "metadata": {},
   "outputs": [],
   "source": [
    "# O(n) time | O(n) space\n",
    "def zigzagTraverse(array):\n",
    "    row, col = 0, 0\n",
    "    width = len(array[0]) - 1\n",
    "    height = len(array) - 1\n",
    "    results = []\n",
    "    going_down = True\n",
    "    \n",
    "    while not is_out_of_bounds(row, col, height, width):\n",
    "        results.append(array[row][col])\n",
    "        if going_down:\n",
    "            if col == 0 or row == height:\n",
    "                going_down = False\n",
    "                if row == height:\n",
    "                    col += 1\n",
    "                else:\n",
    "                    row += 1\n",
    "            else:\n",
    "                # go down\n",
    "                row += 1\n",
    "                col -= 1\n",
    "        else:\n",
    "            if row == 0 or col == width:\n",
    "                going_down = True\n",
    "                if col == width:\n",
    "                    row += 1\n",
    "                else:\n",
    "                    col += 1\n",
    "            else:\n",
    "                # climb up\n",
    "                row -= 1\n",
    "                col += 1\n",
    "    return results\n",
    "\n",
    "def is_out_of_bounds(row, col, height, width):\n",
    "    return row < 0 or row > height or col < 0 or col > width"
   ]
  },
  {
   "cell_type": "code",
   "execution_count": 17,
   "metadata": {},
   "outputs": [
    {
     "data": {
      "text/plain": [
       "[1, 2, 3, 4, 5, 6, 7, 8, 9, 10, 11, 12, 13, 14, 15, 16]"
      ]
     },
     "execution_count": 17,
     "metadata": {},
     "output_type": "execute_result"
    }
   ],
   "source": [
    "array = [\n",
    "    [1, 3, 4, 10],\n",
    "    [2, 5, 9, 11],\n",
    "    [6, 8, 12, 15],\n",
    "    [7, 13, 14, 16],\n",
    "]\n",
    "zigzagTraverse(array)"
   ]
  },
  {
   "cell_type": "code",
   "execution_count": null,
   "metadata": {},
   "outputs": [],
   "source": []
  }
 ],
 "metadata": {
  "kernelspec": {
   "display_name": "Python 3",
   "language": "python",
   "name": "python3"
  },
  "language_info": {
   "codemirror_mode": {
    "name": "ipython",
    "version": 3
   },
   "file_extension": ".py",
   "mimetype": "text/x-python",
   "name": "python",
   "nbconvert_exporter": "python",
   "pygments_lexer": "ipython3",
   "version": "3.7.6"
  }
 },
 "nbformat": 4,
 "nbformat_minor": 2
}
