{
 "cells": [
  {
   "cell_type": "code",
   "execution_count": 23,
   "metadata": {},
   "outputs": [],
   "source": [
    "def search(board, row, col, word, index, visited):\n",
    "    def is_valid(board, row, col):\n",
    "        return row >= 0 and row < len(board) and col >= 0 and col < len(board[0])\n",
    "    \n",
    "    if not is_valid(board, row, col):\n",
    "        return False\n",
    "    if (row, col) in visited:\n",
    "        return False\n",
    "    if board[row][col] != word[index]:\n",
    "        return False\n",
    "    if index == len(word) - 1:\n",
    "        return True\n",
    "    \n",
    "    visited.add((row, col))\n",
    "    \n",
    "    for d in  ((0, -1), (0, 1), (-1, 0), (1, 0)):\n",
    "        if search(board, row + d[0], col + d[1], word, index + 1, visited):\n",
    "            return True\n",
    "    # backtrack\n",
    "    print(f\"HAHA removing {(row, col)}\")\n",
    "    visited.remove((row, col))\n",
    "    return False\n",
    "\n",
    "def find_word(board, word):\n",
    "    for row in range(len(board)):\n",
    "        for col in range(len(board[0])):\n",
    "            return search(board, row, col, word, 0, visited=set()) "
   ]
  },
  {
   "cell_type": "code",
   "execution_count": 26,
   "metadata": {},
   "outputs": [
    {
     "data": {
      "text/plain": [
       "True"
      ]
     },
     "execution_count": 26,
     "metadata": {},
     "output_type": "execute_result"
    }
   ],
   "source": [
    "board = [\n",
    "  ['A','B','C','E'],\n",
    "  ['S','F','C','S'],\n",
    "  ['A','D','E','E']\n",
    "]\n",
    "\n",
    "find_word(board, word='ABF')"
   ]
  },
  {
   "cell_type": "code",
   "execution_count": null,
   "metadata": {},
   "outputs": [],
   "source": []
  }
 ],
 "metadata": {
  "kernelspec": {
   "display_name": "Python 3",
   "language": "python",
   "name": "python3"
  },
  "language_info": {
   "codemirror_mode": {
    "name": "ipython",
    "version": 3
   },
   "file_extension": ".py",
   "mimetype": "text/x-python",
   "name": "python",
   "nbconvert_exporter": "python",
   "pygments_lexer": "ipython3",
   "version": "3.7.6"
  }
 },
 "nbformat": 4,
 "nbformat_minor": 4
}
