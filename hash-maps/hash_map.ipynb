{
 "cells": [
  {
   "cell_type": "code",
   "execution_count": 6,
   "metadata": {},
   "outputs": [],
   "source": [
    "class HashMap:\n",
    "    def __init__(self, size):\n",
    "        self.size = size\n",
    "        self.hash_table = self.createBuckets()\n",
    "        \n",
    "    def createBuckets(self):\n",
    "        return [[] for i in range(self.size)]\n",
    "    \n",
    "    def set(self, key, value):\n",
    "        # get bucket hash\n",
    "        bucket_hash = hash(key) % self.size\n",
    "        bucket = self.hash_table[bucket_hash]\n",
    "        \n",
    "        found_key = False\n",
    "        for idx, record in enumerate(bucket):\n",
    "            record_key, record_val = record\n",
    "            if record_key == key:\n",
    "                found_key = True\n",
    "                break\n",
    "        if found_key:\n",
    "            bucket[idx] = (key, value)\n",
    "        else:\n",
    "            bucket.append((key, value))\n",
    "    \n",
    "    def get(self, key):\n",
    "        # Get the index of the bucket holding the key using the hash function\n",
    "        index = hash(key) % self.size\n",
    "        \n",
    "        # get the bucket using the index\n",
    "        bucket = self.hash_table[index]\n",
    "        \n",
    "        found_key = False\n",
    "        for idx, record in enumerate(bucket):\n",
    "            record_key, record_val = record\n",
    "            if key == record_key:\n",
    "                found_key = True\n",
    "                break\n",
    "        return record_val if found_key else None\n",
    "    \n",
    "    def delete(self, key):\n",
    "        bucket_hash = hash(key) % self.size\n",
    "        found_key = False\n",
    "        for idx, record in enumerate(self.hash_table[bucket_hash]):\n",
    "            record_key, record_value = record\n",
    "            if key == record_key:\n",
    "                found_key = True\n",
    "                break\n",
    "        if found_key:\n",
    "            # delete\n",
    "            self.hash_table.pop(idx)\n",
    "        else:\n",
    "            return f\"Key '{key}' does not exist\"\n",
    "            \n",
    "        "
   ]
  },
  {
   "cell_type": "code",
   "execution_count": 17,
   "metadata": {},
   "outputs": [],
   "source": [
    "hashmap = HashMap(10)"
   ]
  },
  {
   "cell_type": "code",
   "execution_count": 18,
   "metadata": {},
   "outputs": [],
   "source": [
    "hashmap.set(\"something\", \"soweto\")\n",
    "for i in range(5):\n",
    "    hashmap.set(f\"{i}\", i)"
   ]
  },
  {
   "cell_type": "code",
   "execution_count": 19,
   "metadata": {},
   "outputs": [
    {
     "output_type": "execute_result",
     "data": {
      "text/plain": [
       "'soweto'"
      ]
     },
     "metadata": {},
     "execution_count": 19
    }
   ],
   "source": [
    "hashmap.get(\"something\")\n"
   ]
  },
  {
   "cell_type": "code",
   "execution_count": 20,
   "metadata": {},
   "outputs": [
    {
     "output_type": "execute_result",
     "data": {
      "text/plain": [
       "[[('2', 2)],\n",
       " [],\n",
       " [('4', 4)],\n",
       " [],\n",
       " [('3', 3)],\n",
       " [],\n",
       " [('0', 0)],\n",
       " [('something', 'soweto')],\n",
       " [],\n",
       " [('1', 1)]]"
      ]
     },
     "metadata": {},
     "execution_count": 20
    }
   ],
   "source": [
    "hashmap.hash_table"
   ]
  },
  {
   "cell_type": "code",
   "execution_count": null,
   "metadata": {},
   "outputs": [],
   "source": []
  }
 ],
 "metadata": {
  "kernelspec": {
   "display_name": "Python 3",
   "language": "python",
   "name": "python3"
  },
  "language_info": {
   "codemirror_mode": {
    "name": "ipython",
    "version": 3
   },
   "file_extension": ".py",
   "mimetype": "text/x-python",
   "name": "python",
   "nbconvert_exporter": "python",
   "pygments_lexer": "ipython3",
   "version": "3.7.6-final"
  }
 },
 "nbformat": 4,
 "nbformat_minor": 4
}