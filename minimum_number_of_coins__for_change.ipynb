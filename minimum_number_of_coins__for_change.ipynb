{
 "cells": [
  {
   "cell_type": "markdown",
   "metadata": {},
   "source": [
    "####  Problem\n",
    "Given an array of positive integers denoting coin denominations and a single non-negative integer representing a target amount of money, \n",
    "\n",
    "implement a function to find the minimum number of coins needed to make change for the target using the given coin denominations.\n",
    "\n",
    "If it's impossible to make change for the target amount, return -1.\n",
    "\n",
    "Sample input: 7,  [1, 2, 5] denominations\n",
    "\n",
    "Sample output: 2 (coins) i.e (1x2, 5x1)"
   ]
  },
  {
   "cell_type": "code",
   "execution_count": 12,
   "metadata": {},
   "outputs": [],
   "source": [
    "# solution\n",
    "def min_change(target, denominations):\n",
    "    \"\"\"\n",
    "    Complexity:\n",
    "        Space: O(N), where N == size of array obtained from the target\n",
    "        Time: 0(N * d), where d == number of denominations provided.\n",
    "    \"\"\"\n",
    "    if target == 0:\n",
    "        return 0\n",
    "    \n",
    "    coin_list = [float('inf') for i in range(target + 1)]\n",
    "    # make the first index value to be zero\n",
    "    coin_list[0] = 0\n",
    "    \n",
    "    # for each denomination given\n",
    "    for denom in denominations:\n",
    "        # iterate through the coin list, \n",
    "        # updating each value to be the minimum num of coins required to make change for the respective index\n",
    "        for amount in range(len(coin_list)):\n",
    "            if denom <= amount:\n",
    "                coin_list[amount] = min(coin_list[amount], coin_list[amount - denom] + 1)\n",
    "    \n",
    "    return coin_list[target] if coin_list[target] != float('inf') else -1\n",
    "            "
   ]
  },
  {
   "cell_type": "code",
   "execution_count": 15,
   "metadata": {},
   "outputs": [
    {
     "data": {
      "text/plain": [
       "2"
      ]
     },
     "execution_count": 15,
     "metadata": {},
     "output_type": "execute_result"
    }
   ],
   "source": [
    "# run it\n",
    "min_change(7, [1, 2, 5])"
   ]
  },
  {
   "cell_type": "code",
   "execution_count": null,
   "metadata": {},
   "outputs": [],
   "source": []
  }
 ],
 "metadata": {
  "kernelspec": {
   "display_name": "Python 3",
   "language": "python",
   "name": "python3"
  },
  "language_info": {
   "codemirror_mode": {
    "name": "ipython",
    "version": 3
   },
   "file_extension": ".py",
   "mimetype": "text/x-python",
   "name": "python",
   "nbconvert_exporter": "python",
   "pygments_lexer": "ipython3",
   "version": "3.7.4"
  }
 },
 "nbformat": 4,
 "nbformat_minor": 2
}
