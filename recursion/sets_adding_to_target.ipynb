{
 "cells": [
  {
   "cell_type": "markdown",
   "metadata": {},
   "source": [
    "## Problem\n",
    "Given an array of non-negative integers, find the number of all the sets that add up to a given target.\n",
    "\n",
    "Sample input:\n",
    "```\n",
    "[1, 2, 4, 5, 7],  Target = 7\n",
    "```\n",
    "\n",
    "The output is `3`, i.e {1, 2, 4}, {2, 5} and {7} all add up to 7"
   ]
  },
  {
   "cell_type": "code",
   "execution_count": 22,
   "metadata": {},
   "outputs": [],
   "source": [
    "def count_sets(arr, total):\n",
    "    return helper(arr, total, len(arr) - 1, {})\n",
    "\n",
    "def helper(arr, total, i, mem) -> int:\n",
    "    key = f\"{total}:{i}\"\n",
    "    if key in mem:\n",
    "        return mem[key]\n",
    "    \n",
    "    if total == 0:\n",
    "        return 1\n",
    "    elif total < 0:\n",
    "        return 0\n",
    "    elif i < 0:\n",
    "        return 0 \n",
    "    elif total < arr[i]:\n",
    "        to_return = helper(arr, total, i - 1, mem)\n",
    "    else:\n",
    "        to_return = helper(arr, total - arr[i], i - 1, mem) + helper(arr, total, i - 1, mem)\n",
    "    mem[key] = to_return\n",
    "    return to_return"
   ]
  },
  {
   "cell_type": "code",
   "execution_count": 23,
   "metadata": {},
   "outputs": [
    {
     "data": {
      "text/plain": [
       "3"
      ]
     },
     "execution_count": 23,
     "metadata": {},
     "output_type": "execute_result"
    }
   ],
   "source": [
    "count_sets([1, 2, 4, 5, 7], 7)"
   ]
  }
 ],
 "metadata": {
  "kernelspec": {
   "display_name": "Python 3",
   "language": "python",
   "name": "python3"
  },
  "language_info": {
   "codemirror_mode": {
    "name": "ipython",
    "version": 3
   },
   "file_extension": ".py",
   "mimetype": "text/x-python",
   "name": "python",
   "nbconvert_exporter": "python",
   "pygments_lexer": "ipython3",
   "version": "3.7.6"
  }
 },
 "nbformat": 4,
 "nbformat_minor": 4
}
