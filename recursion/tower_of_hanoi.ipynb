{
 "cells": [
  {
   "cell_type": "markdown",
   "metadata": {},
   "source": [
    "### Problem\n",
    "You have 3 rods and N disks. The rods are placed on the first(source) rod. The disks are ordered by size, the smallest disk being at the top.\n",
    "\n",
    "The goal of the puzzle is to move all disks from the first rod to the last rod using the following rules:\n",
    "- You can only move one disk at a time\n",
    "- You cannot place a large disk on top of a smaller disk\n",
    "- A move consiste of moving a disk from one rod to another rod\n",
    "\n",
    "Write a function that prints all the necessary steps to complete the Tower of Hanoi.\n",
    "\n",
    "Assume that the rods are numbered: `First rod == 1, Auxiliary rod == 2, Target rod == 3`\n"
   ]
  },
  {
   "cell_type": "markdown",
   "metadata": {},
   "source": [
    "## Solution\n",
    "The idea is to think about the moves recursively.\n",
    "\n",
    "1. Recursively move **`N - 1`** disks from the source stack(1) to the middle(auxiliary) stack(2).\n",
    "2. Move the largest disk that remained in the source stack to target stack.\n",
    "3. Recursively move **`N - 1`** disks from the middle stack to the target stack."
   ]
  },
  {
   "cell_type": "code",
   "execution_count": null,
   "metadata": {},
   "outputs": [],
   "source": []
  }
 ],
 "metadata": {
  "kernelspec": {
   "display_name": "Python 3",
   "language": "python",
   "name": "python3"
  },
  "language_info": {
   "codemirror_mode": {
    "name": "ipython",
    "version": 3
   },
   "file_extension": ".py",
   "mimetype": "text/x-python",
   "name": "python",
   "nbconvert_exporter": "python",
   "pygments_lexer": "ipython3",
   "version": "3.7.6"
  }
 },
 "nbformat": 4,
 "nbformat_minor": 4
}
