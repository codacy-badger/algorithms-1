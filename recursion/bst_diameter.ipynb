{
 "cells": [
  {
   "cell_type": "markdown",
   "metadata": {},
   "source": [
    "### Problem\n",
    "Given the root of a Binary Search Tree, find its diameter."
   ]
  },
  {
   "cell_type": "markdown",
   "metadata": {},
   "source": [
    "### Solution\n",
    "The diameter of a tree T is the largest (max) of the following quantities:\n",
    "\n",
    "- the diameter of T’s left subtree.\n",
    "- the diameter of T’s right subtree.\n",
    "- the longest path between leaves that goes through the root of T (this can be computed from the heights of the subtrees of T)"
   ]
  },
  {
   "cell_type": "code",
   "execution_count": 7,
   "metadata": {},
   "outputs": [],
   "source": [
    "class Node:\n",
    "    def __init__(self, value, left=None, right=None):\n",
    "        self.value = value\n",
    "        self.left = left\n",
    "        self.right = right\n",
    "        \n",
    "def height(root):\n",
    "    if root is None:\n",
    "        return 0\n",
    "    return 1 + max(height(root.left), height(root.right))\n",
    "\n",
    "def diameter(root):\n",
    "    # base case: tree is empty\n",
    "    if root is None:\n",
    "        return 0\n",
    "    \n",
    "    lheight = height(root.left)\n",
    "    rheight = height(root.right)\n",
    "    \n",
    "    ldiameter = diameter(root.left)\n",
    "    rdiameter = diameter(root.right)\n",
    "    \n",
    "    return max(lheight + rheight + 1, max(ldiameter, rdiameter))"
   ]
  },
  {
   "cell_type": "code",
   "execution_count": 8,
   "metadata": {},
   "outputs": [],
   "source": [
    "bst = Node(6, Node(3, Node(1), Node(4, Node(2))), Node(8, Node(7), Node(9)))"
   ]
  },
  {
   "cell_type": "code",
   "execution_count": 9,
   "metadata": {},
   "outputs": [
    {
     "data": {
      "text/plain": [
       "6"
      ]
     },
     "execution_count": 9,
     "metadata": {},
     "output_type": "execute_result"
    }
   ],
   "source": [
    "diameter(bst)"
   ]
  }
 ],
 "metadata": {
  "kernelspec": {
   "display_name": "Python 3",
   "language": "python",
   "name": "python3"
  },
  "language_info": {
   "codemirror_mode": {
    "name": "ipython",
    "version": 3
   },
   "file_extension": ".py",
   "mimetype": "text/x-python",
   "name": "python",
   "nbconvert_exporter": "python",
   "pygments_lexer": "ipython3",
   "version": "3.7.6"
  }
 },
 "nbformat": 4,
 "nbformat_minor": 4
}
