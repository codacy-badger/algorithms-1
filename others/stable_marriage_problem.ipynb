{
 "cells": [
  {
   "cell_type": "markdown",
   "metadata": {},
   "source": [
    "## Stable Marriage Problem\n",
    "\n",
    "The stable marriage problem is defined as follows:\n",
    "\n",
    "Suppose you have N men and N women, and each person has ranked their prospective opposite-sex partners in order of preference.\n",
    "\n",
    "For example, if N = 3, the input could be something like this:\n",
    "\n",
    "```python\n",
    "guy_preferences = {\n",
    "    'andrew': ['caroline', 'abigail', 'betty'],\n",
    "    'bill': ['caroline', 'betty', 'abigail'],\n",
    "    'chester': ['betty', 'caroline', 'abigail'],\n",
    "}\n",
    "```\n",
    "\n",
    "```python\n",
    "gal_preferences = {\n",
    "    'abigail': ['andrew', 'bill', 'chester'],\n",
    "    'betty': ['bill', 'andrew', 'chester'],\n",
    "    'caroline': ['bill', 'chester', 'andrew']\n",
    "}\n",
    "```\n",
    "\n",
    "Write an algorithm that pairs the men and women together in such a way that no two people of opposite sex would both rather be with each other than with their current partners."
   ]
  },
  {
   "cell_type": "markdown",
   "metadata": {},
   "source": [
    "## Solution\n",
    "Don't be upset if you found this problem challenging: the Gale-Shapley algorithm to solve this ended up earning one its creators a Nobel Prize!\n",
    "\n",
    "The algorithm is as follows:\n",
    "At each step, we consider one currently unmarried man. This man goes through his list of partners, proposing to each one. If the woman is unmarried, she agrees automatically. Otherwise, she will consider whether she prefers this new suitor to her current husband. If she does, she \"trade up\" to the new offer.\n",
    "\n",
    "With the input above:\n",
    "- Andrew proposes to Caroline. Since Caroline is currently available, she says yes, and they get paired up. \n",
    "- Next, Bill has Caroline as her first choice. Unfortunately for Andrew, Caroline prefers Bill, so she dumps Andrew and pairs up with Bill.\n",
    "- Andrew goes to her second choice Abigail, and she agrees.\n",
    "- Finally Chester asks Betty to marry. Sadly for Betty, even though Chester is her least favorite, she has no choice but to agree."
   ]
  },
  {
   "cell_type": "markdown",
   "metadata": {},
   "source": [
    "```\n",
    "   men   |  women  | pairs\n",
    "-----------------------------\n",
    "A, B, C  | A, B, C |    -\n",
    "B, C     | A, B    | (A, C)\n",
    "A, C     | A, B    | (B, C)\n",
    "C        | B       | (B, C), (A, A)\n",
    "    -    |    -    | (B, C), (A, A), (C, B)\n",
    "\n",
    "```"
   ]
  },
  {
   "cell_type": "markdown",
   "metadata": {},
   "source": [
    "### How do we know this algorithm works?\n",
    "Each man must get married, or exhaust his list. In this algorithm, once a woman is married, she can't be single again - but can only exchange partners. Since every gal getting married means every guy getting married, we have reached a contradiction. \n",
    "\n",
    "We must also show that this matching is good that no two people (guy **and** gal) should secretly desire each other more than their current partners. This is impossible. \n",
    "\n",
    "As each guy goes through his list there are two scenarios:\n",
    "- The gal **first** accepted his offer and **later** took another guy, in which case she won't desire him now.\n",
    "- The gal rejects him as she is already in a stable marriage, which again means she cannot desire him now. \n",
    "\n",
    "Therefore, this algorithm will provide stable pairing, BUT not everyone will be happy. :)"
   ]
  },
  {
   "cell_type": "code",
   "execution_count": 2,
   "metadata": {},
   "outputs": [],
   "source": [
    "def format_input(guys, gals):\n",
    "    # reverse guys preferences, so popping the most desired gal takes O(1) time\n",
    "    guys = {guy: list(reversed(prefs)) for guy, prefs in guys.items()}\n",
    "    \n",
    "    # gal preferences are stored in a dict, so that comparing guys is O(1)\n",
    "    for gal, prefs in gals.items():\n",
    "        gals.update({gal: {guy: i for i, guy in enumerate(prefs)}})\n",
    "    \n",
    "    return guys, gals"
   ]
  },
  {
   "cell_type": "code",
   "execution_count": 10,
   "metadata": {},
   "outputs": [],
   "source": [
    "def match(guys, gals):\n",
    "    pairs = {}\n",
    "    \n",
    "    guys_prefs, gals_prefs = format_input(guys, gals)\n",
    "    \n",
    "    married_men = set()\n",
    "    married_women = set()\n",
    "    \n",
    "    bachelors = list(guys_prefs.keys())\n",
    "    \n",
    "    while bachelors:\n",
    "        man1 = bachelors.pop()\n",
    "        \n",
    "        while man1 not in married_men:\n",
    "            # find the gal he prefers O(1)\n",
    "            woman = guys_prefs[man1].pop()\n",
    "            \n",
    "            # if desired woman is not married, pair with the current man\n",
    "            if woman not in married_women:\n",
    "                married_men.add(man1)\n",
    "                married_women.add(woman)\n",
    "                pairs[woman] = man1\n",
    "            else:\n",
    "                # she's already married, now check if she desires this new man\n",
    "                # compare current husband with the new man(man1)\n",
    "                her_current_man = pairs[woman]\n",
    "\n",
    "                if gals_prefs[woman][man1] < gals_prefs[woman][her_current_man]:  # O(1)\n",
    "                    married_men.remove(her_current_man)\n",
    "                    bachelors.append(her_current_man)\n",
    "                    married_men.add(man1)\n",
    "                    pairs[woman] = man1\n",
    "    return pairs"
   ]
  },
  {
   "cell_type": "code",
   "execution_count": 11,
   "metadata": {},
   "outputs": [
    {
     "data": {
      "text/plain": [
       "{'betty': 'chester', 'caroline': 'bill', 'abigail': 'andrew'}"
      ]
     },
     "execution_count": 11,
     "metadata": {},
     "output_type": "execute_result"
    }
   ],
   "source": [
    "guys_preferences = {\n",
    "    'andrew': ['caroline', 'abigail', 'betty'],\n",
    "    'bill': ['caroline', 'betty', 'abigail'],\n",
    "    'chester': ['betty', 'caroline', 'abigail'],\n",
    "}\n",
    "\n",
    "gals_preferences = {\n",
    "    'abigail': ['andrew', 'bill', 'chester'],\n",
    "    'betty': ['bill', 'andrew', 'chester'],\n",
    "    'caroline': ['bill', 'chester', 'andrew']\n",
    "}\n",
    "match(guys_preferences, gals_preferences)"
   ]
  },
  {
   "cell_type": "markdown",
   "metadata": {},
   "source": [
    "In the worst case, we go through entire preference list of each man. This will take **O(N^2)** space and time, since we formatted our input to allow for constant time retrievals."
   ]
  },
  {
   "cell_type": "code",
   "execution_count": null,
   "metadata": {},
   "outputs": [],
   "source": []
  }
 ],
 "metadata": {
  "kernelspec": {
   "display_name": "Python 3",
   "language": "python",
   "name": "python3"
  },
  "language_info": {
   "codemirror_mode": {
    "name": "ipython",
    "version": 3
   },
   "file_extension": ".py",
   "mimetype": "text/x-python",
   "name": "python",
   "nbconvert_exporter": "python",
   "pygments_lexer": "ipython3",
   "version": "3.7.6"
  }
 },
 "nbformat": 4,
 "nbformat_minor": 4
}
