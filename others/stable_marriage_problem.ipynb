{
 "cells": [
  {
   "cell_type": "markdown",
   "metadata": {},
   "source": [
    "## Problem\n",
    "\n",
    "The stable marriage problem is defined as follows:\n",
    "\n",
    "Suppose you have N men and N women, and each person has ranked their prospective opposite-sex partners in order of preference.\n",
    "\n",
    "For example, if N = 3, the input could be something like this:\n",
    "\n",
    "```python\n",
    "guy_preferences = {\n",
    "    'andrew': ['caroline', 'abigail', 'betty'],\n",
    "    'bill': ['caroline', 'betty', 'abigail'],\n",
    "    'chester': ['betty', 'caroline', 'abigail'],\n",
    "}\n",
    "```\n",
    "\n",
    "```python\n",
    "gal_preferences = {\n",
    "    'abigail': ['andrew', 'bill', 'chester'],\n",
    "    'betty': ['bill', 'andrew', 'chester'],\n",
    "    'caroline': ['bill', 'chester', 'andrew']\n",
    "}\n",
    "```\n",
    "\n",
    "Write an algorithm that pairs the men and women together in such a way that no two people of opposite sex would both rather be with each other than with their current partners."
   ]
  },
  {
   "cell_type": "markdown",
   "metadata": {},
   "source": [
    "## Solution\n",
    "Don't be upset if you found this problem challenging: the Gale-Shapley algorithm to solve this ended up earning one its creators a Nobel Prize!\n",
    "\n",
    "The algorithm is as follows:\n",
    "At each step, we consider one currently unmarried man. This man goes through his list of partners, proposing to each one. If the woman is unmarried, she agrees automatically. Otherwise, she will consider whether she prefers this new suitor to her current husband. If she does, she \"trade up\" to the new offer.\n",
    "\n",
    "With the input above, we begin with Andrew, who proposes to Caroline. Since Caroline is currently available, she says yes, and they get married. \n",
    "\n",
    "We go to Bill who has Caroline as her first choice. Unfortunately for Andrew, Caroline prefers Bill, so she dumps Andrew and takes up with Bill.\n",
    "\n",
    "Andrew goes to her second choice Abigail, to marry, and she agrees. Finally Chester asks Betty to marry. Sadly for Betty, even though Chester is her least favorite, she has no alternative but to agree.\n",
    "\n"
   ]
  },
  {
   "cell_type": "code",
   "execution_count": null,
   "metadata": {},
   "outputs": [],
   "source": []
  }
 ],
 "metadata": {
  "kernelspec": {
   "display_name": "Python 3",
   "language": "python",
   "name": "python3"
  },
  "language_info": {
   "codemirror_mode": {
    "name": "ipython",
    "version": 3
   },
   "file_extension": ".py",
   "mimetype": "text/x-python",
   "name": "python",
   "nbconvert_exporter": "python",
   "pygments_lexer": "ipython3",
   "version": "3.7.6"
  }
 },
 "nbformat": 4,
 "nbformat_minor": 4
}
