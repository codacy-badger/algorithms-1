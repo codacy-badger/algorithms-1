{
 "cells": [
  {
   "cell_type": "markdown",
   "metadata": {},
   "source": [
    "## Implement Regular Expression Matching\n",
    "\n",
    "Implement regular expression matching with the following special characters:\n",
    "\n",
    ". (period) which matches any single character\n",
    "* (asterisk) which matches zero or more of the preceding element\n",
    "That is, implement a function that takes in a string and a valid regular expression and returns whether or not the string matches the regular expression.\n",
    "\n",
    "For example, given the regular expression \"ra.\" and the string \"ray\", your function should return true. The same regular expression on the string \"raymond\" should return false.\n",
    "\n",
    "Given the regular expression \".*at\" and the string \"chat\", your function should return true. The same regular expression on the string \"chats\" should return false."
   ]
  },
  {
   "cell_type": "code",
   "execution_count": null,
   "metadata": {},
   "outputs": [],
   "source": [
    "### Approach\n",
    "\n",
    "# helper function that check first matching character\n",
    "\n",
    "# base case: if r == '', return s == ''  //  s = \"123\" .. recursive(s, r)\n",
    "# Otherwise if the first thing in r is not an asterisk(*), then match the first character of both r and s. If they match, return match(r[1:], s[1:]). If they don't return false.\n",
    "# If the first things in r is an asterisk, then \n",
    "\n",
    "def match_first_char(s, r):\n",
    "    return s[0] == r[0] or r[0] == \".\" and len(s) > 0\n",
    "\n",
    "def matches(s, r):\n",
    "    # base case \n",
    "    if r == \"\":\n",
    "        return s == \"\"\n",
    "    \n",
    "    # The first char in the regex r is not proceeded by a *\n",
    "    if len(r) == 1 or r[0] != \"*\":\n",
    "        if matches_first_char(r, s):\n",
    "            return matches(s[1:], r[1:])\n",
    "        else:\n",
    "            return False\n",
    "        \n",
    "    # The first char in r is proceeded by *\n",
    "    if matches(s, r[2:]):\n",
    "        # Try zero length\n",
    "        return True\n",
    "    \n",
    "    # If it doesn't match staight away, try globbing until\n",
    "    # the first character of the string doesn't match anymore.\n",
    "    i = 0\n",
    "    while matches_first_char(s[i:], r):\n",
    "        if matches(s[i + 1:], r):\n",
    "            return True\n",
    "        i += 1\n",
    "    "
   ]
  }
 ],
 "metadata": {
  "kernelspec": {
   "display_name": "Python 3",
   "language": "python",
   "name": "python3"
  },
  "language_info": {
   "codemirror_mode": {
    "name": "ipython",
    "version": 3
   },
   "file_extension": ".py",
   "mimetype": "text/x-python",
   "name": "python",
   "nbconvert_exporter": "python",
   "pygments_lexer": "ipython3",
   "version": "3.7.6"
  }
 },
 "nbformat": 4,
 "nbformat_minor": 4
}
