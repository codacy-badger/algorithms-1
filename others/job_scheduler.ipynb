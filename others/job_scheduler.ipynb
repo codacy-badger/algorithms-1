{
 "cells": [
  {
   "cell_type": "markdown",
   "metadata": {},
   "source": [
    "## Job Scheduler \n",
    "\n",
    "Implement a job scheduler that takes in a function f and an integer N, and calls the function after N milliseconds.\n"
   ]
  },
  {
   "cell_type": "markdown",
   "metadata": {},
   "source": [
    "### 1st Approach\n",
    "There are many ways to do this. A more straightforward solution is to spin off a new thread on each function we want to delay, sleep for N milliseconds, then run the function.\n"
   ]
  },
  {
   "cell_type": "code",
   "execution_count": 3,
   "metadata": {},
   "outputs": [],
   "source": [
    "import threading\n",
    "from time import sleep\n",
    "\n",
    "class Scheduler:\n",
    "    def __init__(self):\n",
    "        pass\n",
    "    \n",
    "    def delay(self, func, n):\n",
    "        def sleep_then_call(n):\n",
    "            sleep(n / 1000)\n",
    "            func()\n",
    "        \n",
    "        t = threading.Thread(target=sleep_then_call)\n",
    "        t.start()"
   ]
  },
  {
   "cell_type": "markdown",
   "metadata": {},
   "source": [
    "###  2nd Approach\n",
    "While this works, there's a huge problem with our logic: we spin off a new thread each time we call delay! The number of threads will easily grow as we have more functions to schedule. \n",
    "\n",
    "We can solve this by having one dedicated thread to call functions, and storing functions we need to call in some data structure, say a list. \n",
    "\n",
    "Then do polling to check when to run a function. We can store each function along with a unix epoch timestamp that tells when it should run. \n",
    "\n",
    "After checking the list for any jobs that are due to run, we run them and remove them from the list."
   ]
  },
  {
   "cell_type": "code",
   "execution_count": 17,
   "metadata": {},
   "outputs": [],
   "source": [
    "import threading\n",
    "from time import sleep, time\n",
    "\n",
    "class Scheduler:\n",
    "    def __init__(self):\n",
    "        self.functions = []  # saves tuple of (function, time-to-run-it)\n",
    "        t = threading.Thread(target=self.poll)\n",
    "        t.start()\n",
    "        \n",
    "    def poll(self):\n",
    "        while True:\n",
    "            now = time() * 1000.  # change from sec to ms\n",
    "            for function, due in self.functions:\n",
    "                if now > due:\n",
    "                    function()\n",
    "            self.functions = [(function, due) for (function, due) in self.functions if due > now]\n",
    "            sleep(0.01)\n",
    "            \n",
    "    def delay(self, function, n):\n",
    "        self.functions.append((function, time() * 1000 + n))"
   ]
  },
  {
   "cell_type": "code",
   "execution_count": null,
   "metadata": {},
   "outputs": [],
   "source": []
  }
 ],
 "metadata": {
  "kernelspec": {
   "display_name": "Python 3",
   "language": "python",
   "name": "python3"
  },
  "language_info": {
   "codemirror_mode": {
    "name": "ipython",
    "version": 3
   },
   "file_extension": ".py",
   "mimetype": "text/x-python",
   "name": "python",
   "nbconvert_exporter": "python",
   "pygments_lexer": "ipython3",
   "version": "3.7.6"
  }
 },
 "nbformat": 4,
 "nbformat_minor": 4
}
