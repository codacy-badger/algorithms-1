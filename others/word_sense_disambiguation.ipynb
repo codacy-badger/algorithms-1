{
 "cells": [
  {
   "cell_type": "markdown",
   "metadata": {},
   "source": [
    "## Problem: Word Sense Disambiguation\n",
    "\n",
    "Word sense disambiguation is the problem of determining which sense a word takes on in a particular setting, if that word has multiple meanings. \n",
    "\n",
    "For example, in the sentence \"I went to get money from the bank\", bank probably means the place where people deposit money, not the land beside a river or lake.\n",
    "\n",
    "Suppose you are given a list of meanings for several words, formatted like so:\n",
    "```json\n",
    "{\n",
    "    \"word_1\": [\"meaning one\", \"meaning two\", ...],\n",
    "    ...\n",
    "    \"word_n\": [\"meaning one\", \"meaning two\", ...]\n",
    "}\n",
    "```\n",
    "\n",
    "Given a sentence, most of whose words are contained in the meaning list above, create an algorithm that determines the likely sense of each possibly ambiguous word."
   ]
  },
  {
   "cell_type": "markdown",
   "metadata": {},
   "source": [
    "## Solution\n",
    "The idea here is that for each ambiguous word, we can compare the set of words in each sense's dictionary definition to the words in the immediate context of the sentence. \n",
    "\n",
    "If there is a lot of overlap, it is likely that that sense is correct.\n",
    "\n",
    "\n",
    "Now let's say our sentence is `'I drove my car past the fork in the road to put some money in the bank.'`\n",
    "\n",
    "When we compare each word's sense, we find the following overlaps:\n",
    "\n",
    "```\n",
    "word  | sense | overlap\n",
    "-----------------------\n",
    "bank  |   1   |   - (empty)\n",
    "bank  |   2   | money\n",
    "fork  |   1   |   - (empty)\n",
    "fork  |   2   | road\n",
    "\n",
    "\n",
    "```\n",
    "Here we remove overlapping stopwords, such as `'in'` and `'to'`. \n",
    "\n",
    "We can see that since only the second senses of bank and fork have similarities to our sentence, those are the meaning we should choose.\n",
    "\n",
    "Our algorithm, then, will find the sense with the most overlap for each ambiguous word, and store a mapping from word to best sense in a result dictionary."
   ]
  },
  {
   "cell_type": "code",
   "execution_count": 20,
   "metadata": {},
   "outputs": [],
   "source": [
    "import re\n",
    "\n",
    "STOPWORDS = set(['a', 'in', 'or', 'the', 'to'])\n",
    "\n",
    "def normalize(sentense):\n",
    "    \"\"\"Sift out stop words and characters that aren't alphabets\"\"\"\n",
    "    sentense = re.sub('[^A-Za-z]', ' ', sentense)\n",
    "    words = sentense.lower().split()\n",
    "    sentense = [word for word in words if word not in STOPWORDS]\n",
    "    return sentense"
   ]
  },
  {
   "cell_type": "code",
   "execution_count": 21,
   "metadata": {},
   "outputs": [
    {
     "data": {
      "text/plain": [
       "['i',\n",
       " 'have',\n",
       " 'dream',\n",
       " 'last',\n",
       " 'night',\n",
       " 'that',\n",
       " 'year',\n",
       " 'will',\n",
       " 'be',\n",
       " 'good',\n",
       " 'for',\n",
       " 'us']"
      ]
     },
     "execution_count": 21,
     "metadata": {},
     "output_type": "execute_result"
    }
   ],
   "source": [
    "normalize(\"I have a dream last night that the year 2021 will be good 1 for us!\")"
   ]
  },
  {
   "cell_type": "code",
   "execution_count": 35,
   "metadata": {},
   "outputs": [],
   "source": [
    "def disambiguate(sentense, words, meanings):\n",
    "    \"\"\"O(W * S * L) time, where W=words to disambiguate, S=number of senses for each word, L=length of definitions for each sense\n",
    "    O()\n",
    "    \"\"\"\n",
    "    \n",
    "    sentense = set(normalize(sentense))\n",
    "    true_senses = {}\n",
    "    for word in words:\n",
    "        true_senses[word] = None\n",
    "        max_overlaps = 0\n",
    "        for meaning in meanings[word]:\n",
    "            definition = set(normalize(meaning))\n",
    "            overlaps = definition.intersection(sentense)\n",
    "            if len(overlaps) > max_overlaps:\n",
    "                max_overlaps = len(overlaps)\n",
    "                true_senses[word] = meaning\n",
    "    return true_senses"
   ]
  },
  {
   "cell_type": "markdown",
   "metadata": {},
   "source": [
    "### Testing it out"
   ]
  },
  {
   "cell_type": "code",
   "execution_count": 61,
   "metadata": {},
   "outputs": [
    {
     "data": {
      "text/plain": [
       "{'fork': 'bend in the road', 'bank': 'place to deposit money'}"
      ]
     },
     "execution_count": 61,
     "metadata": {},
     "output_type": "execute_result"
    }
   ],
   "source": [
    "meanings = {\n",
    "    'bank': ['land beside a river or lake', 'place to deposit money'],\n",
    "    'fork': ['eating utensil', 'bend in the road']\n",
    "}\n",
    "disambiguate(\n",
    "    sentense=\"I drove my car past the fork in the road to put my money to the bank\", \n",
    "    words=['fork', 'bank'],\n",
    "    meanings=meanings\n",
    ")"
   ]
  }
 ],
 "metadata": {
  "kernelspec": {
   "display_name": "Python 3",
   "language": "python",
   "name": "python3"
  },
  "language_info": {
   "codemirror_mode": {
    "name": "ipython",
    "version": 3
   },
   "file_extension": ".py",
   "mimetype": "text/x-python",
   "name": "python",
   "nbconvert_exporter": "python",
   "pygments_lexer": "ipython3",
   "version": "3.7.6"
  }
 },
 "nbformat": 4,
 "nbformat_minor": 4
}
