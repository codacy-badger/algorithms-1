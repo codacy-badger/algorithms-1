{
 "cells": [
  {
   "cell_type": "markdown",
   "metadata": {},
   "source": [
    "## Hit Counter\n",
    "\n",
    "Design and implement a HitCounter class that keeps track of requests (or hits). It should support the following operations:\n",
    "\n",
    "- record(timestamp): records a hit that happened at timestamp\n",
    "- total(): returns the total number of hits recorded\n",
    "- range(lower, upper): returns the number of hits that occurred between timestamps lower and upper (inclusive)\n",
    "\n",
    "What if our system has limited memory?"
   ]
  },
  {
   "cell_type": "code",
   "execution_count": 1,
   "metadata": {},
   "outputs": [],
   "source": [
    "class HitCounter:\n",
    "    def __init__(self):\n",
    "        self.hits = []\n",
    "    \n",
    "    def record(timestamp):\n",
    "        self.hits.append(timestamp)\n",
    "    \n",
    "    def total():\n",
    "        return len(self.hits)\n",
    "    \n",
    "    def range(lower, upper):\n",
    "        count = 0\n",
    "        for hit in self.hits:\n",
    "            if lower <= hit <= upper:\n",
    "                count += 1\n",
    "        return count"
   ]
  },
  {
   "cell_type": "markdown",
   "metadata": {},
   "source": [
    "Here record and count are constant time operations. Range takes O(N) time.\n",
    "\n",
    "One tradeoff we can make is to use a sorted list or BST to keep track of the hits. This allows range operation to take O(log N) time.\n"
   ]
  },
  {
   "cell_type": "code",
   "execution_count": null,
   "metadata": {},
   "outputs": [],
   "source": []
  }
 ],
 "metadata": {
  "kernelspec": {
   "display_name": "Python 3",
   "language": "python",
   "name": "python3"
  },
  "language_info": {
   "codemirror_mode": {
    "name": "ipython",
    "version": 3
   },
   "file_extension": ".py",
   "mimetype": "text/x-python",
   "name": "python",
   "nbconvert_exporter": "python",
   "pygments_lexer": "ipython3",
   "version": "3.7.6"
  }
 },
 "nbformat": 4,
 "nbformat_minor": 4
}
