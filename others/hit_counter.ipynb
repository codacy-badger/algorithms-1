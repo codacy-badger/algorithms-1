{
 "cells": [
  {
   "cell_type": "markdown",
   "metadata": {},
   "source": [
    "## Hit Counter\n",
    "\n",
    "Design and implement a HitCounter class that keeps track of requests (or hits). It should support the following operations:\n",
    "\n",
    "- record(timestamp): records a hit that happened at timestamp\n",
    "- total(): returns the total number of hits recorded\n",
    "- range(lower, upper): returns the number of hits that occurred between timestamps lower and upper (inclusive)\n",
    "\n",
    "What if our system has limited memory?"
   ]
  },
  {
   "cell_type": "code",
   "execution_count": 1,
   "metadata": {},
   "outputs": [],
   "source": [
    "class HitCounter:\n",
    "    def __init__(self):\n",
    "        self.hits = []\n",
    "    \n",
    "    def record(timestamp):\n",
    "        self.hits.append(timestamp)\n",
    "    \n",
    "    def total():\n",
    "        return len(self.hits)\n",
    "    \n",
    "    def range(lower, upper):\n",
    "        count = 0\n",
    "        for hit in self.hits:\n",
    "            if lower <= hit <= upper:\n",
    "                count += 1\n",
    "        return count"
   ]
  },
  {
   "cell_type": "markdown",
   "metadata": {},
   "source": [
    "Here record and count are constant time operations. Range takes O(N) time.\n",
    "\n",
    "One tradeoff we can make is to use a sorted list or BST to keep track of the hits. This allows range operation to take O(log N) time. We can use Python's [bisect](https://docs.python.org/3/library/bisect.html) to handle sortedness.\n"
   ]
  },
  {
   "cell_type": "code",
   "execution_count": 3,
   "metadata": {},
   "outputs": [],
   "source": [
    "import bisect\n",
    "\n",
    "\n",
    "class HitCounter:\n",
    "    def __init__(self):\n",
    "        self.hits = []\n",
    "        \n",
    "    def record(timestamp):\n",
    "        bisect.insort_left(self.hits, timestamp)\n",
    "    \n",
    "    def total():\n",
    "        return len(self.hits)\n",
    "    \n",
    "    def range(lower, upper):\n",
    "        low = bisect.bisect_left(self.hits, lower)\n",
    "        high = bisect.bisect_right(self.hits, upper)\n",
    "        return high - low"
   ]
  },
  {
   "cell_type": "markdown",
   "metadata": {},
   "source": [
    "While this is time efficient, it'll still take a lot of space because we are still saving each timestamp into the list.\n",
    "\n",
    "We can sacrifice accuracy for memory by grouping timestamps into minutes or hours. We'll lose accuracy around the boarders but use upto a constant factor less space.  \n",
    "\n",
    "For our solution, we'll keep track of each group in a tuple, where the first item is a timestamp (in minutes) and the second item is the number of hits occuring within that minute. We'll sort the tuple by minute to allow record to run in O(log N) time.\n",
    "\n",
    "```\n",
    "tuple = (minute,  hits_within_this_minute)\n",
    "```"
   ]
  },
  {
   "cell_type": "code",
   "execution_count": 4,
   "metadata": {},
   "outputs": [],
   "source": [
    "import bisect\n",
    "from math import floor\n",
    "\n",
    "class HitCounter:\n",
    "    def __init__(self):\n",
    "        self.hits = []\n",
    "        self.counter = 0\n",
    "        \n",
    "    def record(timestamp):\n",
    "        self.counter += 1\n",
    "        \n",
    "        minute = floor(timestamp / 60)\n",
    "        \n",
    "        idx = bisect.bisect_left([hit[0] for hit in self.hits], minute)\n",
    "        \n",
    "        if idx < len(hits) and self.hits[idx][0] == minute:\n",
    "            self.hits[idx] = (minute, self.hits[idx][1] + 1)\n",
    "        else:\n",
    "            self.hits.insert(idx, (minute, 1))\n",
    "        \n",
    "    def total():\n",
    "        return self.counter\n",
    "    \n",
    "    def range(lower, higher):\n",
    "        lo = floor(lower / 60)\n",
    "        hi = floor(higher / 60)\n",
    "        lo_idx = bisect.bisect_left([hit[0] for hit in self.hits], lo)\n",
    "        hi_idx = bisect.bisect_right([hit[0] for hit in self.hits], hi)\n",
    "        \n",
    "        # sum the counts of each tuple within the range(lo, hi)\n",
    "        return sum(self.hits[i][0] for i in range(lo_idx, hi_idx))"
   ]
  },
  {
   "cell_type": "code",
   "execution_count": null,
   "metadata": {},
   "outputs": [],
   "source": []
  }
 ],
 "metadata": {
  "kernelspec": {
   "display_name": "Python 3",
   "language": "python",
   "name": "python3"
  },
  "language_info": {
   "codemirror_mode": {
    "name": "ipython",
    "version": 3
   },
   "file_extension": ".py",
   "mimetype": "text/x-python",
   "name": "python",
   "nbconvert_exporter": "python",
   "pygments_lexer": "ipython3",
   "version": "3.7.6"
  }
 },
 "nbformat": 4,
 "nbformat_minor": 4
}
