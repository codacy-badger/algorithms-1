{
 "cells": [
  {
   "cell_type": "markdown",
   "metadata": {},
   "source": [
    "## Kaprekar's constant\n",
    "\n",
    "The number 6174 is known as Kaprekar's contant, after the mathematician who discovered an associated property: for all four-digit numbers with at least two distinct digits, repeatedly applying a simple procedure eventually results in this value. \n",
    "\n",
    "The procedure is as follows:\n",
    "\n",
    "- For a given input x, create two new numbers that consist of the digits in x in ascending and descending order.\n",
    "- Subtract the smaller number from the larger number.\n",
    "\n",
    "For example, this algorithm terminates in three steps when starting from 1234:\n",
    "\n",
    "```js\n",
    "4321 - 1234 = 3087\n",
    "8730 - 0378 = 8352\n",
    "8532 - 2358 = 6174\n",
    "```\n",
    "Write a function that returns how many steps this will take for a given input N."
   ]
  },
  {
   "cell_type": "code",
   "execution_count": 15,
   "metadata": {},
   "outputs": [],
   "source": [
    "def get_digits(n):\n",
    "    digits = str(n)\n",
    "    if len(digits) == 4:\n",
    "        return digits\n",
    "    else:\n",
    "        return '0' * (4 - len(digits)) + digits\n",
    "\n",
    "def count_steps(n):\n",
    "    count = 0\n",
    "    while n != 6174:\n",
    "        n = int(''.join(sorted(get_digits(n), reverse=True))) - int(''.join(sorted(get_digits(n))))\n",
    "        count += 1\n",
    "    return count"
   ]
  },
  {
   "cell_type": "code",
   "execution_count": 16,
   "metadata": {},
   "outputs": [
    {
     "data": {
      "text/plain": [
       "3"
      ]
     },
     "execution_count": 16,
     "metadata": {},
     "output_type": "execute_result"
    }
   ],
   "source": [
    "count_steps(12)"
   ]
  }
 ],
 "metadata": {
  "kernelspec": {
   "display_name": "Python 3",
   "language": "python",
   "name": "python3"
  },
  "language_info": {
   "codemirror_mode": {
    "name": "ipython",
    "version": 3
   },
   "file_extension": ".py",
   "mimetype": "text/x-python",
   "name": "python",
   "nbconvert_exporter": "python",
   "pygments_lexer": "ipython3",
   "version": "3.7.6"
  }
 },
 "nbformat": 4,
 "nbformat_minor": 4
}
