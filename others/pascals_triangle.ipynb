{
 "cells": [
  {
   "cell_type": "markdown",
   "id": "2620de72",
   "metadata": {},
   "source": [
    "## Pascals Triangle\n",
    "\n",
    "A Pascal's triangle is a triangular array of integers contructed as follows:\n",
    "- First row consists of number 1\n",
    "- For each row below it, each element is the sum of the numbers directly above it, on either side.\n",
    "\n",
    "For example:\n",
    "```\n",
    "        1\n",
    "      1   1\n",
    "    1   2   1\n",
    "  1  3    3   1\n",
    "1  4   6    4   1\n",
    "```\n",
    "\n",
    "Given k, return kth row of the triangle\n",
    "\n"
   ]
  },
  {
   "cell_type": "markdown",
   "id": "4dece3a7",
   "metadata": {},
   "source": [
    "### Solution 1\n",
    "We can make the triangle a right angle to simplify the problem.\n",
    "```\n",
    "1\n",
    "1 1\n",
    "1 2 1\n",
    "1 3 3 1\n",
    "1 4 6 4 1\n",
    "```\n",
    "Initialize a k by k array, iterate through each row, setting each value to be the sum of its top and top-left values"
   ]
  },
  {
   "cell_type": "code",
   "execution_count": 1,
   "id": "0176970f",
   "metadata": {},
   "outputs": [],
   "source": [
    "def pascal(k):\n",
    "    rows = [[0 for i in range(k)] for _ in range(k)]\n",
    "    \n",
    "    rows[0][0] = 1\n",
    "    \n",
    "    for i in range(1, k):\n",
    "        for j in range(i + 1):\n",
    "            rows[i][j] = rows[i - 1][j] + rows[i - 1][j - 1] \n",
    "    \n",
    "    return rows[-1]\n"
   ]
  },
  {
   "cell_type": "code",
   "execution_count": 2,
   "id": "e9d66152",
   "metadata": {},
   "outputs": [
    {
     "data": {
      "text/plain": [
       "[1, 4, 6, 4, 1]"
      ]
     },
     "execution_count": 2,
     "metadata": {},
     "output_type": "execute_result"
    }
   ],
   "source": [
    "pascal(5)"
   ]
  },
  {
   "cell_type": "markdown",
   "id": "20ebd9aa",
   "metadata": {},
   "source": [
    "### Solution 2\n",
    "The above solution takes O(k^2) time and space.\n",
    "We can solve in O(k) space.\n",
    "\n",
    "Consider a row, say k = 3 and preceded and appended with a zero: [0, 1, 3, 3, 1, 0]. It turns out that working out backwards through this row, incrementing each value by that of its left neighbor will give us a solution.\n",
    "\n",
    "For example for row [0, 1, 3, 3, 1, 0], we will perform the following operations:\n",
    "- replace right-most 0 with 0 + 1 = 1\n",
    "- replace 1 with 1 + 3 = 4\n",
    "- replace 3 with 3 + 3 = 6\n",
    "- replace 3 with 3 + 1 = 4\n",
    "- replace 1 with 1 + 0 = 1\n",
    "\n",
    "The resulting row will be [0, 1, 4, 6, 4, 1], and the first element will remain untouched (zero).\n",
    "After doing this k times, we return the row with the first element (zero) removed.\n"
   ]
  },
  {
   "cell_type": "code",
   "execution_count": 4,
   "id": "7bf6ac00",
   "metadata": {},
   "outputs": [],
   "source": [
    "def pascal_triangle(k):\n",
    "    row = [0 for _ in range(k + 1)]\n",
    "    row[1] = 1\n",
    "    \n",
    "    for i in range(1, k + 1):\n",
    "        for j in range(i, 0, -1):\n",
    "            row[j] += row[j - 1]\n",
    "            \n",
    "    return row[1:]\n"
   ]
  },
  {
   "cell_type": "code",
   "execution_count": 5,
   "id": "c79b5082",
   "metadata": {},
   "outputs": [
    {
     "data": {
      "text/plain": [
       "[1, 5, 10, 10, 5, 1]"
      ]
     },
     "execution_count": 5,
     "metadata": {},
     "output_type": "execute_result"
    }
   ],
   "source": [
    "pascal_triangle(k=6)"
   ]
  },
  {
   "cell_type": "code",
   "execution_count": null,
   "id": "cc26d61e",
   "metadata": {},
   "outputs": [],
   "source": []
  }
 ],
 "metadata": {
  "kernelspec": {
   "display_name": "Python 3 (ipykernel)",
   "language": "python",
   "name": "python3"
  },
  "language_info": {
   "codemirror_mode": {
    "name": "ipython",
    "version": 3
   },
   "file_extension": ".py",
   "mimetype": "text/x-python",
   "name": "python",
   "nbconvert_exporter": "python",
   "pygments_lexer": "ipython3",
   "version": "3.9.7"
  }
 },
 "nbformat": 4,
 "nbformat_minor": 5
}
