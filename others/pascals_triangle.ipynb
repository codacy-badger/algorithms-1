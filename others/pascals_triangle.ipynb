{
 "cells": [
  {
   "cell_type": "markdown",
   "id": "aa8c5f9a",
   "metadata": {},
   "source": [
    "## Pascals Triangle\n",
    "\n",
    "A Pascal's triangle is a triangular array of integers contructed as follows:\n",
    "- First row consists of number 1\n",
    "- For each row below it, each element is the sum of the numbers directly above it, on either side.\n",
    "\n",
    "For example:\n",
    "```\n",
    "        1\n",
    "      1   1\n",
    "    1   2   1\n",
    "  1  3    3   1\n",
    "1  4   6    4   1\n",
    "```\n",
    "\n",
    "Given k, return kth row of the triangle\n",
    "\n"
   ]
  },
  {
   "cell_type": "markdown",
   "id": "145b0e2b",
   "metadata": {},
   "source": [
    "### Solution 1\n",
    "We can make the triangle a right angle to simplify the problem.\n",
    "```\n",
    "1\n",
    "1 1\n",
    "1 2 1\n",
    "1 3 3 1\n",
    "1 4 6 4 1\n",
    "```\n",
    "Initialize a k by k array, iterate through each row, setting each value to be the sum of its top and top-left values"
   ]
  },
  {
   "cell_type": "code",
   "execution_count": 1,
   "id": "f5b3ce06",
   "metadata": {},
   "outputs": [],
   "source": [
    "def pascal(k):\n",
    "    rows = [[0 for i in range(k)] for _ in range(k)]\n",
    "    \n",
    "    rows[0][0] = 1\n",
    "    \n",
    "    for i in range(1, k):\n",
    "        for j in range(i + 1):\n",
    "            rows[i][j] = rows[i - 1][j] + rows[i - 1][j - 1] \n",
    "    \n",
    "    return rows[-1]\n"
   ]
  },
  {
   "cell_type": "code",
   "execution_count": 2,
   "id": "c3d41d1e",
   "metadata": {},
   "outputs": [
    {
     "data": {
      "text/plain": [
       "[1, 4, 6, 4, 1]"
      ]
     },
     "execution_count": 2,
     "metadata": {},
     "output_type": "execute_result"
    }
   ],
   "source": [
    "pascal(5)"
   ]
  },
  {
   "cell_type": "code",
   "execution_count": null,
   "id": "33842227",
   "metadata": {},
   "outputs": [],
   "source": []
  }
 ],
 "metadata": {
  "kernelspec": {
   "display_name": "Python 3 (ipykernel)",
   "language": "python",
   "name": "python3"
  },
  "language_info": {
   "codemirror_mode": {
    "name": "ipython",
    "version": 3
   },
   "file_extension": ".py",
   "mimetype": "text/x-python",
   "name": "python",
   "nbconvert_exporter": "python",
   "pygments_lexer": "ipython3",
   "version": "3.9.7"
  }
 },
 "nbformat": 4,
 "nbformat_minor": 5
}
