{
 "cells": [
  {
   "cell_type": "code",
   "execution_count": null,
   "metadata": {},
   "outputs": [],
   "source": [
    "class MinHeap:\n",
    "    def __init__(self, array):\n",
    "        self.heap = self.buildHeap(array)\n",
    "    \n",
    "    def buildHeap(self, array):\n",
    "        lastParentIndex = (len(array) - 2) // 2\n",
    "        for currentIndex in reversed(range(lastParentIndex + 1)):\n",
    "            self.siftDown(currentIndex, len(array) - 1, array)\n",
    "        return array\n",
    "    \n",
    "    def siftDown(self, currentIdx, endIdx, heap):\n",
    "        childOneIdx = currentIdx * 2 + 1\n",
    "        while childOneIdx <= endIdx:\n",
    "            if currentIdx * 2 + 2 <= endIdx:\n",
    "                childTwoIdx = currentIdx * 2 + 2\n",
    "            else:\n",
    "                childTwoIdx = -1\n",
    "                \n",
    "            if childTwoIdx != -1 and childTwoIdx < childOneIdx:\n",
    "                indexToSwap = childTwoIdx\n",
    "            else:\n",
    "                indexToSwap = childOneIdx\n",
    "            \n",
    "            if heap[indexToSwap] < heap[currentIdx];\n",
    "                self.swap(currentIdx, indexToSwap, heap)\n",
    "                # update the new current index\n",
    "                currentIdx = indexToSwap\n",
    "                # get the new child for this new currentIdx, if any\n",
    "                childOneIdx = currentIdx * 2 + 1\n",
    "            else:\n",
    "                return\n",
    "        \n",
    "    \n",
    "    def swap(self, i, j, heap):\n",
    "        heap[i], heap[j] = heap[j], heap[i]"
   ]
  }
 ],
 "metadata": {
  "kernelspec": {
   "display_name": "Python 3",
   "language": "python",
   "name": "python3"
  },
  "language_info": {
   "codemirror_mode": {
    "name": "ipython",
    "version": 3
   },
   "file_extension": ".py",
   "mimetype": "text/x-python",
   "name": "python",
   "nbconvert_exporter": "python",
   "pygments_lexer": "ipython3",
   "version": "3.7.6"
  }
 },
 "nbformat": 4,
 "nbformat_minor": 4
}
