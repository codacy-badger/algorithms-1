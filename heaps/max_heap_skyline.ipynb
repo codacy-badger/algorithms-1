{
 "cells": [
  {
   "cell_type": "markdown",
   "metadata": {},
   "source": [
    "## Skyline\n",
    "\n",
    "The skyline of a city is composed of several buildings of various widths and heights, possibly overlapping one another when viewed from a distance. We can represent the buildings using an array of `(left, right, height)` tuples, which tell us where on an imaginary x-axis a building begins and ends, and how tall it is. The skyline itself can be described by a list of (X, height) tuples. X denotes the location at which the height visible to a distant observer changes, and height is the new height observed at that point.\n",
    "\n",
    "Given an array of buildings as described above, create a function that returns the skyline.\n",
    "\n",
    "For example, if the input consists of the buildings \n",
    "\n",
    "```python\n",
    "[(0, 15, 3), (4, 11, 5), (19, 23, 4)]\n",
    "```\n",
    "\n",
    "These buildings would create a skyline that looks like the one below:\n",
    "\n",
    "```\n",
    "     ______  \n",
    "    |      |        ___\n",
    " ___|      |___    |   | \n",
    "|   |   B  |   |   | C |\n",
    "| A |      | A |   |   |\n",
    "|   |      |   |   |   |\n",
    "------------------------\n",
    "\n",
    "```\n",
    "\n",
    "Output:\n",
    "\n",
    "`[(0, 3), (4, 5), (11, 3), (15, 0), (19, 4), (23, 0)]`."
   ]
  },
  {
   "cell_type": "markdown",
   "metadata": {},
   "source": [
    "## Approach\n",
    "For each building we have to compare its height with others that overlap with it. This comparison with each building in the list will lead to a O(N2) runtime. \n",
    "\n",
    "To speed it up, we can use a max heap. The max heap will hold at all the buildings that overlap with the current building, and ordered by height.\n",
    "\n",
    "First step is to order the buildings using their `left` edge values, and use `height` to break any tie. \n",
    "\n",
    "For each building:\n",
    "- Pop all the elements from the heap whose right edge value don't overlap with the current building \n",
    "- Push the current building onto the heap\n",
    "- if the heap max has a different height than the last one in the skyline, we add (left, heap_max_height) to the solution.\n",
    "\n",
    "Note however that we haven't evaluated the ends of each building (i.e, 15, 11, 23). We can include these points as zero-length \"buildings\" before we sort them.\n"
   ]
  },
  {
   "cell_type": "code",
   "execution_count": 9,
   "metadata": {},
   "outputs": [],
   "source": [
    "import heapq\n",
    "\n",
    "def skyline(buildings):\n",
    "    buildings += [(r, r, 0) for (_, r, _) in buildings]\n",
    "    buildings.sort(key=lambda x: (x[0], -x[2]))\n",
    "    \n",
    "    skyline = []\n",
    "    heap = [(0, float('inf'))]  # (height, right)\n",
    "    \n",
    "    for left, right, height in buildings:\n",
    "        # pop all buildings from heap whose right edge does not overlap with the current building's left edge\n",
    "        while heap and left >= heap[0][1]:\n",
    "            heapq.heappop(heap)\n",
    "        \n",
    "        # push current building onto the heap\n",
    "        heapq.heappush(heap, (-height, right))\n",
    "        \n",
    "        # if the max in the heap has a different height than the last one in the skyline\n",
    "        if not skyline or skyline[-1][1] != -heap[0][0]:\n",
    "            skyline.append((left, -heap[0][0]))  # adds (left, heap_max_height)\n",
    "            \n",
    "    return skyline"
   ]
  },
  {
   "cell_type": "code",
   "execution_count": 10,
   "metadata": {},
   "outputs": [
    {
     "data": {
      "text/plain": [
       "[(0, 3), (4, 5), (11, 3), (15, 0), (19, 4), (23, 0)]"
      ]
     },
     "execution_count": 10,
     "metadata": {},
     "output_type": "execute_result"
    }
   ],
   "source": [
    "buildings = [(0, 15, 3), (4, 11, 5), (19, 23, 4)]\n",
    "skyline(buildings)"
   ]
  },
  {
   "cell_type": "markdown",
   "metadata": {},
   "source": [
    "After adding the zero-length points, the list of buildings will contain 2N elements, which will take `O(N log N)` time to sort. For each element in the list, we perform one push operation, and possibly several pop operations. Since in total the number of elements that can be popped from or pushed to the heap is 2N, there will be O(N) operations which each take O(log N) time, for an overall time complexity of ***O(N log N)***.\n",
    "\n",
    "Both the heap and solution array can have no more than 2N elements, so the space required will be ***O(N)***."
   ]
  },
  {
   "cell_type": "code",
   "execution_count": null,
   "metadata": {},
   "outputs": [],
   "source": []
  }
 ],
 "metadata": {
  "kernelspec": {
   "display_name": "Python 3",
   "language": "python",
   "name": "python3"
  },
  "language_info": {
   "codemirror_mode": {
    "name": "ipython",
    "version": 3
   },
   "file_extension": ".py",
   "mimetype": "text/x-python",
   "name": "python",
   "nbconvert_exporter": "python",
   "pygments_lexer": "ipython3",
   "version": "3.7.6"
  }
 },
 "nbformat": 4,
 "nbformat_minor": 4
}
