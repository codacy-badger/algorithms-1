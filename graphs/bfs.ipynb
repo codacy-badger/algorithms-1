{
 "metadata": {
  "language_info": {
   "codemirror_mode": {
    "name": "ipython",
    "version": 3
   },
   "file_extension": ".py",
   "mimetype": "text/x-python",
   "name": "python",
   "nbconvert_exporter": "python",
   "pygments_lexer": "ipython3",
   "version": "3.9.0-final"
  },
  "orig_nbformat": 2,
  "kernelspec": {
   "name": "python3",
   "display_name": "Python 3.9.0 64-bit",
   "metadata": {
    "interpreter": {
     "hash": "aee8b7b246df8f9039afb4144a1f6fd8d2ca17a180786b69acc140d282b71a49"
    }
   }
  }
 },
 "nbformat": 4,
 "nbformat_minor": 2,
 "cells": [
  {
   "cell_type": "code",
   "execution_count": 1,
   "metadata": {},
   "outputs": [],
   "source": [
    "\"\"\"Breadth-first search implementation.\n",
    "\n",
    "Given a Node class that has a name, and an array of optional children nodes to form\n",
    "a tree-like structure.\n",
    "Implement a method in the class which takes in an empty array,\n",
    "traverses the tree using the Breadth-first Search approach\n",
    "(specifically navigating the tree left to right),\n",
    "Store all the nodes it traverses in the input array, and returns it.\n",
    "\n",
    "Sample input:\n",
    "    A\n",
    "   / \\\n",
    "  B   C\n",
    " / \\\n",
    "D   E\n",
    "   / \\\n",
    "  F   G\n",
    "\n",
    "\n",
    "Sample output: [A,B,C,D,E,F,G]\n",
    "\"\"\"\n",
    "\n",
    "\n",
    "class Node:\n",
    "\n",
    "    def __init__(self, name):\n",
    "        self.name = name\n",
    "        self.children = []\n",
    "\n",
    "\n",
    "    def add_child_nodes(self, name):\n",
    "        self.children.append(Node(name))\n",
    "        return self\n",
    "\n",
    "    def breadth_first_search(self, array):\n",
    "        \"\"\"\n",
    "        Complexity:\n",
    "            O(v + e) time, where v = vertices(nodes) and e = edges(connections)\n",
    "            O(v) space, since we at worst case, we have a queue that holds V - 1 nodes.\n",
    "        \"\"\"\n",
    "        queue = [self]\n",
    "        while len(queue) > 0:\n",
    "            current = queue.pop(0)\n",
    "            array.append(current.name)\n",
    "            for child in current.children:\n",
    "                queue.append(child)\n",
    "        return array\n"
   ]
  },
  {
   "cell_type": "code",
   "execution_count": null,
   "metadata": {},
   "outputs": [],
   "source": []
  }
 ]
}