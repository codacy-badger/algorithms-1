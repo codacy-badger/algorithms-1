{
 "cells": [
  {
   "cell_type": "markdown",
   "metadata": {},
   "source": [
    "### Problem\n",
    "You are given an array of integers. Each integer represents a jump of its value in the array. \n",
    "\n",
    "For instance, integer 2 represents two forward jumps in the array, while -3 represents 3 jumps backwards in the array. \n",
    "\n",
    "If the jump spills past the array bounds, it wraps over to the other side. \n",
    "For example, a jump of -1 from the first index brings back to the last index of the array. \n",
    "\n",
    "Write a function that returns a boolean if the jumps in the array form a single cycle. A single cycle occurs if starting from any index, the jumps visit each element exactly once until before landing back on the starting index."
   ]
  },
  {
   "cell_type": "code",
   "execution_count": 4,
   "metadata": {},
   "outputs": [],
   "source": [
    "# solution\n",
    "def has_single_cycle(array):\n",
    "    elements_visited = 0\n",
    "    current_index = 0\n",
    "    while elements_visited < len(array):\n",
    "        if elements_visited > 0 and current_index == 0:\n",
    "            return False\n",
    "        elements_visited += 1\n",
    "        current_index = get_next_index(current_index, array)\n",
    "    return current_index == 0\n",
    "\n",
    "\n",
    "def get_next_index(current_idx, array):\n",
    "    jump = array[current_idx]\n",
    "    next_index = (current_idx + jump) % len(array)\n",
    "    \n",
    "    if next_index >= 0:\n",
    "        return next_index\n",
    "    else:\n",
    "        # change negative index to be an actual positive index on the array\n",
    "        return next_index + len(array)"
   ]
  },
  {
   "cell_type": "code",
   "execution_count": 9,
   "metadata": {},
   "outputs": [
    {
     "data": {
      "text/plain": [
       "True"
      ]
     },
     "execution_count": 9,
     "metadata": {},
     "output_type": "execute_result"
    }
   ],
   "source": [
    "has_single_cycle([2, -1, 1, -2])"
   ]
  },
  {
   "cell_type": "code",
   "execution_count": null,
   "metadata": {},
   "outputs": [],
   "source": []
  }
 ],
 "metadata": {
  "kernelspec": {
   "display_name": "Python 3",
   "language": "python",
   "name": "python3"
  },
  "language_info": {
   "codemirror_mode": {
    "name": "ipython",
    "version": 3
   },
   "file_extension": ".py",
   "mimetype": "text/x-python",
   "name": "python",
   "nbconvert_exporter": "python",
   "pygments_lexer": "ipython3",
   "version": "3.7.4"
  }
 },
 "nbformat": 4,
 "nbformat_minor": 2
}
