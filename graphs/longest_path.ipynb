{
 "cells": [
  {
   "cell_type": "markdown",
   "metadata": {},
   "source": [
    "## Longest path in a weighted tree\n",
    "\n",
    "Given a tree where each edge has a weight, compute the longest path in the tree.\n",
    "\n",
    "For example, given the following tree:\n",
    "\n",
    "```\n",
    "   a\n",
    "  /|\\\n",
    " b c d\n",
    "    / \\\n",
    "   e   f\n",
    "  / \\\n",
    " g   h\n",
    " ```\n",
    "and the weights: \n",
    "```\n",
    "a-b: 3, a-c: 5, a-d: 8, d-e: 2, d-f: 4, e-g: 1, e-h: 1\n",
    "\n",
    "```\n",
    "the longest path would be `c -> a -> d -> f`, with a length of 17.\n",
    "\n",
    "Note: The path does not have to pass through the root, and each node can have any amount of children."
   ]
  },
  {
   "cell_type": "markdown",
   "metadata": {},
   "source": [
    "## Solution\n",
    "\n",
    "There are two cases: either the path goes through the root or it doesnt.\n",
    "\n",
    "If it goes through the root, we can obtain the longest path by combining the two highest heights of the roots' children.\n",
    "If it doesn't, then we need to look at the longest path of any of the root's children.(remember each node can have many children)\n",
    "\n",
    "Base Case: Look at a node with no children, in which case the path is 0.\n",
    "We'll recursively check the longest height and path of each child and keep track of the longest path, updating it when we find a longer path.\n",
    "At the end, we'll find the max between the longest subpath and the two longest paths of the roots children that can be combined to make a larger path. "
   ]
  },
  {
   "cell_type": "code",
   "execution_count": 8,
   "metadata": {},
   "outputs": [],
   "source": [
    "from math import inf\n",
    "\n",
    "class Node:\n",
    "    def __init__(self, val, children=[]):\n",
    "        self.val = val\n",
    "        self.children = children\n",
    "\n",
    "def longest_path(root):\n",
    "    height, path = longest_height_and_path(root)\n",
    "    return path\n",
    "\n",
    "def longest_height_and_path(root):\n",
    "    longest_path_so_far = -inf\n",
    "    heighest, second_highest = 0, 0\n",
    "    \n",
    "    for length, child in root.children:\n",
    "        height, longest_path_length = longest_height_and_path(child)\n",
    "        longest_path_so_far = max(longest_path_so_far, longest_path_length)\n",
    "        \n",
    "        \n",
    "        if height + length > highest:\n",
    "            highest, second_highest = height + length, highest\n",
    "        elif height + length > second_highest:\n",
    "            second_highest = height + length\n",
    "    return highest, max(longest_path_so_far, highest + second_heighest)\n",
    "        \n",
    "        "
   ]
  },
  {
   "cell_type": "markdown",
   "metadata": {},
   "source": [
    "Since we are visiting each node, the solution runs at O(N) time and O(h) space."
   ]
  },
  {
   "cell_type": "code",
   "execution_count": null,
   "metadata": {},
   "outputs": [],
   "source": []
  }
 ],
 "metadata": {
  "kernelspec": {
   "display_name": "Python 3",
   "language": "python",
   "name": "python3"
  },
  "language_info": {
   "codemirror_mode": {
    "name": "ipython",
    "version": 3
   },
   "file_extension": ".py",
   "mimetype": "text/x-python",
   "name": "python",
   "nbconvert_exporter": "python",
   "pygments_lexer": "ipython3",
   "version": "3.7.6"
  }
 },
 "nbformat": 4,
 "nbformat_minor": 4
}
