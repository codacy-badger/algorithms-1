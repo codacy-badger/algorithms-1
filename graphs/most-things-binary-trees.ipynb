{
 "cells": [
  {
   "cell_type": "markdown",
   "metadata": {},
   "source": [
    "## Recursive problems around trees"
   ]
  },
  {
   "cell_type": "markdown",
   "metadata": {},
   "source": [
    "### 1. Finding tree height\n",
    "Given a binary tree, find the max-height of the tree. The height of a tree is the number of edges on the longest path from the root to the leaf.\n",
    "\n",
    "For example given the following tree,\n",
    "\n",
    "```\n",
    "      2\n",
    "     / \\\n",
    "    3   5\n",
    "   /   / \\\n",
    "  4   6   7\n",
    "```\n",
    "\n",
    "Return `3`"
   ]
  },
  {
   "cell_type": "code",
   "execution_count": 1,
   "metadata": {},
   "outputs": [
    {
     "data": {
      "text/plain": [
       "3"
      ]
     },
     "execution_count": 1,
     "metadata": {},
     "output_type": "execute_result"
    }
   ],
   "source": [
    "class Node:\n",
    "    def __init__(self, value, left=None, right=None):\n",
    "        self.value = value\n",
    "        self.left = left\n",
    "        self.right = right\n",
    "\n",
    "def height(node):\n",
    "    if node is None:\n",
    "        return 0\n",
    "    \n",
    "    left_height = height(node.left)\n",
    "    right_height = height(node.right)\n",
    "    return max(left_height, right_height) + 1\n",
    "\n",
    "t = Node(\n",
    "    value=2, \n",
    "    left=Node(3, Node(4)), \n",
    "    right=Node(5, Node(6), Node(7))\n",
    ")\n",
    "height(t)"
   ]
  },
  {
   "cell_type": "markdown",
   "metadata": {},
   "source": [
    "### 2. Return nodes at a given level\n",
    "Given a binary tree, return the value of the nodes at a given level. In other words, breadth-first search at a given level.\n",
    "\n",
    "For example given the following tree,\n",
    "\n",
    "```\n",
    "      1\n",
    "     / \\\n",
    "    2   3\n",
    "   /\\   /\\\n",
    "  4  5 6  7\n",
    "  \n",
    "  level = 2\n",
    "```\n",
    "\n",
    "Return `[4, 5, 6, 7]`"
   ]
  },
  {
   "cell_type": "code",
   "execution_count": 2,
   "metadata": {},
   "outputs": [
    {
     "data": {
      "text/plain": [
       "[4, 5, 6, 7]"
      ]
     },
     "execution_count": 2,
     "metadata": {},
     "output_type": "execute_result"
    }
   ],
   "source": [
    "def bfs_at_level(tree, level, visited=[]):\n",
    "    if tree is None:\n",
    "        return\n",
    "    \n",
    "    if level == 1:\n",
    "        visited.append(tree.value)\n",
    "    elif level > 1:\n",
    "        bfs_at_level(tree.left, level - 1, visited)\n",
    "        bfs_at_level(tree.right, level - 1, visited)\n",
    "    return visited\n",
    "\n",
    "tree = Node(\n",
    "    value=1, \n",
    "    left=Node(2, Node(4), Node(5)), \n",
    "    right=Node(3, Node(6), Node(7))\n",
    ")\n",
    "bfs_at_level(tree, level=3)"
   ]
  },
  {
   "cell_type": "markdown",
   "metadata": {},
   "source": [
    "### 3. Depth-first traversals \n",
    "Given a tree, traverse the tree in an in-order, pre-order and post-order fashion. Return the node values in a list."
   ]
  },
  {
   "cell_type": "code",
   "execution_count": 3,
   "metadata": {},
   "outputs": [],
   "source": [
    "def inOrderTraversal(node, results=[]):\n",
    "    \"\"\"Visit left-most child, then root, then right\"\"\"\n",
    "    if node is None:\n",
    "        return\n",
    "    inOrderTraversal(node.left)\n",
    "    results.append(node.value)\n",
    "    inOrderTraversal(node.right)\n",
    "    return results\n",
    "\n",
    "def preOrderTraversal(node, results=[]):\n",
    "    \"\"\"Visit root first, then left, right\"\"\"\n",
    "    if node is None:\n",
    "        return\n",
    "    results.append(node.value)\n",
    "    preOrderTraversal(node.left)\n",
    "    preOrderTraversal(node.right)\n",
    "    return results\n",
    "\n",
    "def postOrderTraversal(node, results=[]):\n",
    "    if node is None:\n",
    "        return\n",
    "    postOrderTraversal(node.left, results)\n",
    "    postOrderTraversal(node.right, results)\n",
    "    results.append(node.value)\n",
    "    return results"
   ]
  },
  {
   "cell_type": "markdown",
   "metadata": {},
   "source": [
    "The tree above looks like this\n",
    "\n",
    "```\n",
    "     2\n",
    "    / \\\n",
    "   3   5\n",
    "  /    /\\\n",
    " 4    6  7\n",
    "```"
   ]
  },
  {
   "cell_type": "code",
   "execution_count": 4,
   "metadata": {},
   "outputs": [
    {
     "name": "stdout",
     "output_type": "stream",
     "text": [
      "In-order => [4, 3, 2, 6, 5, 7]\n",
      "Pre-order => [2, 3, 4, 5, 6, 7]\n",
      "Post-order => [4, 3, 6, 7, 5, 2]\n"
     ]
    }
   ],
   "source": [
    "tree = Node(\n",
    "    value=2, \n",
    "    left=Node(3, Node(4)), \n",
    "    right=Node(5, Node(6), Node(7)))\n",
    "print(f'In-order => {inOrderTraversal(tree)}')\n",
    "print(f'Pre-order => {preOrderTraversal(tree)}')\n",
    "print(f'Post-order => {postOrderTraversal(tree)}')\n"
   ]
  },
  {
   "cell_type": "markdown",
   "metadata": {},
   "source": [
    "### 4. Sum of depths. \n",
    "Given the root of a binary tree, find the sum of all its depths.\n",
    "\n",
    "For example give the tre:\n",
    "\n",
    "```\n",
    "       1\n",
    "      / \\\n",
    "     2   3\n",
    "    /\\   /\\\n",
    "   4  5 6  7\n",
    "  /\\\n",
    " 8  9\n",
    "```\n",
    "\n",
    "Returns:\n",
    "```\n",
    "16\n",
    "```"
   ]
  },
  {
   "cell_type": "code",
   "execution_count": 6,
   "metadata": {},
   "outputs": [],
   "source": [
    "def dfs_helper(node, depth, result=0):\n",
    "    result += depth\n",
    "    if node.left is not None:\n",
    "        result += dfs_helper(node.left, depth + 1)\n",
    "    if node.right is not None:\n",
    "        result += dfs_helper(node.right, depth + 1)\n",
    "    return result\n",
    "        \n",
    "def sum_depths(root):\n",
    "    return dfs_helper(root, depth=0)"
   ]
  },
  {
   "cell_type": "code",
   "execution_count": 7,
   "metadata": {},
   "outputs": [
    {
     "data": {
      "text/plain": [
       "16"
      ]
     },
     "execution_count": 7,
     "metadata": {},
     "output_type": "execute_result"
    }
   ],
   "source": [
    "tree = Node(\n",
    "    1, \n",
    "    Node(2, Node(4, Node(8), Node(9)), Node(5)), \n",
    "    Node(3, Node(6), Node(7))\n",
    ")\n",
    "sum_depths(tree)"
   ]
  },
  {
   "cell_type": "code",
   "execution_count": null,
   "metadata": {},
   "outputs": [],
   "source": []
  },
  {
   "cell_type": "code",
   "execution_count": 279,
   "metadata": {},
   "outputs": [],
   "source": [
    "def dfs_rooted(node):\n",
    "    stack = [node]\n",
    "    total = 0\n",
    "    while stack:\n",
    "        current_root = stack.pop(0)\n",
    "        total += dfs_helper(current_root, depth=0)\n",
    "        if current_root.left is not None:\n",
    "            stack.append(current_root.left)\n",
    "        if current_root.right is not None:\n",
    "            stack.append(current_root.right)\n",
    "    return total"
   ]
  },
  {
   "cell_type": "code",
   "execution_count": 280,
   "metadata": {},
   "outputs": [
    {
     "data": {
      "text/plain": [
       "26"
      ]
     },
     "execution_count": 280,
     "metadata": {},
     "output_type": "execute_result"
    }
   ],
   "source": [
    "dfs_rooted(tree)"
   ]
  },
  {
   "cell_type": "code",
   "execution_count": 328,
   "metadata": {},
   "outputs": [],
   "source": [
    "def bottom_up_dfs(node, result):\n",
    "    # pair.first = the number of nodes in a subtree\n",
    "    # pair.second = the sum of depths of that subtree\n",
    "    pair = [1, 0]\n",
    "    \n",
    "    if node.left is not None:\n",
    "        child_pair = bottom_up_dfs(node.left, result)\n",
    "        pair[1] += child_pair[1] + child_pair[0]\n",
    "        pair[0] += child_pair[0]\n",
    "        result += pair[1]\n",
    "        \n",
    "    if node.right is not None:\n",
    "        child_pair = bottom_up_dfs(node.right, result)\n",
    "        pair[1] += child_pair[1] + child_pair[0]\n",
    "        pair[0] += child_pair[0]\n",
    "        result += pair[1]\n",
    "    \n",
    "    print(pair[0], pair[1], result)\n",
    "    return pair[0], pair[1], result\n",
    "    \n",
    "def rooted_depths(node):\n",
    "    _,_,result = bottom_up_dfs(node, result=0)\n",
    "    return result\n",
    "    "
   ]
  },
  {
   "cell_type": "code",
   "execution_count": 329,
   "metadata": {},
   "outputs": [
    {
     "name": "stdout",
     "output_type": "stream",
     "text": [
      "1 0 0\n",
      "1 0 1\n",
      "3 2 3\n",
      "1 0 5\n",
      "5 6 11\n",
      "1 0 11\n",
      "1 0 12\n",
      "3 2 14\n",
      "9 16 27\n"
     ]
    },
    {
     "data": {
      "text/plain": [
       "27"
      ]
     },
     "execution_count": 329,
     "metadata": {},
     "output_type": "execute_result"
    }
   ],
   "source": [
    "rooted_depths(tree)"
   ]
  },
  {
   "cell_type": "code",
   "execution_count": null,
   "metadata": {},
   "outputs": [],
   "source": []
  }
 ],
 "metadata": {
  "kernelspec": {
   "display_name": "Python 3",
   "language": "python",
   "name": "python3"
  },
  "language_info": {
   "codemirror_mode": {
    "name": "ipython",
    "version": 3
   },
   "file_extension": ".py",
   "mimetype": "text/x-python",
   "name": "python",
   "nbconvert_exporter": "python",
   "pygments_lexer": "ipython3",
   "version": "3.7.6"
  }
 },
 "nbformat": 4,
 "nbformat_minor": 4
}
