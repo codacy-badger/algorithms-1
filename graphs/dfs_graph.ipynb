{
 "metadata": {
  "language_info": {
   "codemirror_mode": {
    "name": "ipython",
    "version": 3
   },
   "file_extension": ".py",
   "mimetype": "text/x-python",
   "name": "python",
   "nbconvert_exporter": "python",
   "pygments_lexer": "ipython3",
   "version": "3.9.0-final"
  },
  "orig_nbformat": 2,
  "kernelspec": {
   "name": "python3",
   "display_name": "Python 3.9.0 64-bit",
   "metadata": {
    "interpreter": {
     "hash": "aee8b7b246df8f9039afb4144a1f6fd8d2ca17a180786b69acc140d282b71a49"
    }
   }
  }
 },
 "nbformat": 4,
 "nbformat_minor": 2,
 "cells": [
  {
   "cell_type": "code",
   "execution_count": 1,
   "metadata": {},
   "outputs": [
    {
     "output_type": "stream",
     "name": "stdout",
     "text": [
      "['A', 'B', 'D', 'E', 'C', 'W', 'X', 'Z', '@', '$', '&']\n"
     ]
    }
   ],
   "source": [
    "\"\"\"\n",
    "Depth first search for a graph.\n",
    "\"\"\"\n",
    "\n",
    "graph = {'A': set(['B', 'C']),\n",
    "         'B': set(['A', 'D', 'E']),\n",
    "         'C': set(['A', 'F']),\n",
    "         'D': set(['B']),\n",
    "         'E': set(['B', 'F']),\n",
    "         'F': set(['C', 'E'])}\n",
    "\n",
    "\n",
    "def dfs(graph, start, visited=None):\n",
    "    if visited is None:\n",
    "        visited = set()\n",
    "\n",
    "    visited.add(start)\n",
    "    for nextVertex in graph[start] - visited:\n",
    "        dfs(graph, nextVertex, visited)\n",
    "    return visited\n",
    "\n",
    "\n",
    "# iterative approach\n",
    "def dfs_iterative(graph, start):\n",
    "    visited, stack = set(), [start]\n",
    "\n",
    "    while stack:\n",
    "        vertex = stack.pop()\n",
    "        if vertex not in visited:\n",
    "            visited.add(vertex)\n",
    "            stack.extend(graph[vertex] - visited)\n",
    "    return visited\n",
    "\n",
    "\n",
    "# Class implementation of a graph\n",
    "class Graph():\n",
    "    def __init__(self, name):\n",
    "        self.name = name\n",
    "        self.children = []\n",
    "\n",
    "    def add_child(self, name):\n",
    "        self.children.append(Graph(name))\n",
    "        return self\n",
    "\n",
    "    def depth_first_search(self, array):\n",
    "        \"\"\"\n",
    "        Approach: Recursively call each child starting from the root vertex.\n",
    "        This allows the function to traverse the tree,\n",
    "        visiting the left-most child first and adding the values to the array\n",
    "\n",
    "        Complexity: O(V + E) time | O(V) space | V = vertices, E = edges\n",
    "        \"\"\"\n",
    "\n",
    "        array.append(self.name)\n",
    "        for child in self.children:\n",
    "            # self = child\n",
    "            child.depth_first_search(array)\n",
    "        return array\n",
    "\n",
    "\n",
    "graph = Graph('A').add_child('B').add_child('C').add_child('Z')\n",
    "graph.children[0].add_child('D').add_child('E')\n",
    "graph.children[1].add_child('W').add_child('X')\n",
    "graph.children[2].add_child('@').add_child('$').add_child('&')\n",
    "\n",
    "print(graph.depth_first_search(array=[]))"
   ]
  },
  {
   "cell_type": "code",
   "execution_count": null,
   "metadata": {},
   "outputs": [],
   "source": []
  }
 ]
}