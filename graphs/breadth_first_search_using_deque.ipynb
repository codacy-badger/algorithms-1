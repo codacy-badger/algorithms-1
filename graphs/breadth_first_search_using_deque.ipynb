{
 "cells": [
  {
   "cell_type": "markdown",
   "metadata": {},
   "source": [
    "### Breadth First Search\n",
    "Given a hashtable containing vertices as keys and values as each vertex's corresponding neighbors, write a function that takes in a starting vertex and determines if a given vertex exists in the graph. Return True if found, else False.\n",
    "\n",
    "```\n",
    "Sample input:\n",
    "\n",
    "Find if vertex W exists, starting with vertex G.\n",
    "\n",
    "         G ––– F\n",
    "          \\   / \n",
    "            A  –– E\n",
    "           /  \\    |\n",
    "         X ––  W –– Q\n",
    " \n",
    " Sample output: True\n",
    " ```"
   ]
  },
  {
   "cell_type": "code",
   "execution_count": 1,
   "metadata": {},
   "outputs": [],
   "source": [
    "from collections import deque\n",
    "\n",
    "def search(hashmap, start, needle):\n",
    "    \"\"\"O(v + e) time | O(v) space, where v = vertices and e = edges.\"\"\"\n",
    "    search_queue = deque()\n",
    "    search_queue += hashmap[start]\n",
    "    visited = []\n",
    "    shortest_path = 0\n",
    "    while search_queue:\n",
    "        node = search_queue.popleft()\n",
    "        if not node in visited:\n",
    "            if node == needle:\n",
    "                return True\n",
    "            else:\n",
    "                visited.append(node)\n",
    "                search_queue += hashmap[node]\n",
    "    return False"
   ]
  },
  {
   "cell_type": "code",
   "execution_count": 2,
   "metadata": {},
   "outputs": [
    {
     "data": {
      "text/plain": [
       "True"
      ]
     },
     "execution_count": 2,
     "metadata": {},
     "output_type": "execute_result"
    }
   ],
   "source": [
    "# Create the graph\n",
    "graph = {\n",
    "    'G': ['A', 'F'],\n",
    "    'A': ['X', 'W', 'E'],\n",
    "    'F': ['A'],\n",
    "    'X': ['W'],\n",
    "    'W': ['Q'],\n",
    "    'E': ['Q'],\n",
    "    'Q': []\n",
    "}\n",
    "\n",
    "search(graph, \"G\", \"W\")"
   ]
  },
  {
   "cell_type": "code",
   "execution_count": null,
   "metadata": {},
   "outputs": [],
   "source": []
  }
 ],
 "metadata": {
  "kernelspec": {
   "display_name": "Python 3",
   "language": "python",
   "name": "python3"
  },
  "language_info": {
   "codemirror_mode": {
    "name": "ipython",
    "version": 3
   },
   "file_extension": ".py",
   "mimetype": "text/x-python",
   "name": "python",
   "nbconvert_exporter": "python",
   "pygments_lexer": "ipython3",
   "version": "3.7.6"
  }
 },
 "nbformat": 4,
 "nbformat_minor": 4
}
