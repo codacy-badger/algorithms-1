{
 "cells": [
  {
   "cell_type": "markdown",
   "metadata": {},
   "source": [
    "### Boggle Board\n",
    "Given a two-dim array containing letters; and representing a boggle board, write a function that returns an array of all words contained in the boggle board.\n",
    "\n",
    "&nbsp;\n",
    "\n",
    "A word is constructed in the boggle board by connecting adjacent letters (horizontal, vertical, diagonal), without using any single letter at any given position more than once. While a word can have repeated letters, those repeated letters must be obtained from different positions in the board. Two or more words are allowed to share any give letter in the board.\n",
    "\n",
    "Sample input:\n",
    "```python\n",
    "board = [\n",
    "  [\"t\", \"h\", \"i\", \"s\", \"i\", \"s\", \"a\"],\n",
    "  [\"s\", \"i\", \"m\", \"p\", \"l\", \"e\", \"x\"],\n",
    "  [\"b\", \"x\", \"x\", \"x\", \"x\", \"e\", \"b\"],\n",
    "  [\"x\", \"o\", \"g\", \"g\", \"l\", \"x\", \"o\"],\n",
    "  [\"x\", \"x\", \"x\", \"D\", \"T\", \"r\", \"a\"],\n",
    "  [\"R\", \"E\", \"P\", \"E\", \"A\", \"d\", \"x\"],\n",
    "  [\"x\", \"x\", \"x\", \"x\", \"x\", \"x\", \"x\"],\n",
    "  [\"N\", \"O\", \"T\", \"R\", \"E\", \"-\", \"P\"],\n",
    "  [\"x\", \"x\", \"D\", \"E\", \"T\", \"A\", \"E\"]\n",
    "]\n",
    "\n",
    "words = [\n",
    "    'this', 'is', 'a', 'simple', 'boggle', 'board', 'REPEATED', 'test', 'not', 'NOTRE-PEATED'\n",
    "]\n",
    "```\n",
    "Sample output:\n",
    "```python\n",
    "['this', 'is', 'simple', 'a', 'boggle', 'board', 'NOTRE-PEATED']\n",
    "```\n"
   ]
  },
  {
   "cell_type": "code",
   "execution_count": 1,
   "metadata": {},
   "outputs": [],
   "source": [
    "board = [\n",
    "  [\"t\", \"h\", \"i\", \"s\", \"i\", \"s\", \"a\"],\n",
    "  [\"s\", \"i\", \"m\", \"p\", \"l\", \"e\", \"x\"],\n",
    "  [\"b\", \"x\", \"x\", \"x\", \"x\", \"e\", \"b\"],\n",
    "  [\"x\", \"o\", \"g\", \"g\", \"l\", \"x\", \"o\"],\n",
    "  [\"x\", \"x\", \"x\", \"D\", \"T\", \"r\", \"a\"],\n",
    "  [\"R\", \"E\", \"P\", \"E\", \"A\", \"d\", \"x\"],\n",
    "  [\"x\", \"x\", \"x\", \"x\", \"x\", \"x\", \"x\"],\n",
    "  [\"N\", \"O\", \"T\", \"R\", \"E\", \"-\", \"P\"],\n",
    "  [\"x\", \"x\", \"D\", \"E\", \"T\", \"A\", \"E\"]\n",
    "]"
   ]
  },
  {
   "cell_type": "code",
   "execution_count": 11,
   "metadata": {},
   "outputs": [],
   "source": [
    "# get the neighbors\n",
    "def getNeighbors(i, j, board):\n",
    "    neighbors = []\n",
    "    if i > 0 and j > 0:\n",
    "        neighbors.append([i - 1, j - 1])\n",
    "    if i > 0:\n",
    "        neighbors.append([i - 1, j])\n",
    "    if i > 0 and j < len(board[0]) - 1:\n",
    "        neighbors.append([i - 1, j + 1])\n",
    "    if i < len(board) - 1 and j < len(board[0]) - 1:\n",
    "        neighbors.append([i + 1, j + 1])\n",
    "    if i < len(board) - 1 and j > 0:\n",
    "        neighbors.append([i + 1, j - 1])\n",
    "    if i < len(board) - 1:\n",
    "        neighbors.append([i + 1, j])\n",
    "    if j > 0:\n",
    "        neighbors.append([i, j - 1])\n",
    "    if j < len(board[0]) - 1:\n",
    "        neighbors.append([i, j + 1])\n",
    "    return neighbors\n",
    "        "
   ]
  },
  {
   "cell_type": "code",
   "execution_count": null,
   "metadata": {},
   "outputs": [],
   "source": []
  },
  {
   "cell_type": "code",
   "execution_count": 5,
   "metadata": {},
   "outputs": [],
   "source": [
    "class Trie:\n",
    "    def __init__(self):\n",
    "        self.root = {}\n",
    "        self.endSymbol = \"*\"\n",
    "    \n",
    "    def add(self, word):\n",
    "        current = self.root\n",
    "        for letter in word:\n",
    "            if letter not in current:\n",
    "                current[letter] = {}\n",
    "            current = current[letter]\n",
    "        current[self.endSymbol] = word"
   ]
  },
  {
   "cell_type": "code",
   "execution_count": 16,
   "metadata": {},
   "outputs": [],
   "source": [
    "def boggleBoard(board, words):\n",
    "    \"\"\"\"\"\"\n",
    "    trie = Trie()\n",
    "    for word in words:\n",
    "        trie.add(word)\n",
    "    finalWords = {}\n",
    "    \n",
    "    # Create an auxiliary matrix that keeps track of whether a letter position in the board is visited\n",
    "    visited = [[False for letter in row] for row in board]\n",
    "    \n",
    "    for i in range(len(board)):\n",
    "        for j in range(len(board[i])):\n",
    "            explore(i, j, board, trie.root, visited, finalWords)\n",
    "    return list(finalWords.keys())\n",
    "\n",
    "\n",
    "def explore(i, j, board, trie, visited, finalWords):\n",
    "    if visited[i][j]:\n",
    "        return\n",
    "    letter = board[i][j]\n",
    "    if letter not in trie:\n",
    "        return\n",
    "    # mark as visited first\n",
    "    visited[i][j] = True\n",
    "    trie = trie[letter]\n",
    "    if \"*\" in trie:\n",
    "        # retrieve the stored word at the end symbol\n",
    "        finalWords[trie[\"*\"]] = True\n",
    "    # get neighbors and explore each\n",
    "    neighbors = getNeighbors(i, j, board)\n",
    "    for neighbor in neighbors:\n",
    "        # recursively explore each neighbor using DFS\n",
    "        explore(neighbor[0], neighbor[1], board, trie, visited, finalWords)\n",
    "    # after depth first searching neighbors is complete, unvisit the current letter\n",
    "    visited[i][j] = False    "
   ]
  },
  {
   "cell_type": "code",
   "execution_count": 18,
   "metadata": {},
   "outputs": [
    {
     "data": {
      "text/plain": [
       "['this', 'is', 'simple', 'a', 'boggle', 'board', 'NOTRE-PEATED']"
      ]
     },
     "execution_count": 18,
     "metadata": {},
     "output_type": "execute_result"
    }
   ],
   "source": [
    "words = ['this', 'is', 'a', 'simple', 'boggle', 'board', 'REPEATED', 'test', 'not', 'NOTRE-PEATED']\n",
    "boggleBoard(board, words)"
   ]
  },
  {
   "cell_type": "code",
   "execution_count": null,
   "metadata": {},
   "outputs": [],
   "source": []
  }
 ],
 "metadata": {
  "kernelspec": {
   "display_name": "Python 3",
   "language": "python",
   "name": "python3"
  },
  "language_info": {
   "codemirror_mode": {
    "name": "ipython",
    "version": 3
   },
   "file_extension": ".py",
   "mimetype": "text/x-python",
   "name": "python",
   "nbconvert_exporter": "python",
   "pygments_lexer": "ipython3",
   "version": "3.7.6"
  }
 },
 "nbformat": 4,
 "nbformat_minor": 4
}
