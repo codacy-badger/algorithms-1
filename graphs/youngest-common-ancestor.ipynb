{
 "cells": [
  {
   "cell_type": "markdown",
   "metadata": {},
   "source": [
    "### The Problem\n",
    "Write a function that returns the youngest common ancestor to the two descendants in a tree.\n",
    "\n",
    "Sample Input:\n",
    "```\n",
    "     A\n",
    "    / \\\n",
    "   B   F\n",
    "  / \\   \\\n",
    " G   C   S\n",
    "     |\n",
    "     D\n",
    " \n",
    " topAncestor = node A\n",
    " descendantOne = node G\n",
    " descendantTwo = node D\n",
    "```\n",
    "Sample output:\n",
    "```\n",
    "Node B\n",
    "```"
   ]
  },
  {
   "cell_type": "code",
   "execution_count": 4,
   "metadata": {},
   "outputs": [],
   "source": [
    "# solution\n",
    "class AncestralTree:\n",
    "    def __init__(self, name):\n",
    "        self.name = name\n",
    "        self.ancestor = None\n",
    "\n",
    "\n",
    "def getYoungestCommonAncestor(topAncestor, descendantOne, descendantTwo):\n",
    "    \"\"\"\n",
    "    First, get the depth of each descendant node, then get the difference. Backtrack the lower node to come to the same level\n",
    "    as the higher node. Then, backtrack both nodes in tandem to find their next common parent.\n",
    "\n",
    "    O(d) time | O(1) space, where d == depth of tree.\n",
    "    \"\"\"\n",
    "    dOneDepth = getDepth(descendantOne, topAncestor)\n",
    "    dTwoDepth = getDepth(descendantTwo, topAncestor)\n",
    "\n",
    "    if dOneDepth > dTwoDepth:\n",
    "        diff = dOneDepth - dTwoDepth\n",
    "        return backtrackTree(descendantOne, descendantTwo, diff)\n",
    "    else:\n",
    "        diff = dTwoDepth - dOneDepth\n",
    "    return backtrackTree(descendantTwo, descendantOne, diff)\n",
    "\n",
    "def getDepth(node, topAncestor):\n",
    "    \"\"\"Returns the depth of a node.\"\"\"\n",
    "    depth = 0\n",
    "    while node != topAncestor:\n",
    "        depth += 1\n",
    "        node = node.ancestor\n",
    "    return depth\n",
    "\n",
    "def backtrackTree(lowerDescendant, higherDescendant, diff):\n",
    "    \"\"\"Takes in the descendants and their difference in depth, and uses that to backtrack to a common ancestor.\"\"\"\n",
    "    while diff > 0:\n",
    "        lowerDescendant = lowerDescendant.ancestor\n",
    "        diff -= 1\n",
    "\n",
    "    while lowerDescendant != higherDescendant:\n",
    "        lowerDescendant = lowerDescendant.ancestor\n",
    "        higherDescendant = higherDescendant.ancestor\n",
    "\n",
    "    return lowerDescendant"
   ]
  },
  {
   "cell_type": "code",
   "execution_count": null,
   "metadata": {},
   "outputs": [],
   "source": []
  }
 ],
 "metadata": {
  "kernelspec": {
   "display_name": "Python 3",
   "language": "python",
   "name": "python3"
  },
  "language_info": {
   "codemirror_mode": {
    "name": "ipython",
    "version": 3
   },
   "file_extension": ".py",
   "mimetype": "text/x-python",
   "name": "python",
   "nbconvert_exporter": "python",
   "pygments_lexer": "ipython3",
   "version": "3.7.6"
  }
 },
 "nbformat": 4,
 "nbformat_minor": 4
}
