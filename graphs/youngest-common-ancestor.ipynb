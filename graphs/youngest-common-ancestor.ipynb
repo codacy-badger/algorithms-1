{
 "cells": [
  {
   "cell_type": "markdown",
   "metadata": {},
   "source": [
    "### The Problem\n",
    "Write a function that returns the youngest common ancestor to the two descendants in a tree.\n",
    "\n",
    "Sample Input:\n",
    "```\n",
    "     A\n",
    "    / \\\n",
    "   B   F\n",
    "  / \\   \\\n",
    " G   C   S\n",
    "     |\n",
    "     D\n",
    " \n",
    " topAncestor = node A\n",
    " descendantOne = node G\n",
    " descendantTwo = node D\n",
    "```\n",
    "Sample output:\n",
    "```\n",
    "Node B\n",
    "```"
   ]
  },
  {
   "cell_type": "code",
   "execution_count": 4,
   "metadata": {},
   "outputs": [],
   "source": [
    "# solution\n",
    "class AncestralTree:\n",
    "    def __init__(self, name):\n",
    "        self.name = name\n",
    "        self.ancestor = None\n",
    "\n",
    "\n",
    "def getYoungestCommonAncestor(topAncestor, descendantOne, descendantTwo):\n",
    "\t\"\"\"\n",
    "\tFirst, get the depth of each descendant node, then get the difference. Backtrack the lower node to come to the same level\n",
    "\tas the higher node. Then, backtrack both nodes in tandem to find their next common parent.\n",
    "\t\n",
    "\tO(d) time | O(1) space, where d == depth of tree.\n",
    "\t\"\"\"\n",
    "\tdOneDepth = getDepth(descendantOne, topAncestor)\n",
    "\tdTwoDepth = getDepth(descendantTwo, topAncestor)\n",
    "\t\n",
    "\tif dOneDepth > dTwoDepth:\n",
    "\t\tdiff = dOneDepth - dTwoDepth\n",
    "\t\treturn backtrackTree(descendantOne, descendantTwo, diff)\n",
    "\telse:\n",
    "\t\tdiff = dTwoDepth - dOneDepth\n",
    "\t\treturn backtrackTree(descendantTwo, descendantOne, diff)\n",
    "\t\n",
    "\t\n",
    "def getDepth(node, topAncestor):\n",
    "    \"\"\"Returns the depth of a node.\"\"\"\n",
    "\tdepth = 0\n",
    "\twhile node != topAncestor:\n",
    "\t\tdepth += 1\n",
    "\t\tnode = node.ancestor\n",
    "\treturn depth\n",
    "\n",
    "def backtrackTree(lowerDescendant, higherDescendant, diff):\n",
    "    \"\"\"Takes in the descendants and their difference in depth, and uses that to backtrack to a common ancestor.\"\"\"\n",
    "\twhile diff > 0:\n",
    "\t\tlowerDescendant = lowerDescendant.ancestor\n",
    "\t\tdiff -= 1\n",
    "\t\t\n",
    "\twhile lowerDescendant != higherDescendant:\n",
    "\t\tlowerDescendant = lowerDescendant.ancestor\n",
    "\t\thigherDescendant = higherDescendant.ancestor\n",
    "\t\n",
    "\treturn lowerDescendant"
   ]
  },
  {
   "cell_type": "code",
   "execution_count": null,
   "metadata": {},
   "outputs": [],
   "source": []
  }
 ],
 "metadata": {
  "kernelspec": {
   "display_name": "Python 3",
   "language": "python",
   "name": "python3"
  },
  "language_info": {
   "codemirror_mode": {
    "name": "ipython",
    "version": 3
   },
   "file_extension": ".py",
   "mimetype": "text/x-python",
   "name": "python",
   "nbconvert_exporter": "python",
   "pygments_lexer": "ipython3",
   "version": "3.7.6"
  }
 },
 "nbformat": 4,
 "nbformat_minor": 4
}
