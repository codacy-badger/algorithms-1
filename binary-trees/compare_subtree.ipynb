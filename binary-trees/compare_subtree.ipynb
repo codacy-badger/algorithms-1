{
 "cells": [
  {
   "cell_type": "markdown",
   "metadata": {},
   "source": [
    "### Problem\n",
    "\n",
    "Given two non-empty binary trees `s` and `t`, check whether tree t has exactly the same structure and node values with a subtree of `s`. \n",
    "\n",
    "A subtree of `s` is a tree consists of a node in `s` and all of this node's descendants. \n",
    "The tree `s` could also be considered as a subtree of itself."
   ]
  },
  {
   "cell_type": "code",
   "execution_count": 4,
   "metadata": {},
   "outputs": [],
   "source": [
    "class Node:\n",
    "    def __init__(self, value, left=None, right=None):\n",
    "        self.value = value\n",
    "        self.left = left\n",
    "        self.right = right\n",
    "        \n",
    "def is_equal(s, t):\n",
    "    node = search(s, t.value)\n",
    "    if not node:\n",
    "        return False\n",
    "    return serialize(node) == serialize(t)\n",
    "\n",
    "def search(root, value):\n",
    "    if root is None:\n",
    "        return None\n",
    "    else:\n",
    "        if root.value == value:\n",
    "            return root\n",
    "        node = search(root.left, value)\n",
    "        if node is None:\n",
    "            node = search(root.right, value)\n",
    "        return node\n",
    "    \n",
    "def serialize(root):\n",
    "    if root is None:\n",
    "        return \"#\"\n",
    "    return f\"{root.value} {serialize(root.left)} {serialize(root.right)}\"\n",
    "\n"
   ]
  },
  {
   "cell_type": "code",
   "execution_count": 5,
   "metadata": {},
   "outputs": [],
   "source": [
    "t = Node(1, Node(2, Node(4), Node(5)), Node(3))\n",
    "s = Node(11, Node(7, t))"
   ]
  },
  {
   "cell_type": "code",
   "execution_count": 6,
   "metadata": {},
   "outputs": [
    {
     "data": {
      "text/plain": [
       "True"
      ]
     },
     "execution_count": 6,
     "metadata": {},
     "output_type": "execute_result"
    }
   ],
   "source": [
    "is_equal(s, t)"
   ]
  },
  {
   "cell_type": "code",
   "execution_count": 12,
   "metadata": {},
   "outputs": [],
   "source": []
  },
  {
   "cell_type": "code",
   "execution_count": 14,
   "metadata": {},
   "outputs": [
    {
     "data": {
      "text/plain": [
       "True"
      ]
     },
     "execution_count": 14,
     "metadata": {},
     "output_type": "execute_result"
    }
   ],
   "source": []
  },
  {
   "cell_type": "code",
   "execution_count": null,
   "metadata": {},
   "outputs": [],
   "source": []
  }
 ],
 "metadata": {
  "kernelspec": {
   "display_name": "Python 3",
   "language": "python",
   "name": "python3"
  },
  "language_info": {
   "codemirror_mode": {
    "name": "ipython",
    "version": 3
   },
   "file_extension": ".py",
   "mimetype": "text/x-python",
   "name": "python",
   "nbconvert_exporter": "python",
   "pygments_lexer": "ipython3",
   "version": "3.7.6"
  }
 },
 "nbformat": 4,
 "nbformat_minor": 4
}
