{
 "cells": [
  {
   "cell_type": "markdown",
   "metadata": {},
   "source": [
    "### Problem\n",
    "\n",
    "Given two non-empty binary trees `s` and `t`, check whether tree t has exactly the same structure and node values with a subtree of `s`. \n",
    "\n",
    "A subtree of `s` is a tree consists of a node in `s` and all of this node's descendants. \n",
    "The tree `s` could also be considered as a subtree of itself."
   ]
  },
  {
   "cell_type": "code",
   "execution_count": 1,
   "metadata": {},
   "outputs": [],
   "source": [
    "class Node:\n",
    "    def __init__(self, value, left=None, right=None):\n",
    "        self.value = value\n",
    "        self.left = left\n",
    "        self.right = right\n",
    "\n",
    "def is_subtree(s, t):\n",
    "    \"\"\"O(N * M) worst case time, where N is number of nodes in tree s, M is number of nodes in tree t\"\"\"\n",
    "    def is_equal(s, t):\n",
    "        \"\"\"O(min(M, N)) time | O(N)\"\"\"\n",
    "        \n",
    "        if s is None and t is None:\n",
    "            return True\n",
    "        # The base case: handle an empty subtree\n",
    "        if s is None or t is None:\n",
    "            return False\n",
    "        if s.value != t.value:\n",
    "            return False\n",
    "        return is_equal(s.left, t.left) and is_equal(s.right, t.right)\n",
    "    \n",
    "    if s is None:\n",
    "        return False\n",
    "    if is_equal(s, t):\n",
    "        return True\n",
    "    return is_subtree(s.left, t) or is_subtree(s.right, t)"
   ]
  },
  {
   "cell_type": "code",
   "execution_count": 2,
   "metadata": {},
   "outputs": [],
   "source": [
    "t = Node(1, Node(2, Node(4), Node(5)), Node(3))\n",
    "s = Node(11, Node(7, t))"
   ]
  },
  {
   "cell_type": "code",
   "execution_count": 3,
   "metadata": {},
   "outputs": [
    {
     "data": {
      "text/plain": [
       "True"
      ]
     },
     "execution_count": 3,
     "metadata": {},
     "output_type": "execute_result"
    }
   ],
   "source": [
    "is_subtree(s, t)"
   ]
  },
  {
   "cell_type": "code",
   "execution_count": 4,
   "metadata": {},
   "outputs": [],
   "source": [
    "def isSubtree(s, t):\n",
    "    \"\"\"O(M + N) time | O(N) space\"\"\"\n",
    "    def preorder(root):\n",
    "        traversal = []\n",
    "        stack = [root]\n",
    "        while stack:\n",
    "            node = stack.pop()\n",
    "            if node is None:\n",
    "                traversal.append('.')\n",
    "                continue\n",
    "            else:\n",
    "                traversal.append(str(node.value))\n",
    "            stack.append(node.right)\n",
    "            stack.append(node.left)\n",
    "        return ''.join(traversal)\n",
    "    \n",
    "    s = preorder(s)\n",
    "    t = preorder(t)\n",
    "    return t in s"
   ]
  },
  {
   "cell_type": "code",
   "execution_count": 5,
   "metadata": {},
   "outputs": [
    {
     "data": {
      "text/plain": [
       "False"
      ]
     },
     "execution_count": 5,
     "metadata": {},
     "output_type": "execute_result"
    }
   ],
   "source": [
    "isSubtree(s, Node(1))"
   ]
  },
  {
   "cell_type": "code",
   "execution_count": 6,
   "metadata": {},
   "outputs": [
    {
     "data": {
      "text/plain": [
       "True"
      ]
     },
     "execution_count": 6,
     "metadata": {},
     "output_type": "execute_result"
    }
   ],
   "source": [
    "isSubtree(s, t)"
   ]
  }
 ],
 "metadata": {
  "kernelspec": {
   "display_name": "Python 3",
   "language": "python",
   "name": "python3"
  },
  "language_info": {
   "codemirror_mode": {
    "name": "ipython",
    "version": 3
   },
   "file_extension": ".py",
   "mimetype": "text/x-python",
   "name": "python",
   "nbconvert_exporter": "python",
   "pygments_lexer": "ipython3",
   "version": "3.7.6"
  }
 },
 "nbformat": 4,
 "nbformat_minor": 4
}
