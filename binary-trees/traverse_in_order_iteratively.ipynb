{
 "cells": [
  {
   "cell_type": "markdown",
   "metadata": {},
   "source": [
    "## Problem\n",
    "Traverse a binary tree in an in-order fashion in constant space. In other words, do it iteratively\n",
    "\n",
    "Sample input:\n",
    "```text\n",
    "            1\n",
    "           / \\\n",
    "          2   3\n",
    "         / \\\n",
    "        4   5\n",
    "        \n",
    "```   \n",
    "Sample output: `[4, 2, 5, 1, 3]`"
   ]
  },
  {
   "cell_type": "code",
   "execution_count": 4,
   "metadata": {},
   "outputs": [],
   "source": [
    "\"\"\"\n",
    "Solution:\n",
    "    - Try to keep track of the previous node, the current and the next node to be traversed. \n",
    "    - If the current node left node is not None, we'll go down and make the next node == current node left child\n",
    "    - Else, we'll do a callback on the current node.\n",
    "    - If the previous node is equal to the current node's left node, append current node value to results.\n",
    "    - Compute the next node: it should be the current node right child if not None or the current node's parent.\n",
    "\"\"\"\n",
    "\n",
    "def iterative_inorder(tree):\n",
    "    \"\"\"Complexity: O(n) time, O(1) space, where n is the number of nodes in the tree.\"\"\"\n",
    "    current_node = tree\n",
    "    prev_node = None  # the previous node\n",
    "    results = []\n",
    "    \n",
    "    while current_node is not None:\n",
    "        if prev_node is None or prev_node == current_node.parent:\n",
    "            if current_node.left is not None:\n",
    "                next_node = current_node.left\n",
    "            else:\n",
    "                results.append(current_node.value)\n",
    "                next_node = current_node.right if current_node.right is not None else current_node.parent\n",
    "        elif prev_node == current_node.left:\n",
    "            results.append(current_node.value)\n",
    "            next_node = current_node.right if current_node.right is not None else current_node.parent\n",
    "        else:\n",
    "            # same as elif prev_node == current_node.right\n",
    "            # we move back up to the parent of the current node, since we are at a right-most node\n",
    "            next_node = current_node.parent\n",
    "        \n",
    "        # update the previous node to be the current node,\n",
    "        # update current node to be the next node\n",
    "        prev_node = current_node\n",
    "        current_node = next_node\n",
    "    \n",
    "    return results\n",
    "    "
   ]
  },
  {
   "cell_type": "code",
   "execution_count": 5,
   "metadata": {},
   "outputs": [],
   "source": [
    "class BinaryTree:\n",
    "    def __init__(self, value, parent=None):\n",
    "        self.value = value\n",
    "        self.parent = parent\n",
    "        self.left = None\n",
    "        self.right = None\n",
    "        \n",
    "    \n",
    "    def insert(self, values, i=0):\n",
    "        if i >= len(values):\n",
    "            return\n",
    "        queue = [self]\n",
    "        while len(queue) > 0:\n",
    "            current = queue.pop(0)\n",
    "            if current.left is None:\n",
    "                current.left = BinaryTree(value=values[i], parent=current)\n",
    "                break\n",
    "            queue.append(current.left)\n",
    "            if current.right is None:\n",
    "                current.right = BinaryTree(value=values[i], parent=current)\n",
    "                break\n",
    "            queue.append(current.right)\n",
    "            \n",
    "        self.insert(values, i + 1)\n",
    "        return self"
   ]
  },
  {
   "cell_type": "code",
   "execution_count": 6,
   "metadata": {},
   "outputs": [
    {
     "data": {
      "text/plain": [
       "[4, 2, 5, 1, 3]"
      ]
     },
     "execution_count": 6,
     "metadata": {},
     "output_type": "execute_result"
    }
   ],
   "source": [
    "tree = BinaryTree(1).insert([2, 3, 4, 5])\n",
    "iterative_inorder(tree)"
   ]
  },
  {
   "cell_type": "code",
   "execution_count": 17,
   "metadata": {},
   "outputs": [],
   "source": [
    "# this is the recursive way of doing an in-order traversal -> O(N) time and space\n",
    "def inOrderTraversal(root, nodes=[]):\n",
    "    if root is None:\n",
    "        return None\n",
    "    inOrderTraversal(root.left)\n",
    "    nodes.append(root.value)\n",
    "    inOrderTraversal(root.right)\n",
    "    \n",
    "    return nodes"
   ]
  },
  {
   "cell_type": "code",
   "execution_count": 18,
   "metadata": {},
   "outputs": [
    {
     "data": {
      "text/plain": [
       "[4, 2, 5, 1, 3]"
      ]
     },
     "execution_count": 18,
     "metadata": {},
     "output_type": "execute_result"
    }
   ],
   "source": [
    "inOrderTraversal(tree)"
   ]
  },
  {
   "cell_type": "code",
   "execution_count": null,
   "metadata": {},
   "outputs": [],
   "source": []
  }
 ],
 "metadata": {
  "kernelspec": {
   "display_name": "Python 3",
   "language": "python",
   "name": "python3"
  },
  "language_info": {
   "codemirror_mode": {
    "name": "ipython",
    "version": 3
   },
   "file_extension": ".py",
   "mimetype": "text/x-python",
   "name": "python",
   "nbconvert_exporter": "python",
   "pygments_lexer": "ipython3",
   "version": "3.7.6"
  }
 },
 "nbformat": 4,
 "nbformat_minor": 2
}
