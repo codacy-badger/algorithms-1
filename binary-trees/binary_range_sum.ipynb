{
 "cells": [
  {
   "cell_type": "markdown",
   "metadata": {},
   "source": [
    "### Range sum\n",
    "\n",
    "Given a binary search tree and a range [a, b] (inclusive), return the sum of the elements of the binary search tree within the range.\n",
    "\n",
    "For example, given the following tree:\n",
    "```\n",
    "    5\n",
    "   / \\\n",
    "  3   8\n",
    " / \\ / \\\n",
    "2  4 6  10\n",
    "\n",
    "```\n",
    "and the range [4, 9], return 23 (5 + 4 + 6 + 8).\n",
    "\n"
   ]
  },
  {
   "cell_type": "code",
   "execution_count": 16,
   "metadata": {},
   "outputs": [],
   "source": [
    "class Node:\n",
    "    def __init__(self, value, parent=None):\n",
    "        self.parent = parent\n",
    "        self.left = None\n",
    "        self.right = None\n",
    "        self.value = value\n",
    "        \n",
    "    def insert(self, values, i=0):\n",
    "        \n",
    "        if i >= len(values):\n",
    "            return\n",
    "        \n",
    "        queue = [self]\n",
    "        while len(queue) > 0:\n",
    "            current = queue.pop(0)\n",
    "            if current.left is None:\n",
    "                current.left = Node(values[i], parent=current)\n",
    "                break\n",
    "            queue.append(current.left)\n",
    "            if current.right is None:\n",
    "                current.right = Node(values[i], parent=current)\n",
    "                break\n",
    "            queue.append(current.right)\n",
    "                \n",
    "        self.insert(values, i + 1)\n",
    "        return self\n",
    "\n",
    "\n",
    "def range_sum(root, a, b):\n",
    "    \"\"\"Complexity\n",
    "        O(n) space, O(n) time,  where n is number of nodes in the binary tree \n",
    "    \"\"\"\n",
    "    tree_sum = 0\n",
    "    queue = [root]\n",
    "    while len(queue) > 0:\n",
    "        current = queue.pop(0)\n",
    "        if a <= current.value <= b:\n",
    "            tree_sum += current.value \n",
    "        if current.left:\n",
    "            queue.append(current.left)\n",
    "        if current.right:\n",
    "            queue.append(current.right)\n",
    "    return tree_sum\n",
    "        "
   ]
  },
  {
   "cell_type": "code",
   "execution_count": 17,
   "metadata": {},
   "outputs": [
    {
     "data": {
      "text/plain": [
       "2"
      ]
     },
     "execution_count": 17,
     "metadata": {},
     "output_type": "execute_result"
    }
   ],
   "source": [
    "# create test node\n",
    "node = Node(5).insert([3, 8, 2, 4, 6, 10])\n",
    "node.left.left.value"
   ]
  },
  {
   "cell_type": "code",
   "execution_count": 18,
   "metadata": {},
   "outputs": [
    {
     "data": {
      "text/plain": [
       "23"
      ]
     },
     "execution_count": 18,
     "metadata": {},
     "output_type": "execute_result"
    }
   ],
   "source": [
    "range_sum(node, *[4, 9])"
   ]
  },
  {
   "cell_type": "code",
   "execution_count": null,
   "metadata": {},
   "outputs": [],
   "source": []
  }
 ],
 "metadata": {
  "kernelspec": {
   "display_name": "Python 3",
   "language": "python",
   "name": "python3"
  },
  "language_info": {
   "codemirror_mode": {
    "name": "ipython",
    "version": 3
   },
   "file_extension": ".py",
   "mimetype": "text/x-python",
   "name": "python",
   "nbconvert_exporter": "python",
   "pygments_lexer": "ipython3",
   "version": "3.7.6"
  }
 },
 "nbformat": 4,
 "nbformat_minor": 4
}
