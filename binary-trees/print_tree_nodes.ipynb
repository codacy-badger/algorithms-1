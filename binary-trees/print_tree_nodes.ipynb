{
 "metadata": {
  "language_info": {
   "codemirror_mode": {
    "name": "ipython",
    "version": 3
   },
   "file_extension": ".py",
   "mimetype": "text/x-python",
   "name": "python",
   "nbconvert_exporter": "python",
   "pygments_lexer": "ipython3",
   "version": "3.9.0-final"
  },
  "orig_nbformat": 2,
  "kernelspec": {
   "name": "python3",
   "display_name": "Python 3.9.0 64-bit",
   "metadata": {
    "interpreter": {
     "hash": "aee8b7b246df8f9039afb4144a1f6fd8d2ca17a180786b69acc140d282b71a49"
    }
   }
  }
 },
 "nbformat": 4,
 "nbformat_minor": 2,
 "cells": [
  {
   "cell_type": "code",
   "execution_count": 2,
   "metadata": {},
   "outputs": [
    {
     "output_type": "stream",
     "name": "stdout",
     "text": [
      "1\n2\n3\n4\n5\n"
     ]
    }
   ],
   "source": [
    "\"\"\"\n",
    "Given a binary tree, print the nodes level-wise. For example:\n",
    "  1\n",
    " / \\\n",
    "2   3\n",
    "   / \\\n",
    "  4   5\n",
    "   should print 1, 2, 3, 4, 5.\n",
    "\"\"\"\n",
    "\n",
    "from queue import Queue\n",
    "\n",
    "\n",
    "class Node():\n",
    "    def __init__(self, value, left=None, right=None):\n",
    "        \"\"\"Initialize the node's properties.'\"\"\"\n",
    "        self.value = value\n",
    "        self.left = left\n",
    "        self.right = right\n",
    "\n",
    "\n",
    "def print_node_values(tree):\n",
    "    \"\"\"use a queue to print the values, and continuously add the child elements,\n",
    "    starting with the left, then the right child to the back of the queue.\n",
    "    Eventually, the queue gets smaller, printing the FIFO value it pops, until empty.\n",
    "\n",
    "    Time and Space Complexity: O(n), since we have to look at the whole tree.\n",
    "    \"\"\"\n",
    "    queue = Queue()\n",
    "    queue.put(tree)\n",
    "\n",
    "    while not queue.empty():\n",
    "        node = queue.get()\n",
    "        if node.left:\n",
    "            queue.put(node.left)\n",
    "        if node.right:\n",
    "            queue.put(node.right)\n",
    "        print(node.value)\n",
    "\n",
    "\n",
    "root = Node(1, Node(2), Node(3, Node(4), Node(5)))\n",
    "print_node_values(root)"
   ]
  },
  {
   "cell_type": "code",
   "execution_count": null,
   "metadata": {},
   "outputs": [],
   "source": []
  }
 ]
}