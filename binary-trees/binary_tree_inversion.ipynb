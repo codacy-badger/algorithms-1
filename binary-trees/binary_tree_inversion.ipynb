{
 "metadata": {
  "language_info": {
   "codemirror_mode": {
    "name": "ipython",
    "version": 3
   },
   "file_extension": ".py",
   "mimetype": "text/x-python",
   "name": "python",
   "nbconvert_exporter": "python",
   "pygments_lexer": "ipython3",
   "version": "3.9.0-final"
  },
  "orig_nbformat": 2,
  "kernelspec": {
   "name": "python3",
   "display_name": "Python 3.9.0 64-bit",
   "metadata": {
    "interpreter": {
     "hash": "aee8b7b246df8f9039afb4144a1f6fd8d2ca17a180786b69acc140d282b71a49"
    }
   }
  }
 },
 "nbformat": 4,
 "nbformat_minor": 2,
 "cells": [
  {
   "cell_type": "code",
   "execution_count": 1,
   "metadata": {},
   "outputs": [],
   "source": [
    "\"\"\"Invert a binary tree.\n",
    "\n",
    "The function should swap every left node with its corresponding(mirrored) right node.\n",
    "Each node in the tree has a value stored in a property called 'value', and two child nodes\n",
    "stored in propeties 'left' and 'right'. Children nodes can either be nodes Binary Tree\n",
    "nodes themselves or None values.\n",
    "\n",
    "\n",
    "Sample input:\n",
    "    1\n",
    "   / \\\n",
    "  2   3\n",
    " | \\\n",
    " 4  5\n",
    "\n",
    "Sample output:\n",
    "    1\n",
    "   / \\\n",
    "  3   2\n",
    "     / \\\n",
    "    5   4\n",
    "\"\"\"\n",
    "\n",
    "\n",
    "def invert_binary_tree(tree):\n",
    "    \"\"\"\n",
    "    Recursive implementation of inverting a binary search tree.\n",
    "\n",
    "    Complexity:\n",
    "        O(n) time, where n = number of nodes in binary tree.\n",
    "        O(d) space, where d = depth of binary tree/longest\n",
    "        branch of the tree)\n",
    "    \"\"\"\n",
    "    if tree is None:\n",
    "        return\n",
    "    tree.left, tree.right = tree.right, tree.left\n",
    "    invert_binary_tree(tree.left)\n",
    "    invert_binary_tree(tree.right)\n",
    "\n",
    "\n",
    "def invert_binary_tree_iteratively(tree):\n",
    "    \"\"\"Iterative approach to inverting a binary tree.\n",
    "\n",
    "    Complexity:\n",
    "        O(n) time, O(n) space\n",
    "    \"\"\"\n",
    "    queue = [tree]\n",
    "\n",
    "    while len(queue):\n",
    "        current = queue.pop(0)\n",
    "        if current is None:\n",
    "            continue\n",
    "        else:\n",
    "            current.left, current.right = current.right, current.left\n",
    "            queue.append(current.left)\n",
    "            queue.append(current.right)"
   ]
  },
  {
   "cell_type": "code",
   "execution_count": null,
   "metadata": {},
   "outputs": [],
   "source": []
  }
 ]
}