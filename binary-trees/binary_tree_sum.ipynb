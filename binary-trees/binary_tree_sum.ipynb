{
 "cells": [
  {
   "cell_type": "markdown",
   "metadata": {},
   "source": [
    "## Problem\n",
    "Write a function that takes a binary tree and returns a list of branch sums (from leftmost node to rightmost node)."
   ]
  },
  {
   "cell_type": "code",
   "execution_count": 4,
   "metadata": {},
   "outputs": [],
   "source": [
    "\"\"\"\n",
    "The idea is to recursively traverse the tree from the root node to the leaf nodes. \n",
    "We'll use a depth-first-traversal and recursively pass the new running sum of previously visited node values to each node you are visiting.\n",
    "Our base case for the recursion will be if the current node has no left or right child nodes, we know it's a leaf node at the end of a branch.\n",
    "Simply append the new running sum to the sum list and return.\n",
    "\"\"\"\n",
    "\n",
    "\n",
    "class BinaryTree:\n",
    "    def __init__(self, value):\n",
    "        self.value = value\n",
    "        self.left = None\n",
    "        self.right = None\n",
    "\n",
    "\n",
    "def branch_sums(root):\n",
    "    \"\"\"Complexity: O(n) time | O(n) space, \n",
    "    where n = number of nodes in binary tree.\n",
    "    \"\"\"\n",
    "    sums = []\n",
    "    sum_helper(root, 0, sums)\n",
    "    return sums\n",
    "    \n",
    "def sum_helper(current_node, running_sum, branch_sum):\n",
    "    if current_node is None:\n",
    "        # Sometimes, there might be a left node but no right node or vice versa. So return.\n",
    "        return\n",
    "    \n",
    "    new_running_sum = running_sum + current_node.value\n",
    "    # base case\n",
    "    if current_node.left is None and current_node.right is None:\n",
    "        branch_sum.append(new_running_sum)\n",
    "        return\n",
    "    # recursively work on the left child node and right child node\n",
    "    sum_helper(current_node.left, new_running_sum, branch_sum)\n",
    "    sum_helper(current_node.right, new_running_sum, branch_sum)"
   ]
  },
  {
   "cell_type": "code",
   "execution_count": 7,
   "metadata": {},
   "outputs": [],
   "source": [
    "## unit tests\n",
    "import unittest\n",
    "\n",
    "class BranchSumTestCase(unittest.TestCase):\n",
    "    def test_case_0(self):\n",
    "        tree = BinaryTree(1)\n",
    "        self.assertEqual(branch_sums(tree), [1])\n",
    "        \n",
    "    def test_case_1(self):\n",
    "        tree = BinaryTree(1)\n",
    "        tree.left = BinaryTree(2)\n",
    "        tree.right = BinaryTree(3)\n",
    "        self.assertEqual(branch_sums(tree), [3, 4])\n",
    "    \n",
    "\n",
    "# if __name__ == \"__main__\":\n",
    "#    unittest.main(argv=[\"\"], exit=False)\n",
    "        "
   ]
  },
  {
   "cell_type": "code",
   "execution_count": null,
   "metadata": {},
   "outputs": [],
   "source": []
  }
 ],
 "metadata": {
  "kernelspec": {
   "display_name": "Python 3",
   "language": "python",
   "name": "python3"
  },
  "language_info": {
   "codemirror_mode": {
    "name": "ipython",
    "version": 3
   },
   "file_extension": ".py",
   "mimetype": "text/x-python",
   "name": "python",
   "nbconvert_exporter": "python",
   "pygments_lexer": "ipython3",
   "version": "3.7.4"
  }
 },
 "nbformat": 4,
 "nbformat_minor": 2
}
