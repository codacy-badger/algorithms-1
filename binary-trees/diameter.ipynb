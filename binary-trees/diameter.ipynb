{
 "cells": [
  {
   "cell_type": "markdown",
   "metadata": {},
   "source": [
    "# Binary Tree Diameter\n",
    "Find the diameter of a given binary tree. The diameter of a binary tree is the longest path, even if the path doesn't go through the root.\n",
    "\n",
    "```\n",
    "          1\n",
    "         / \\\n",
    "        6   2\n",
    "       / \\   \n",
    "      5   7 \n",
    "     / \\    \\\n",
    "    4   3    8\n",
    "              \\\n",
    "              9\n",
    "```\n",
    "returns 5  (4 -> 5 -> 6 -> 7 -> 8 -> 9)"
   ]
  },
  {
   "cell_type": "markdown",
   "metadata": {},
   "source": [
    "### Approach\n",
    "The diameter of a binary tree is equal to:\n",
    "    \n",
    "```\n",
    "max(longest path through root, left diameter, right diameter)\n",
    "\n",
    "the longest path through the root = left height + right height\n",
    "```\n",
    "\n",
    "So we'll traverse each node until the we hit the leaf nodes. Once this happens, we recursively build up the diameter and height of each child node, which adds up the the diameter and height of their parent node above them, until we get to the root.\n",
    "We'll return the maximum diameter based on the formula above.\n"
   ]
  },
  {
   "cell_type": "code",
   "execution_count": 3,
   "metadata": {},
   "outputs": [],
   "source": [
    "class Node:\n",
    "    def __init__(self, value, left=None, right=None):\n",
    "        self.value = value\n",
    "        self.left = left\n",
    "        self.right = right\n",
    "        \n",
    "def find_diameter(root) -> int:\n",
    "    if root is None:\n",
    "        return 0\n",
    "    \n",
    "    height_left = height(root.left)\n",
    "    height_right = height(root.right)\n",
    "    \n",
    "    d_left = find_diameter(root.left)\n",
    "    d_right = find_diameter(root.right)\n",
    "    \n",
    "    return max(height_left + height_right, max(d_left, d_right))\n",
    "    \n",
    "def height(node) -> int:\n",
    "    if node is None:\n",
    "        return 0\n",
    "    return 1 + max(height(node.left), height(node.right))"
   ]
  },
  {
   "cell_type": "code",
   "execution_count": 5,
   "metadata": {},
   "outputs": [
    {
     "data": {
      "text/plain": [
       "5"
      ]
     },
     "execution_count": 5,
     "metadata": {},
     "output_type": "execute_result"
    }
   ],
   "source": [
    "root = Node(1, left=Node(2, Node(4, Node(5))), right=Node(3, None, Node(6)))\n",
    "find_diameter(root)"
   ]
  },
  {
   "cell_type": "markdown",
   "metadata": {},
   "source": [
    "The time complexity will be **O(N)** since we are visiting each node once. The space complexity will be **O(N)** because we are storing N recursive calls on the call stack."
   ]
  },
  {
   "cell_type": "code",
   "execution_count": null,
   "metadata": {},
   "outputs": [],
   "source": []
  }
 ],
 "metadata": {
  "kernelspec": {
   "display_name": "Python 3",
   "language": "python",
   "name": "python3"
  },
  "language_info": {
   "codemirror_mode": {
    "name": "ipython",
    "version": 3
   },
   "file_extension": ".py",
   "mimetype": "text/x-python",
   "name": "python",
   "nbconvert_exporter": "python",
   "pygments_lexer": "ipython3",
   "version": "3.7.6"
  }
 },
 "nbformat": 4,
 "nbformat_minor": 4
}
