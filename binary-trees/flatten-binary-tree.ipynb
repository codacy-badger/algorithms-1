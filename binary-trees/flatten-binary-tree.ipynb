{
 "cells": [
  {
   "cell_type": "markdown",
   "metadata": {},
   "source": [
    "## Flatten Binary Tree\n",
    "Write a function that takes in a binary tree, flatten it, and returns the left-most node."
   ]
  },
  {
   "cell_type": "code",
   "execution_count": 1,
   "metadata": {},
   "outputs": [],
   "source": [
    "class BinaryTree:\n",
    "    def __init__(self, value, left=None, right=None):\n",
    "        self.value = value\n",
    "        self.left = left\n",
    "        self.right = right\n",
    "\n",
    "def inorderTraversal(root, array):\n",
    "    if root is not None:\n",
    "        inorderTraversal(root.left, array)\n",
    "        array.append(root)\n",
    "        inorderTraversal(root.right, array)\n",
    "    return array\n",
    "\n",
    "def flattenBinaryTree(root):\n",
    "    array = inorderTraversal(root, [])\n",
    "    for i in range(0, len(array) - 1):\n",
    "        leftNode = array[i]\n",
    "        rightNode = array[i + 1]\n",
    "        leftNode.right = rightNode\n",
    "        rightNode.left = leftNode\n",
    "    return array[0]"
   ]
  },
  {
   "cell_type": "code",
   "execution_count": null,
   "metadata": {},
   "outputs": [],
   "source": []
  }
 ],
 "metadata": {
  "kernelspec": {
   "display_name": "Python 3",
   "language": "python",
   "name": "python3"
  },
  "language_info": {
   "codemirror_mode": {
    "name": "ipython",
    "version": 3
   },
   "file_extension": ".py",
   "mimetype": "text/x-python",
   "name": "python",
   "nbconvert_exporter": "python",
   "pygments_lexer": "ipython3",
   "version": "3.7.6"
  }
 },
 "nbformat": 4,
 "nbformat_minor": 4
}
