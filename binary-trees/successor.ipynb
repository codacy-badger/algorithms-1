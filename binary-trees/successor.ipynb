{
 "cells": [
  {
   "cell_type": "markdown",
   "metadata": {},
   "source": [
    "## Node's successor\n",
    "\n",
    "Given a binary tree and a node in the tree, find the successor of the node.\n",
    "\n",
    "A node's successor is the next node when traversing a binary tree in an in-order fashion.\n",
    "\n",
    "For example given the following tree:\n",
    "```\n",
    "         1\n",
    "        / \\\n",
    "       2   3\n",
    "      /\\\n",
    "     4  5\n",
    "    / \n",
    "   6\n",
    "```\n",
    "Return 1, since 1 follows 5 in when arranged in-order.\n",
    "    \n"
   ]
  },
  {
   "cell_type": "code",
   "execution_count": 3,
   "metadata": {},
   "outputs": [],
   "source": [
    "class Node:\n",
    "    def __init__(self, value, left=None, right=None, parent=None):\n",
    "        self.value = value\n",
    "        self.left = left\n",
    "        self.right = right\n",
    "        self.parent = parent\n",
    "        \n",
    "\n",
    "def findSuccessor(tree: Node, node: Node) -> Node:\n",
    "    # if node has right child, find the left most node under it: that's our successor\n",
    "    if node.right is not None:\n",
    "        return getLeftMostChild(node.right)\n",
    "    return getRightMostParent(node)\n",
    "\n",
    "def getLeftMostChild(node):\n",
    "    current = node\n",
    "    while current.left is not None:\n",
    "        current = current.left\n",
    "    return current\n",
    "\n",
    "def getRightMostParent(node):\n",
    "    current = node.parent\n",
    "    while current.parent is not None and current.parent.right == current:\n",
    "        current = current.parent\n",
    "    return current.parent"
   ]
  },
  {
   "cell_type": "code",
   "execution_count": 5,
   "metadata": {},
   "outputs": [
    {
     "data": {
      "text/plain": [
       "1"
      ]
     },
     "execution_count": 5,
     "metadata": {},
     "output_type": "execute_result"
    }
   ],
   "source": [
    "root = Node(1)\n",
    "root.left = Node(2)\n",
    "root.left.parent = root\n",
    "root.right = Node(3)\n",
    "root.right.parent = root\n",
    "\n",
    "root.left.left = Node(4)\n",
    "root.left.left.parent = root.left\n",
    "root.left.right = Node(5)\n",
    "root.left.right.parent = root.left\n",
    "root.left.left.left = Node(6)\n",
    "root.left.left.left.parent = root.left.left\n",
    "\n",
    "# input node to find its successor \n",
    "node = root.left.right\n",
    "findSuccessor(root, node).value"
   ]
  },
  {
   "cell_type": "code",
   "execution_count": null,
   "metadata": {},
   "outputs": [],
   "source": []
  }
 ],
 "metadata": {
  "kernelspec": {
   "display_name": "Python 3",
   "language": "python",
   "name": "python3"
  },
  "language_info": {
   "codemirror_mode": {
    "name": "ipython",
    "version": 3
   },
   "file_extension": ".py",
   "mimetype": "text/x-python",
   "name": "python",
   "nbconvert_exporter": "python",
   "pygments_lexer": "ipython3",
   "version": "3.7.6"
  }
 },
 "nbformat": 4,
 "nbformat_minor": 4
}
