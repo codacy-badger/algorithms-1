{
 "cells": [
  {
   "cell_type": "markdown",
   "metadata": {},
   "source": [
    "## Problem\n",
    "Traverse a binary tree in an in-order fashion in constant space. In other words, do it iteratively"
   ]
  },
  {
   "cell_type": "code",
   "execution_count": 1,
   "metadata": {},
   "outputs": [],
   "source": [
    "## solution\n",
    "def iterative_inorder(tree, callback):\n",
    "    current_node = tree\n",
    "    prev_node = None  # the previous node\n",
    "    \n",
    "    while current_node is not None:\n",
    "        if prev_node is None or prev_node == current_node.parent:\n",
    "            if current_node.left is not None:\n",
    "                next_node = current_node.left\n",
    "            else:\n",
    "                callback(current_node)\n",
    "                next_node = current_node.right if current_node.right is not None else current_node.parent\n",
    "        elif prev_node == current_node.left:\n",
    "            callback(current_node)\n",
    "            next_node = current_node.right if current_node.right is not None else current_node.parent\n",
    "        else:\n",
    "            # if previous node is on the current_node right child\n",
    "            # move back up to the parent of the current node\n",
    "            next_node = current_node.parent\n",
    "        \n",
    "        prev_node = current_node\n",
    "        current_node = next_node\n",
    "    "
   ]
  },
  {
   "cell_type": "code",
   "execution_count": 5,
   "metadata": {},
   "outputs": [],
   "source": [
    "class BinaryTree:\n",
    "    def __init__(self, value):\n",
    "        self.value = value\n",
    "        self.parent = None\n",
    "        self.left = None\n",
    "        self.right = None\n",
    "        \n",
    "    \n",
    "    def insert(self, values, i=0):\n",
    "        if i >= len(values):\n",
    "            return\n",
    "        queue = [self]\n",
    "        while len(queue) > 0:\n",
    "            current = queue.pop(0)\n",
    "            if current.left is None:\n",
    "                current.left = BinaryTree(value=values[i])\n",
    "                break\n",
    "            queue.append(current.left)\n",
    "            if current.right is None:\n",
    "                current.right = BinaryTree(value=values[i])\n",
    "                break\n",
    "            queue.append(current.right)\n",
    "            \n",
    "            self.insert(values, i + 1)\n",
    "        return self"
   ]
  },
  {
   "cell_type": "code",
   "execution_count": 6,
   "metadata": {},
   "outputs": [
    {
     "data": {
      "text/plain": [
       "<__main__.BinaryTree at 0x10bd746d0>"
      ]
     },
     "execution_count": 6,
     "metadata": {},
     "output_type": "execute_result"
    }
   ],
   "source": [
    "BinaryTree(1).insert([2, 3, 4, 5])"
   ]
  },
  {
   "cell_type": "code",
   "execution_count": null,
   "metadata": {},
   "outputs": [],
   "source": []
  }
 ],
 "metadata": {
  "kernelspec": {
   "display_name": "Python 3",
   "language": "python",
   "name": "python3"
  },
  "language_info": {
   "codemirror_mode": {
    "name": "ipython",
    "version": 3
   },
   "file_extension": ".py",
   "mimetype": "text/x-python",
   "name": "python",
   "nbconvert_exporter": "python",
   "pygments_lexer": "ipython3",
   "version": "3.7.4"
  }
 },
 "nbformat": 4,
 "nbformat_minor": 2
}
