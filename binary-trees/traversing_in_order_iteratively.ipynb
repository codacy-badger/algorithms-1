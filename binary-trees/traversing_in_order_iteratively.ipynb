{
 "cells": [
  {
   "cell_type": "markdown",
   "metadata": {},
   "source": [
    "## Problem\n",
    "Traverse a binary tree in an in-order fashion in constant space. In other words, do it iteratively"
   ]
  },
  {
   "cell_type": "code",
   "execution_count": null,
   "metadata": {},
   "outputs": [],
   "source": [
    "## solution\n",
    "def iterative_inorder(tree, callback):\n",
    "    current_node = tree\n",
    "    prev_node = None  # the previous node\n",
    "    \n",
    "    while current_node is not None:\n",
    "        if prev_node is None or prev_node == current.parent:\n",
    "            if current_node.left is not None:\n",
    "                next_node = current.left\n",
    "            else:\n",
    "                callback(current_node)\n",
    "                next_node = current_node.right if current_node is not None else current_node.parent\n",
    "        elif prev_node == current_node.left:\n",
    "            callback(current_node)\n",
    "            next_node = current_node.right if current_node.right is not None else current_node.parent\n",
    "        else:\n",
    "            # if previous node is on the current_node right child\n",
    "            # move back up to the parent of the current node\n",
    "            next_node = current.parent\n",
    "        \n",
    "        prev_node = current_node\n",
    "        current_node = next_node\n",
    "    "
   ]
  }
 ],
 "metadata": {
  "kernelspec": {
   "display_name": "Python 3",
   "language": "python",
   "name": "python3"
  },
  "language_info": {
   "codemirror_mode": {
    "name": "ipython",
    "version": 3
   },
   "file_extension": ".py",
   "mimetype": "text/x-python",
   "name": "python",
   "nbconvert_exporter": "python",
   "pygments_lexer": "ipython3",
   "version": "3.7.4"
  }
 },
 "nbformat": 4,
 "nbformat_minor": 2
}
