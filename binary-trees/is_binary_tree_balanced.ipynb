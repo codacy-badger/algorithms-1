{
 "cells": [
  {
   "cell_type": "markdown",
   "metadata": {},
   "source": [
    "### Balanced Tree check\n",
    "Given a binary tree, check if it is balanced. "
   ]
  },
  {
   "cell_type": "code",
   "execution_count": 10,
   "metadata": {},
   "outputs": [],
   "source": [
    "class Node:\n",
    "    def __init__(self, value):\n",
    "        self.value = value\n",
    "        self.left = None\n",
    "        self.right = None\n",
    "        \n",
    "\n",
    "def getHeight(root):\n",
    "    if root is None:\n",
    "        return -1\n",
    "    return max(getHeight(root.left), getHeight(root.right)) + 1\n",
    "\n",
    "def isBalanced(root):\n",
    "    \"\"\"O(n log n) time | O(h) space, where h = height of tree.\"\"\"\n",
    "    if root is None:\n",
    "        return True\n",
    "    \n",
    "    leftSubtreeHeight = getHeight(root.left)\n",
    "    rightSubtreeHeight = getHeight(root.right)\n",
    "    if abs(leftSubtreeHeight - rightSubtreeHeight) > 1:\n",
    "        return False\n",
    "    else:\n",
    "        return isBalanced(root.left) and isBalanced(root.right)"
   ]
  },
  {
   "cell_type": "code",
   "execution_count": 11,
   "metadata": {},
   "outputs": [
    {
     "data": {
      "text/plain": [
       "1"
      ]
     },
     "execution_count": 11,
     "metadata": {},
     "output_type": "execute_result"
    }
   ],
   "source": [
    "node = Node(2)\n",
    "node.right = Node(4)\n",
    "getHeight(node)"
   ]
  },
  {
   "cell_type": "code",
   "execution_count": 12,
   "metadata": {},
   "outputs": [],
   "source": [
    "node = Node(2)\n",
    "node.left = Node(3)\n",
    "node.right = Node(4)\n",
    "node.left.left = Node(5)\n",
    "node.left.left.left = Node(6)"
   ]
  },
  {
   "cell_type": "code",
   "execution_count": 13,
   "metadata": {},
   "outputs": [
    {
     "data": {
      "text/plain": [
       "False"
      ]
     },
     "execution_count": 13,
     "metadata": {},
     "output_type": "execute_result"
    }
   ],
   "source": [
    "isBalanced(node)"
   ]
  }
 ],
 "metadata": {
  "kernelspec": {
   "display_name": "Python 3",
   "language": "python",
   "name": "python3"
  },
  "language_info": {
   "codemirror_mode": {
    "name": "ipython",
    "version": 3
   },
   "file_extension": ".py",
   "mimetype": "text/x-python",
   "name": "python",
   "nbconvert_exporter": "python",
   "pygments_lexer": "ipython3",
   "version": "3.7.6"
  }
 },
 "nbformat": 4,
 "nbformat_minor": 4
}
