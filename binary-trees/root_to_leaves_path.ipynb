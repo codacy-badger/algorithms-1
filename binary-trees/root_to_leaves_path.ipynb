{
 "cells": [
  {
   "cell_type": "markdown",
   "metadata": {},
   "source": [
    "### Problem\n",
    "Given a binary tree, write a function that returns all possible paths from the root to the leaves.\n",
    "\n",
    "For example given the following tree\n",
    "\n",
    "```\n",
    "    1\n",
    "   / \\\n",
    "  2   3\n",
    "     / \\\n",
    "    4   5\n",
    "```\n",
    "The paths are\n",
    "```python\n",
    "[ [1, 2], [1, 3, 4], [1, 3, 5] ]\n",
    "```"
   ]
  },
  {
   "cell_type": "code",
   "execution_count": 10,
   "metadata": {},
   "outputs": [],
   "source": [
    "class Node:\n",
    "    def __init__(self, value, left=None, right=None):\n",
    "        self.value = value\n",
    "        self.left = left\n",
    "        self.right = right\n",
    "        self.parent = None\n",
    "        if left:\n",
    "            left.parent = self\n",
    "        if right:\n",
    "            right.parent = self\n",
    "        \n",
    "    def path(self):\n",
    "        current = self\n",
    "        path = []\n",
    "        while current:\n",
    "            path = [current.value] + path\n",
    "            current = current.parent\n",
    "        return path"
   ]
  },
  {
   "cell_type": "code",
   "execution_count": 66,
   "metadata": {},
   "outputs": [],
   "source": [
    "root = Node(\n",
    "    value=1, \n",
    "    left=Node(2), \n",
    "    right=Node(3, Node(4), Node(5)))"
   ]
  },
  {
   "cell_type": "code",
   "execution_count": 68,
   "metadata": {},
   "outputs": [],
   "source": [
    "def find_leaves(node):\n",
    "    paths = []\n",
    "    queue = list()\n",
    "    queue.append(node)\n",
    "    while len(queue):\n",
    "        node = queue.pop()\n",
    "        if not node.left and not node.right:\n",
    "            paths += [node.path()]\n",
    "            continue\n",
    "        if node.right:\n",
    "            queue.append(node.right)\n",
    "        if node.left:\n",
    "            queue.append(node.left)\n",
    "    return paths"
   ]
  },
  {
   "cell_type": "code",
   "execution_count": 69,
   "metadata": {},
   "outputs": [
    {
     "data": {
      "text/plain": [
       "[[1, 2], [1, 3, 4], [1, 3, 5]]"
      ]
     },
     "execution_count": 69,
     "metadata": {},
     "output_type": "execute_result"
    }
   ],
   "source": [
    "find_leaves(root)"
   ]
  },
  {
   "cell_type": "code",
   "execution_count": null,
   "metadata": {},
   "outputs": [],
   "source": []
  }
 ],
 "metadata": {
  "kernelspec": {
   "display_name": "Python 3",
   "language": "python",
   "name": "python3"
  },
  "language_info": {
   "codemirror_mode": {
    "name": "ipython",
    "version": 3
   },
   "file_extension": ".py",
   "mimetype": "text/x-python",
   "name": "python",
   "nbconvert_exporter": "python",
   "pygments_lexer": "ipython3",
   "version": "3.7.6"
  }
 },
 "nbformat": 4,
 "nbformat_minor": 4
}
