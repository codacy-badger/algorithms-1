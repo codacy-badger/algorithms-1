{
 "cells": [
  {
   "cell_type": "markdown",
   "metadata": {},
   "source": [
    "## Mergesort\n",
    "Implement mergesort.\n",
    "\n",
    "### Approach\n",
    "Mergesort is a divide-and-conquer algorithm. We divide the array into two sub-arrays, recursively call the function and pass in the two halves, until each sub-array has one element. Since each sub-array has only one element, they are all sorted. We then merge each sub-array until we form a sorted array.\n",
    "\n",
    "The merge function will be used to merge two sorted halves."
   ]
  },
  {
   "cell_type": "code",
   "execution_count": 30,
   "metadata": {},
   "outputs": [],
   "source": [
    "def merge_sort(array, left, right):\n",
    "    if left < right:\n",
    "        mid = (left + (right - 1)) // 2   # same as ((left + right) // 2) but avoids overflow for large left\n",
    "    \n",
    "        merge_sort(array, left, mid)\n",
    "        merge_sort(array, mid + 1, right)\n",
    "        merge(array, left, mid, right)\n",
    "    return array"
   ]
  },
  {
   "cell_type": "code",
   "execution_count": 31,
   "metadata": {},
   "outputs": [],
   "source": [
    "def merge(array, left, mid, right):\n",
    "    n1 = mid - left + 1\n",
    "    n2 = right - mid\n",
    "    \n",
    "    # create temp arrays\n",
    "    left_array = [0] * n1\n",
    "    right_array = [0] * n2\n",
    "    \n",
    "    # copy the data to the temp arrays\n",
    "    for i in range(0, n1):\n",
    "        left_array[i] = array[left + i]\n",
    "    \n",
    "    for j in range(0, n2):\n",
    "        right_array[j] = array[mid + 1 + j]\n",
    "    \n",
    "    # merge the temp arrays into one array\n",
    "    i = 0  # index for arr1\n",
    "    j = 0  # index for arr2\n",
    "    k = left  # index for the final array\n",
    "    \n",
    "    while i < n1 and j < n2:\n",
    "        if left_array[i] <= right_array[j]:\n",
    "            array[k] = left_array[i]\n",
    "            i += 1\n",
    "        else:\n",
    "            array[k] = right_array[j]\n",
    "            j += 1\n",
    "        k += 1\n",
    "    \n",
    "    # copy remaining elements of left array if any\n",
    "    while i < n1:\n",
    "        array[k] = left_array[i]\n",
    "        i += 1\n",
    "        k += 1\n",
    "    \n",
    "    # copy remaining elements of right array if any\n",
    "    while j < n2:\n",
    "        array[k] = right_array[j]\n",
    "        j += 1\n",
    "        k += 1"
   ]
  },
  {
   "cell_type": "code",
   "execution_count": 32,
   "metadata": {},
   "outputs": [
    {
     "data": {
      "text/plain": [
       "[0, 1, 2, 3, 4, 6]"
      ]
     },
     "execution_count": 32,
     "metadata": {},
     "output_type": "execute_result"
    }
   ],
   "source": [
    "A = [2, 4, 1, 6, 0, 3]\n",
    "n = len(A)\n",
    "merge_sort(A, 0, n - 1)"
   ]
  },
  {
   "cell_type": "markdown",
   "metadata": {},
   "source": [
    "## Bottom-up approach\n",
    "We can implement merge-sort iteratively in a bottom-up manner. \n",
    "\n",
    "We start by sorting all sub-arrays of size 1, then we merge them into sub-arrays of two elements. We perform successive merges until the array is completely sorted. \n",
    "\n"
   ]
  },
  {
   "cell_type": "code",
   "execution_count": null,
   "metadata": {},
   "outputs": [],
   "source": [
    "def mergeSort(array):\n",
    "    left = 0\n",
    "    right = len(array) - 1\n",
    "    \n",
    "    temp = array.copy()\n",
    "    \n",
    "    m = 1\n",
    "    while m <= right - left:\n",
    "        \n",
    "        "
   ]
  }
 ],
 "metadata": {
  "kernelspec": {
   "display_name": "Python 3",
   "language": "python",
   "name": "python3"
  },
  "language_info": {
   "codemirror_mode": {
    "name": "ipython",
    "version": 3
   },
   "file_extension": ".py",
   "mimetype": "text/x-python",
   "name": "python",
   "nbconvert_exporter": "python",
   "pygments_lexer": "ipython3",
   "version": "3.7.6"
  }
 },
 "nbformat": 4,
 "nbformat_minor": 4
}
