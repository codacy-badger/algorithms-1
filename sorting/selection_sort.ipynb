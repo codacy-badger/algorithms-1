{
 "cells": [
  {
   "cell_type": "markdown",
   "metadata": {},
   "source": [
    "### Given an array of unsorted integers, sort it using selection sort."
   ]
  },
  {
   "cell_type": "code",
   "execution_count": 44,
   "metadata": {},
   "outputs": [],
   "source": [
    "\n",
    "def find_smallest(A):\n",
    "    smallest = A[0]\n",
    "    smallest_index = 0\n",
    "    for i in range(1, len(A)):\n",
    "        if A[i] < smallest:\n",
    "            smallest = A[i]\n",
    "            smallest_index = i\n",
    "    return smallest_index\n",
    "\n",
    "def selection_sort(A):\n",
    "    \"\"\"Complexity: O(n^2) time | O(n) space (Although we can achieve constant time if we sort inplace)\"\"\"\n",
    "    sorted_array = []\n",
    "    for i in range(len(A)):\n",
    "        smallest_index = find_smallest(A)\n",
    "        sorted_array.append(A.pop(smallest_index))\n",
    "    return sorted_array\n"
   ]
  },
  {
   "cell_type": "code",
   "execution_count": 45,
   "metadata": {},
   "outputs": [
    {
     "data": {
      "text/plain": [
       "[-2, 0, 1, 2, 3, 5]"
      ]
     },
     "execution_count": 45,
     "metadata": {},
     "output_type": "execute_result"
    }
   ],
   "source": [
    "A = [1, 2, 3, -2, 0, 5]\n",
    "selection_sort(A)"
   ]
  }
 ],
 "metadata": {
  "kernelspec": {
   "display_name": "Python 3",
   "language": "python",
   "name": "python3"
  },
  "language_info": {
   "codemirror_mode": {
    "name": "ipython",
    "version": 3
   },
   "file_extension": ".py",
   "mimetype": "text/x-python",
   "name": "python",
   "nbconvert_exporter": "python",
   "pygments_lexer": "ipython3",
   "version": "3.7.6"
  }
 },
 "nbformat": 4,
 "nbformat_minor": 4
}
