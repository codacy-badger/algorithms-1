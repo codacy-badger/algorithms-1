{
 "metadata": {
  "language_info": {
   "codemirror_mode": {
    "name": "ipython",
    "version": 3
   },
   "file_extension": ".py",
   "mimetype": "text/x-python",
   "name": "python",
   "nbconvert_exporter": "python",
   "pygments_lexer": "ipython3",
   "version": "3.9.0-final"
  },
  "orig_nbformat": 2,
  "kernelspec": {
   "name": "python3",
   "display_name": "Python 3.9.0 64-bit",
   "metadata": {
    "interpreter": {
     "hash": "aee8b7b246df8f9039afb4144a1f6fd8d2ca17a180786b69acc140d282b71a49"
    }
   }
  }
 },
 "nbformat": 4,
 "nbformat_minor": 2,
 "cells": [
  {
   "cell_type": "code",
   "execution_count": 1,
   "metadata": {},
   "outputs": [],
   "source": [
    "\"\"\"\n",
    "Implementation of bubble sort.\n",
    "\n",
    "Sample input: [8, 5, 2, 9, 5, 6, 3]\n",
    "Sample output [2, 3, 5, 5, 6, 8, 9 ]\n",
    "\"\"\"\n",
    "\n",
    "\n",
    "def bubble_sort(array):\n",
    "    \"\"\"\n",
    "    Sort the list by swapping adjacent elements.\n",
    "\n",
    "    Complexity:\n",
    "        O(1) space\n",
    "        O(n^2) time\n",
    "    \"\"\"\n",
    "    is_sorted = False\n",
    "    counter = 0\n",
    "    while not is_sorted:\n",
    "        is_sorted = True\n",
    "        for i in range(len(array) - 1 - counter):\n",
    "            if array[i] > array[i + 1]:\n",
    "                swap(i, i + 1, array)\n",
    "                is_sorted = False\n",
    "    return array\n",
    "\n",
    "\n",
    "def swap(i, j, array):\n",
    "    array[i], array[j] = array[j], array[i]\n"
   ]
  },
  {
   "cell_type": "code",
   "execution_count": 3,
   "metadata": {},
   "outputs": [
    {
     "output_type": "execute_result",
     "data": {
      "text/plain": [
       "[2, 3, 5, 5, 6, 8, 9]"
      ]
     },
     "metadata": {},
     "execution_count": 3
    }
   ],
   "source": [
    "bubble_sort([8, 5, 2, 9, 5, 6, 3])"
   ]
  },
  {
   "cell_type": "code",
   "execution_count": null,
   "metadata": {},
   "outputs": [],
   "source": []
  }
 ]
}