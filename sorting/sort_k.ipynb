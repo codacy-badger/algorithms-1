{
 "cells": [
  {
   "cell_type": "markdown",
   "metadata": {},
   "source": [
    "## Problem\n",
    "You are given a list of N numbers, in which each number is located at most k places away from its sorted position. For example, if k = 1, a given element at index 4 might end up at indices 3, 4, or 5.\n",
    "\n",
    "Come up with an algorithm that sorts this list in O(N log k) time."
   ]
  },
  {
   "cell_type": "markdown",
   "metadata": {},
   "source": [
    "# 1st Approach\n",
    "A good place to start would be to use the sliding window technique. At each position, we find the minimum of the next *k* elements. If this element is less than the left of the window, we swap them."
   ]
  },
  {
   "cell_type": "code",
   "execution_count": 10,
   "metadata": {},
   "outputs": [],
   "source": [
    "def sort(array:list, k:int) -> list:\n",
    "    for i in range(len(array)):\n",
    "        low = i\n",
    "        window = array[i + 1: i + k + 1]\n",
    "        \n",
    "        for j, item in enumerate(window, i + 1):\n",
    "            if item < array[i]:\n",
    "                low = j\n",
    "        if array[low] < array[i]:\n",
    "            array[i], array[low] = array[low], array[i]\n",
    "    return array"
   ]
  },
  {
   "cell_type": "code",
   "execution_count": 13,
   "metadata": {},
   "outputs": [
    {
     "data": {
      "text/plain": [
       "[1, 1, 2, 3, 4]"
      ]
     },
     "execution_count": 13,
     "metadata": {},
     "output_type": "execute_result"
    }
   ],
   "source": [
    "array = [2, 1, 3, 4, 1]\n",
    "k = 3\n",
    "sort(array, k)"
   ]
  },
  {
   "cell_type": "markdown",
   "metadata": {},
   "source": [
    "Since we are iterating over N windows of size k, the time complexity is O(N * k). We also need O(k) space to store the window at any given time.\n",
    "\n",
    "But the problem requires that we solve it in O(N log k) time. We can improve on our solution by using a heap. \n",
    "\n",
    "- Place the first K elements in a min-heap.\n",
    "- For each new element in the list, we add it to the heap, then pop the smallest element from the heap, appending it to our result array\n",
    "- For the remaining left over elements in the heap, add them from lowest to highest into the results array"
   ]
  },
  {
   "cell_type": "code",
   "execution_count": 21,
   "metadata": {},
   "outputs": [],
   "source": [
    "import heapq\n",
    "\n",
    "def sort_k(array:list, k:int) -> list:\n",
    "    res = []\n",
    "    heap = []\n",
    "    \n",
    "    for i in range(k):\n",
    "        heapq.heappush(heap, array[i])\n",
    "    \n",
    "    for i in range(k, len(array)):\n",
    "        heapq.heappush(heap, array[i])\n",
    "        smallest = heapq.heappop(heap)\n",
    "        res.append(smallest)\n",
    "    \n",
    "    while heap:\n",
    "        res.append(heapq.heappop(heap))\n",
    "        \n",
    "    return res\n",
    "    \n",
    "    "
   ]
  },
  {
   "cell_type": "code",
   "execution_count": 22,
   "metadata": {},
   "outputs": [
    {
     "data": {
      "text/plain": [
       "[1, 1, 2, 3, 4]"
      ]
     },
     "execution_count": 22,
     "metadata": {},
     "output_type": "execute_result"
    }
   ],
   "source": [
    "array = [2, 1, 3, 4, 1]\n",
    "sort_k(array, k=3)"
   ]
  },
  {
   "cell_type": "code",
   "execution_count": null,
   "metadata": {},
   "outputs": [],
   "source": []
  }
 ],
 "metadata": {
  "kernelspec": {
   "display_name": "Python 3",
   "language": "python",
   "name": "python3"
  },
  "language_info": {
   "codemirror_mode": {
    "name": "ipython",
    "version": 3
   },
   "file_extension": ".py",
   "mimetype": "text/x-python",
   "name": "python",
   "nbconvert_exporter": "python",
   "pygments_lexer": "ipython3",
   "version": "3.7.6"
  }
 },
 "nbformat": 4,
 "nbformat_minor": 4
}
