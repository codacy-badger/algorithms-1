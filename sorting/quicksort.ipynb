{
 "cells": [
  {
   "cell_type": "code",
   "execution_count": 1,
   "metadata": {},
   "outputs": [],
   "source": [
    "## Quicksort\n",
    "## O(n log(n)) time | O(log (n)) space\n",
    "def quicksort(array):\n",
    "    quicksort_helper(array, 0, len(array) - 1)\n",
    "    return array\n",
    "\n",
    "def quicksort_helper(array, start_idx, end_idx):\n",
    "    # base case\n",
    "    if start_idx >= end_idx:\n",
    "        return\n",
    "    \n",
    "    \n",
    "    pivot_idx = start_idx\n",
    "    left_idx = pivot_idx + 1\n",
    "    right_idx = end_idx\n",
    "    \n",
    "\n",
    "    while right_idx >= left_idx:\n",
    "        if array[left_idx] > array[pivot_idx] and array[right_idx] < array[pivot_idx]:\n",
    "            swap(left_idx, right_idx, array)\n",
    "        if array[left_idx] <= array[pivot_idx]:\n",
    "            left_idx += 1\n",
    "        if array[right_idx] >= array[pivot_idx]:\n",
    "            right_idx -= 1\n",
    "    \n",
    "    # we've gotten to a point where the left ointer is greater than the right, so swap pivot with right pointer\n",
    "    swap(pivot_idx, right_idx, array)\n",
    "    \n",
    "    # now, call the quick sort algorithm to the resulting left and right subarrays.\n",
    "    left_subarray_is_smaller = (right_idx - 1) - start_idx < end_idx - (right_idx + 1)\n",
    "    if left_subarray_is_smaller:\n",
    "        # left subarray is smaller so start with it first\n",
    "        quicksort_helper(array, start_idx, right_idx - 1)\n",
    "        quicksort_helper(array, right_idx + 1, end_idx)\n",
    "    else:\n",
    "        # work on right subarray first\n",
    "        quicksort_helper(array, right_idx + 1, end_idx)\n",
    "        quicksort_helper(array, start_idx, right_idx - 1)\n",
    "    \n",
    "\n",
    "def swap(i, j, array):\n",
    "    array[i], array[j] = array[j], array[i]\n",
    "    "
   ]
  },
  {
   "cell_type": "code",
   "execution_count": 2,
   "metadata": {},
   "outputs": [
    {
     "data": {
      "text/plain": [
       "[1, 2, 3]"
      ]
     },
     "execution_count": 2,
     "metadata": {},
     "output_type": "execute_result"
    }
   ],
   "source": [
    "array = [3, 1, 2]\n",
    "quicksort(array)"
   ]
  },
  {
   "cell_type": "code",
   "execution_count": null,
   "metadata": {},
   "outputs": [],
   "source": []
  }
 ],
 "metadata": {
  "kernelspec": {
   "display_name": "Python 3",
   "language": "python",
   "name": "python3"
  },
  "language_info": {
   "codemirror_mode": {
    "name": "ipython",
    "version": 3
   },
   "file_extension": ".py",
   "mimetype": "text/x-python",
   "name": "python",
   "nbconvert_exporter": "python",
   "pygments_lexer": "ipython3",
   "version": "3.7.4"
  }
 },
 "nbformat": 4,
 "nbformat_minor": 2
}
