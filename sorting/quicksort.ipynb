{
 "cells": [
  {
   "cell_type": "code",
   "execution_count": null,
   "metadata": {},
   "outputs": [],
   "source": [
    "### Quicksort\n",
    "Here's a simpler implementation to follow:\n"
   ]
  },
  {
   "cell_type": "code",
   "execution_count": 5,
   "metadata": {},
   "outputs": [],
   "source": [
    "def qsort(A):\n",
    "    \"\"\"Complexity:\n",
    "         Average Case: O(n log n) time | O(log n) space,\n",
    "         Worst Case: (When the array is sorted) --> O(n^2) time | O(n) space (Note: Height of the call stack is n)\n",
    "    \"\"\"\n",
    "    \n",
    "    if len(A) < 2:\n",
    "        # array is already sorted\n",
    "        return A\n",
    "    \n",
    "    # get the pivot from the middle of the array\n",
    "    pivot = A[(len(A) - 1) // 2]\n",
    "    left_subarray = [i for i in A[1:] if i <= pivot]\n",
    "    right_subarray = [i for i in A[1:] if i > pivot]\n",
    "    \n",
    "    return qsort(left_subarray) + [pivot] + qsort(right_subarray)"
   ]
  },
  {
   "cell_type": "code",
   "execution_count": 6,
   "metadata": {},
   "outputs": [
    {
     "data": {
      "text/plain": [
       "[-12, 0, 0, 6, 10, 10, 10]"
      ]
     },
     "execution_count": 6,
     "metadata": {},
     "output_type": "execute_result"
    }
   ],
   "source": [
    "array = [5, 4, 2, 10, 0, -12, 6]\n",
    "qsort(array)"
   ]
  },
  {
   "cell_type": "code",
   "execution_count": 7,
   "metadata": {},
   "outputs": [],
   "source": [
    "## Quicksort\n",
    "## O(n log(n)) time | O(log (n)) space\n",
    "def quicksort(array):\n",
    "    quicksort_helper(array, 0, len(array) - 1)\n",
    "    return array\n",
    "\n",
    "def quicksort_helper(array, start_idx, end_idx):\n",
    "    # base case\n",
    "    if start_idx >= end_idx:\n",
    "        return\n",
    "    \n",
    "    \n",
    "    pivot_idx = start_idx\n",
    "    left_idx = pivot_idx + 1\n",
    "    right_idx = end_idx\n",
    "    \n",
    "\n",
    "    while right_idx >= left_idx:\n",
    "        if array[left_idx] > array[pivot_idx] and array[right_idx] < array[pivot_idx]:\n",
    "            swap(left_idx, right_idx, array)\n",
    "        if array[left_idx] <= array[pivot_idx]:\n",
    "            left_idx += 1\n",
    "        if array[right_idx] >= array[pivot_idx]:\n",
    "            right_idx -= 1\n",
    "    \n",
    "    # we've gotten to a point where the left pinter is greater than the right, so swap pivot with right pointer\n",
    "    swap(pivot_idx, right_idx, array)\n",
    "    \n",
    "    # now, call the quick sort algorithm to the resulting left and right subarrays.\n",
    "    left_subarray_is_smaller = (right_idx - 1) - start_idx < end_idx - (right_idx + 1)\n",
    "    if left_subarray_is_smaller:\n",
    "        # left subarray is smaller so start with it first\n",
    "        quicksort_helper(array, start_idx, right_idx - 1)\n",
    "        quicksort_helper(array, right_idx + 1, end_idx)\n",
    "    else:\n",
    "        # work on right subarray first\n",
    "        quicksort_helper(array, right_idx + 1, end_idx)\n",
    "        quicksort_helper(array, start_idx, right_idx - 1)\n",
    "    \n",
    "\n",
    "def swap(i, j, array):\n",
    "    array[i], array[j] = array[j], array[i]\n",
    "    "
   ]
  },
  {
   "cell_type": "code",
   "execution_count": 8,
   "metadata": {},
   "outputs": [
    {
     "data": {
      "text/plain": [
       "[1, 2, 3]"
      ]
     },
     "execution_count": 8,
     "metadata": {},
     "output_type": "execute_result"
    }
   ],
   "source": [
    "array = [3, 1, 2]\n",
    "quicksort(array)"
   ]
  },
  {
   "cell_type": "code",
   "execution_count": null,
   "metadata": {},
   "outputs": [],
   "source": [
    "## Feel free to run these tests\n",
    "import unittest\n",
    "\n",
    "class QuickSortTestCase(unittest.TestCase):\n",
    "    def test_case_1(self):\n",
    "        array = [-4, 5, 10, 8, -10, -6, -4, -2, -5, 3, 5, -4, -5, -1, 1, 6, -7, -6, -7, 8]\n",
    "        expected = [-10, -7, -7, -6, -6, -5, -5, -4, -4, -4, -2, -1, 1, 3, 5, 5, 6, 8, 8, 10]\n",
    "        self.assertEqual(quicksort(array), expected)\n",
    "        \n",
    "    def test_case_2(self):\n",
    "        array = [5, -2, 2, -8, 3, -10, -6, -1, 2, -2, 9, 1, 1]\n",
    "        expected = [-10, -8, -6, -2, -2, -1, 1, 1, 2, 2, 3, 5, 9]\n",
    "        self.assertEqual(quicksort(array), expected)\n",
    "        \n",
    "if __name__ == '__main__':\n",
    "    unittest.main(argv=['first-arg-is-ignored'], exit=False)\n",
    "    "
   ]
  }
 ],
 "metadata": {
  "kernelspec": {
   "display_name": "Python 3",
   "language": "python",
   "name": "python3"
  },
  "language_info": {
   "codemirror_mode": {
    "name": "ipython",
    "version": 3
   },
   "file_extension": ".py",
   "mimetype": "text/x-python",
   "name": "python",
   "nbconvert_exporter": "python",
   "pygments_lexer": "ipython3",
   "version": "3.7.6"
  }
 },
 "nbformat": 4,
 "nbformat_minor": 2
}
