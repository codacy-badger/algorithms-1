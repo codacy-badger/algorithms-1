{
 "metadata": {
  "language_info": {
   "codemirror_mode": {
    "name": "ipython",
    "version": 3
   },
   "file_extension": ".py",
   "mimetype": "text/x-python",
   "name": "python",
   "nbconvert_exporter": "python",
   "pygments_lexer": "ipython3",
   "version": "3.9.0-final"
  },
  "orig_nbformat": 2,
  "kernelspec": {
   "name": "python3",
   "display_name": "Python 3.9.0 64-bit",
   "metadata": {
    "interpreter": {
     "hash": "aee8b7b246df8f9039afb4144a1f6fd8d2ca17a180786b69acc140d282b71a49"
    }
   }
  }
 },
 "nbformat": 4,
 "nbformat_minor": 2,
 "cells": [
  {
   "cell_type": "code",
   "execution_count": 1,
   "metadata": {},
   "outputs": [],
   "source": [
    "\"\"\"Merge sort implementation.\"\"\"\n",
    "\n",
    "\n",
    "def merge_sort(array):\n",
    "    \"\"\"\n",
    "    Complexity:\n",
    "        O(n log n)) time -- for both average and worst case.\n",
    "        O(n) space\n",
    "    \"\"\"\n",
    "    if len(array) <= 1:\n",
    "        # already sorted\n",
    "        return array\n",
    "\n",
    "    middle = len(array) // 2\n",
    "    # split array into smaller arrays\n",
    "    left = array[:middle]\n",
    "    right = array[middle:]\n",
    "\n",
    "    return merge(merge_sort(left), merge_sort(right))\n",
    "\n",
    "\n",
    "def merge(left_array, right_array):\n",
    "    result = []\n",
    "    left_index = 0\n",
    "    right_index = 0\n",
    "\n",
    "    while len(result) < (len(right_array) + len(left_array)):\n",
    "        #\n",
    "        if left_array[left_index] <= right_array[right_index]:\n",
    "            result.append(left_array[left_index])\n",
    "            left_index += 1\n",
    "        else:\n",
    "            result.append(right_array[right_index])\n",
    "            right_index += 1\n",
    "\n",
    "        # if we are at the end of one of the lists,\n",
    "        # concatenate the rest of the other one, preventing index out or range errors\n",
    "        if left_index == len(left_array):\n",
    "            # reached the end of left list, append the remainder of right list\n",
    "            result += right_array[right_index:]\n",
    "            break\n",
    "        elif right_index == len(right_array):\n",
    "            # reached the end of right list, append the remainder of left list\n",
    "            result += left_array[left_index:]\n",
    "            break\n",
    "    return result"
   ]
  },
  {
   "cell_type": "code",
   "execution_count": 2,
   "metadata": {},
   "outputs": [
    {
     "output_type": "execute_result",
     "data": {
      "text/plain": [
       "[1, 2, 3, 5, 6]"
      ]
     },
     "metadata": {},
     "execution_count": 2
    }
   ],
   "source": [
    "merge_sort([5, 3, 2, 6, 1])"
   ]
  },
  {
   "cell_type": "code",
   "execution_count": null,
   "metadata": {},
   "outputs": [],
   "source": []
  }
 ]
}