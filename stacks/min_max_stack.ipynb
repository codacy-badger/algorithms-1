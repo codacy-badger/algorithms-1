{
 "cells": [
  {
   "cell_type": "code",
   "execution_count": 1,
   "metadata": {},
   "outputs": [],
   "source": [
    "## Problem\n"
   ]
  },
  {
   "cell_type": "code",
   "execution_count": 18,
   "metadata": {},
   "outputs": [],
   "source": [
    "# Feel free to add new properties and methods to the class.\n",
    "class MinMaxStack:\n",
    "    def __init__(self):\n",
    "        self.min_max_stack = []\n",
    "        self.stack = []\n",
    "        \n",
    "    def peek(self):\n",
    "        return self.stack[len(self.stack) - 1]\n",
    "\n",
    "    def pop(self):\n",
    "        self.min_max_stack.pop()\n",
    "        return self.stack.pop()\n",
    "\n",
    "    def push(self, number):\n",
    "        new_min_max = {'max': number, 'min': number}\n",
    "        if len(self.min_max_stack):\n",
    "            current_min_max = self.min_max_stack[len(self.min_max_stack) - 1]\n",
    "            new_min_max['max'] = max(number, current_min_max['max'])\n",
    "            new_min_max['min'] = min(number, current_min_max['min'])\n",
    "        self.min_max_stack.append(new_min_max)\n",
    "        self.stack.append(number)\n",
    "\n",
    "    def get_min(self):\n",
    "        return self.min_max_stack[len(self.min_max_stack) - 1]['min']\n",
    "\n",
    "    def get_max(self):\n",
    "        return self.min_max_stack[len(self.min_max_stack) - 1]['max']"
   ]
  },
  {
   "cell_type": "code",
   "execution_count": null,
   "metadata": {},
   "outputs": [],
   "source": []
  },
  {
   "cell_type": "code",
   "execution_count": null,
   "metadata": {},
   "outputs": [],
   "source": []
  }
 ],
 "metadata": {
  "kernelspec": {
   "display_name": "Python 3",
   "language": "python",
   "name": "python3"
  },
  "language_info": {
   "codemirror_mode": {
    "name": "ipython",
    "version": 3
   },
   "file_extension": ".py",
   "mimetype": "text/x-python",
   "name": "python",
   "nbconvert_exporter": "python",
   "pygments_lexer": "ipython3",
   "version": "3.7.4"
  }
 },
 "nbformat": 4,
 "nbformat_minor": 2
}
