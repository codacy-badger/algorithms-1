{
 "cells": [
  {
   "cell_type": "code",
   "execution_count": 39,
   "metadata": {},
   "outputs": [],
   "source": [
    "import math\n",
    "from queue import Queue\n",
    "\n",
    "def interleave(stack):\n",
    "    stack = [1, 2, 3, 4, 5]\n",
    "    queue = Queue()\n",
    "    size = len(stack)\n",
    "\n",
    "    while stack:\n",
    "        queue.put(stack.pop())\n",
    "\n",
    "    for _ in range(size // 2):\n",
    "        queue.put(queue.get())\n",
    "        \n",
    "    for _ in range(math.ceil(size / 2.0)):\n",
    "        stack.append(queue.get())\n",
    "    \n",
    "    for _ in range(size // 2):\n",
    "        queue.put(stack.pop())\n",
    "        queue.put(queue.get())\n",
    "    \n",
    "    if stack:\n",
    "        queue.put(stack.pop())\n",
    "        \n",
    "    while not queue.empty():\n",
    "        stack.append(queue.get())\n",
    "        \n",
    "    return queue.queue, stack"
   ]
  },
  {
   "cell_type": "code",
   "execution_count": 40,
   "metadata": {},
   "outputs": [
    {
     "data": {
      "text/plain": [
       "(deque([]), [1, 5, 2, 4, 3])"
      ]
     },
     "execution_count": 40,
     "metadata": {},
     "output_type": "execute_result"
    }
   ],
   "source": [
    "interleave([1, 2, 3, 4, 5])"
   ]
  }
 ],
 "metadata": {
  "kernelspec": {
   "display_name": "Python 3",
   "language": "python",
   "name": "python3"
  },
  "language_info": {
   "codemirror_mode": {
    "name": "ipython",
    "version": 3
   },
   "file_extension": ".py",
   "mimetype": "text/x-python",
   "name": "python",
   "nbconvert_exporter": "python",
   "pygments_lexer": "ipython3",
   "version": "3.7.6"
  }
 },
 "nbformat": 4,
 "nbformat_minor": 4
}
