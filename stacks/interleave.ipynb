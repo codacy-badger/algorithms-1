{
 "cells": [
  {
   "cell_type": "markdown",
   "metadata": {},
   "source": [
    "### Problem\n",
    "\n",
    "Given a stack of N elements, interleave the first half of the stack with the second half reversed using only one other queue. This should be done in-place.\n",
    "\n",
    "Recall that you can only push or pop from a stack, and enqueue or dequeue from a queue.\n",
    "\n",
    "Sample input:\n",
    "\n",
    "```python\n",
    "[1, 2, 3, 4, 5]\n",
    "```\n",
    "\n",
    "Sample output:\n",
    "\n",
    "```python\n",
    "[1, 5, 2, 4, 3]\n",
    "```\n",
    "\n",
    "If the stack is `[1, 2, 3, 4]`, it should become `[1, 4, 2, 3]`.\n",
    "\n",
    "Try working backwards from the end state."
   ]
  },
  {
   "cell_type": "code",
   "execution_count": 39,
   "metadata": {},
   "outputs": [],
   "source": [
    "import math\n",
    "from queue import Queue\n",
    "\n",
    "def interleave(stack):\n",
    "    stack = [1, 2, 3, 4, 5]\n",
    "    queue = Queue()\n",
    "    size = len(stack)\n",
    "\n",
    "    while stack:\n",
    "        queue.put(stack.pop())\n",
    "\n",
    "    for _ in range(size // 2):\n",
    "        queue.put(queue.get())\n",
    "        \n",
    "    for _ in range(math.ceil(size / 2.0)):\n",
    "        stack.append(queue.get())\n",
    "    \n",
    "    for _ in range(size // 2):\n",
    "        queue.put(stack.pop())\n",
    "        queue.put(queue.get())\n",
    "    \n",
    "    if stack:\n",
    "        queue.put(stack.pop())\n",
    "        \n",
    "    while not queue.empty():\n",
    "        stack.append(queue.get())\n",
    "        \n",
    "    return queue.queue, stack"
   ]
  },
  {
   "cell_type": "code",
   "execution_count": 40,
   "metadata": {},
   "outputs": [
    {
     "data": {
      "text/plain": [
       "(deque([]), [1, 5, 2, 4, 3])"
      ]
     },
     "execution_count": 40,
     "metadata": {},
     "output_type": "execute_result"
    }
   ],
   "source": [
    "interleave([1, 2, 3, 4, 5])"
   ]
  }
 ],
 "metadata": {
  "kernelspec": {
   "display_name": "Python 3",
   "language": "python",
   "name": "python3"
  },
  "language_info": {
   "codemirror_mode": {
    "name": "ipython",
    "version": 3
   },
   "file_extension": ".py",
   "mimetype": "text/x-python",
   "name": "python",
   "nbconvert_exporter": "python",
   "pygments_lexer": "ipython3",
   "version": "3.7.6"
  }
 },
 "nbformat": 4,
 "nbformat_minor": 4
}
