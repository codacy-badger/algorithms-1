{
 "cells": [
  {
   "cell_type": "code",
   "execution_count": 1,
   "metadata": {},
   "outputs": [],
   "source": [
    "def binary_search(array, target):\n",
    "    \"\"\"\n",
    "    An iterative implementation of binary search. \n",
    "    (recursive takes extra space, so solving it iteratively is better -- constant space.)\n",
    "\n",
    "    Returns index of the target if found\n",
    "    or -1 if it isn't.\n",
    "\n",
    "    Complexity:\n",
    "        O(log (n)) time - since  we split the search space by half every time\n",
    "                          we shift the left or right indexes.\n",
    "        O(1) space\n",
    "    \"\"\"\n",
    "    left = 0\n",
    "    right = len(array) - 1\n",
    "\n",
    "    while left <= right:\n",
    "        middle = (left + right) // 2\n",
    "\n",
    "        if target == array[middle]:\n",
    "            return middle\n",
    "        elif target < array[middle]:\n",
    "            right = middle - 1\n",
    "        else:\n",
    "            left = middle + 1\n",
    "    return -1\n",
    "\n",
    "\n",
    "def recursive_binary_search(array, target):\n",
    "    \"\"\"\n",
    "    A recursive approach to implementing binary search algorithm.\n",
    "\n",
    "    NOTE: Less efficient when it comes to space complexity.\n",
    "    Compexity:\n",
    "        O(log(n)) time\n",
    "        O(log (n)) space.\n",
    "    \"\"\"\n",
    "    return binary_search_helper(array, target, 0, len(array) - 1)\n",
    "\n",
    "\n",
    "def binary_search_helper(array, target, left, right):\n",
    "    if left > right:\n",
    "        return -1\n",
    "\n",
    "    middle = (left + right) // 2\n",
    "    potential_match = array[middle]\n",
    "\n",
    "    if target == potential_match:\n",
    "        return middle\n",
    "    elif target < potential_match:\n",
    "        return binary_search_helper(array, target, left, middle - 1)\n",
    "    else:\n",
    "        return binary_search_helper(array, target, middle + 1, right)"
   ]
  },
  {
   "cell_type": "code",
   "execution_count": null,
   "metadata": {},
   "outputs": [],
   "source": []
  }
 ],
 "metadata": {
  "kernelspec": {
   "display_name": "Python 3",
   "language": "python",
   "name": "python3"
  },
  "language_info": {
   "codemirror_mode": {
    "name": "ipython",
    "version": 3
   },
   "file_extension": ".py",
   "mimetype": "text/x-python",
   "name": "python",
   "nbconvert_exporter": "python",
   "pygments_lexer": "ipython3",
   "version": "3.7.6"
  }
 },
 "nbformat": 4,
 "nbformat_minor": 4
}
