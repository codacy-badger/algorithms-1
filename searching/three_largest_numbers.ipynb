{
 "cells": [
  {
   "cell_type": "markdown",
   "metadata": {},
   "source": [
    "\n",
    "## Three largest numbers\n",
    "\n",
    "Write a function that takes in an array of ints,\n",
    "returns a sorted array of three largest\n",
    "integers from the array.\n",
    "Note that the function should return duplicate integers if necessary;\n",
    "e.g: it should return [10, 10, 12] for an input array [10, 5, 9, 10, 12, 7]\n",
    "\n",
    "Sample input: \n",
    "\n",
    "```\n",
    "[141, 1, 16, -7, -17, -20, 18, 541, 8, 7, 7]\n",
    "```\n",
    "\n",
    "Sample output: \n",
    "\n",
    "```\n",
    "[141, 18, 541]\n",
    "```"
   ]
  },
  {
   "cell_type": "code",
   "execution_count": 1,
   "metadata": {},
   "outputs": [],
   "source": [
    "def find_three_largest_numbers(array):\n",
    "    \"\"\"\n",
    "    Complexity:\n",
    "        O(n) time\n",
    "        O(1) space, because we only store the final array of the 3 largest numbers\n",
    "    \"\"\"\n",
    "    three_largest = [None, None, None]\n",
    "    for num in array:\n",
    "        update_largest(three_largest, num)\n",
    "\n",
    "    return three_largest\n",
    "\n",
    "\n",
    "def update_largest(three_largest, number):\n",
    "    if three_largest[2] is None or number > three_largest[2]:\n",
    "        # update the third largets number\n",
    "        shift_and_update(three_largest, number, 2)\n",
    "    elif three_largest[1] is None or number > three_largest[1]:\n",
    "        shift_and_update(three_largest, number, 1)\n",
    "    elif three_largest[0] is None or number > three_largest[0]:\n",
    "        shift_and_update(three_largest, number, 0)\n",
    "\n",
    "\n",
    "def shift_and_update(array, number,  index):\n",
    "    for i in range(index + 1):\n",
    "        if i == index:\n",
    "            array[i] = number\n",
    "        else:\n",
    "            array[i] = array[i + 1]"
   ]
  },
  {
   "cell_type": "code",
   "execution_count": 2,
   "metadata": {},
   "outputs": [
    {
     "data": {
      "text/plain": [
       "[34, 35, 65]"
      ]
     },
     "execution_count": 2,
     "metadata": {},
     "output_type": "execute_result"
    }
   ],
   "source": [
    "find_three_largest_numbers([34, 1, 35, 2, 65, 3])"
   ]
  },
  {
   "cell_type": "code",
   "execution_count": null,
   "metadata": {},
   "outputs": [],
   "source": []
  }
 ],
 "metadata": {
  "kernelspec": {
   "display_name": "Python 3",
   "language": "python",
   "name": "python3"
  },
  "language_info": {
   "codemirror_mode": {
    "name": "ipython",
    "version": 3
   },
   "file_extension": ".py",
   "mimetype": "text/x-python",
   "name": "python",
   "nbconvert_exporter": "python",
   "pygments_lexer": "ipython3",
   "version": "3.7.6"
  }
 },
 "nbformat": 4,
 "nbformat_minor": 4
}
