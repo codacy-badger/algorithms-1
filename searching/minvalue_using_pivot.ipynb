{
 "cells": [
  {
   "cell_type": "markdown",
   "metadata": {},
   "source": [
    "## Search in log (N) using pivot\n",
    "\n",
    "Suppose an array sorted in ascending order is rotated at some pivot unknown to you beforehand. Find the minimum element in O(log N) time. You may assume the array does not contain duplicates.\n",
    "\n",
    "For example, given [5, 7, 10, 3, 4], return 3."
   ]
  },
  {
   "cell_type": "markdown",
   "metadata": {},
   "source": [
    "### O(N) Approach\n",
    "\n",
    "A sraightforward way to solve this is to use two pointers, left and right, to search inwards. On the left side, we should expect an ascending order. If a value breaks this pattern, we have hit the pivot, so we return the value after the pivot. \n",
    "Similarly, on the right side, we should expect a descending order. If we get a value that breaks the order, we know we've hit the pivot. So we return the value at pivot + 1."
   ]
  },
  {
   "cell_type": "code",
   "execution_count": 1,
   "metadata": {},
   "outputs": [],
   "source": [
    "def smallest(array: list) -> int:\n",
    "    left = 0\n",
    "    right = len(array) - 1\n",
    "    \n",
    "    while left < right:\n",
    "        if array[left] > array[left + 1]:\n",
    "            return array[left + 1]\n",
    "        if array[right] < array[right - 1]:\n",
    "            return array[right]\n",
    "        left += 1\n",
    "        right -= 1"
   ]
  },
  {
   "cell_type": "code",
   "execution_count": 4,
   "metadata": {},
   "outputs": [
    {
     "data": {
      "text/plain": [
       "9"
      ]
     },
     "execution_count": 4,
     "metadata": {},
     "output_type": "execute_result"
    }
   ],
   "source": [
    "smallest([16, 17, 9, 10, 11])\n"
   ]
  },
  {
   "cell_type": "code",
   "execution_count": 3,
   "metadata": {},
   "outputs": [
    {
     "data": {
      "text/plain": [
       "1"
      ]
     },
     "execution_count": 3,
     "metadata": {},
     "output_type": "execute_result"
    }
   ],
   "source": [
    "smallest([2, 1])"
   ]
  },
  {
   "cell_type": "markdown",
   "metadata": {},
   "source": [
    "### O(log N) Approach\n",
    "We'll use binary search to solve it. \n",
    "\n",
    "Let's look at what happens if we split our list at some point. If the value at our splitting point is less than the last element in the list, we know the right half is sorted, so the minimum element must lie in the left half (including the midpoint). Otherwise, it must lie in the right half.\n",
    "\n",
    "We can apply this routine repeatedly to cut in half the area where the minimum element must be. Eventually we will reach a point where the lowest and highest indices we are looking at are the same, so we return the element at this index."
   ]
  },
  {
   "cell_type": "code",
   "execution_count": 7,
   "metadata": {},
   "outputs": [],
   "source": [
    "def find_min_element(arr:list) -> int:\n",
    "    low = 0\n",
    "    high = len(arr) - 1\n",
    "    return helper(arr, low, high)\n",
    "\n",
    "def helper(array, low, high):\n",
    "    if low == high:\n",
    "        return array[low]\n",
    "    \n",
    "    mid = (high + low) // 2\n",
    "    if array[mid] < array[high]:\n",
    "        high = mid\n",
    "    else:\n",
    "        low = mid + 1\n",
    "    return helper(array, low, high)"
   ]
  },
  {
   "cell_type": "code",
   "execution_count": 8,
   "metadata": {},
   "outputs": [
    {
     "data": {
      "text/plain": [
       "0"
      ]
     },
     "execution_count": 8,
     "metadata": {},
     "output_type": "execute_result"
    }
   ],
   "source": [
    "find_min_element([4, 5, 6, 0, 1, 2])"
   ]
  },
  {
   "cell_type": "code",
   "execution_count": null,
   "metadata": {},
   "outputs": [],
   "source": []
  }
 ],
 "metadata": {
  "kernelspec": {
   "display_name": "Python 3",
   "language": "python",
   "name": "python3"
  },
  "language_info": {
   "codemirror_mode": {
    "name": "ipython",
    "version": 3
   },
   "file_extension": ".py",
   "mimetype": "text/x-python",
   "name": "python",
   "nbconvert_exporter": "python",
   "pygments_lexer": "ipython3",
   "version": "3.7.6"
  }
 },
 "nbformat": 4,
 "nbformat_minor": 4
}
