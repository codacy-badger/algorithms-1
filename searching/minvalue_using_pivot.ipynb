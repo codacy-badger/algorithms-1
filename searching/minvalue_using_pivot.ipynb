{
 "cells": [
  {
   "cell_type": "markdown",
   "metadata": {},
   "source": [
    "## Search in log (N) using pivot\n",
    "\n",
    "Suppose an array sorted in ascending order is rotated at some pivot unknown to you beforehand. Find the minimum element in O(log N) time. You may assume the array does not contain duplicates.\n",
    "\n",
    "For example, given [5, 7, 10, 3, 4], return 3."
   ]
  },
  {
   "cell_type": "markdown",
   "metadata": {},
   "source": [
    "### Approach\n",
    "We can notice that since the array is sorted in ascending order, encountering a value that is less than those already encountered will be the smallest value. \n",
    "Once we get to this number, we return it.\n",
    "\n",
    "Alternatively, we can have two pointers, left and right, that will be used to search inwards. On the left side, we should expect an ascending order. If a value breaks this order, we have hit the pivot, so we return the value after the pivot. \n",
    "Similarly, on the right side, we should expect a descending order. If we get a value that breaks the order, we know we've hit the pivot. So we return the value at pivot + 1."
   ]
  },
  {
   "cell_type": "code",
   "execution_count": 1,
   "metadata": {},
   "outputs": [],
   "source": [
    "def smallest(array: list) -> int:\n",
    "    left = 0\n",
    "    right = len(array) - 1\n",
    "    \n",
    "    while left < right:\n",
    "        if array[left] > array[left + 1]:\n",
    "            return array[left + 1]\n",
    "        if array[right] < array[right - 1]:\n",
    "            return array[right]\n",
    "        left += 1\n",
    "        right -= 1"
   ]
  },
  {
   "cell_type": "code",
   "execution_count": 2,
   "metadata": {},
   "outputs": [
    {
     "data": {
      "text/plain": [
       "3"
      ]
     },
     "execution_count": 2,
     "metadata": {},
     "output_type": "execute_result"
    }
   ],
   "source": [
    "smallest([5, 7, 10, 3, 4])\n"
   ]
  },
  {
   "cell_type": "code",
   "execution_count": null,
   "metadata": {},
   "outputs": [],
   "source": []
  }
 ],
 "metadata": {
  "kernelspec": {
   "display_name": "Python 3",
   "language": "python",
   "name": "python3"
  },
  "language_info": {
   "codemirror_mode": {
    "name": "ipython",
    "version": 3
   },
   "file_extension": ".py",
   "mimetype": "text/x-python",
   "name": "python",
   "nbconvert_exporter": "python",
   "pygments_lexer": "ipython3",
   "version": "3.7.6"
  }
 },
 "nbformat": 4,
 "nbformat_minor": 4
}
