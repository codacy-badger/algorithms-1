{
 "cells": [
  {
   "cell_type": "markdown",
   "metadata": {},
   "source": [
    "## Problem\n",
    "\n",
    "Given a sorted list of integers of length N, determine if an element x is in the list without performing any multiplication, division, or bit-shift operations.\n",
    "\n",
    "Do this in `O(log N)` time."
   ]
  },
  {
   "cell_type": "markdown",
   "metadata": {},
   "source": [
    "## Solution\n",
    "We can't use binary search to locate the element because involves dividing by two to get the middle element. \n",
    "\n",
    "We can use Fibonacci search to get around this limitation. The idea is that fibonacci numbers are used to locate indices to check in the array, and by cleverly updating these indices, we can efficiently locate our element.\n",
    "\n",
    "Let `p` and `q` be consequtive Fibonacci numbers. `q` is the smallest Fibonacci number that is greater or equal to the size of the array. We compare `x` with `array[p]` and perform the following logic:\n",
    "\n",
    "1. If `x == array[p]`, we have found the element. Return true.\n",
    "2. If `x < array[p]` move p and q down two indices each, cutting down the largest two elements from the search.\n",
    "3. If `x > array[p]` move p and q down index each, and add an offset of p to the next search value.\n",
    "\n",
    "If we have exhausted our list of Fibonacci numbers, we can be assured that the element is not in our array.\n",
    "\n"
   ]
  },
  {
   "cell_type": "code",
   "execution_count": null,
   "metadata": {},
   "outputs": [],
   "source": []
  }
 ],
 "metadata": {
  "kernelspec": {
   "display_name": "Python 3",
   "language": "python",
   "name": "python3"
  },
  "language_info": {
   "codemirror_mode": {
    "name": "ipython",
    "version": 3
   },
   "file_extension": ".py",
   "mimetype": "text/x-python",
   "name": "python",
   "nbconvert_exporter": "python",
   "pygments_lexer": "ipython3",
   "version": "3.7.6"
  }
 },
 "nbformat": 4,
 "nbformat_minor": 4
}
