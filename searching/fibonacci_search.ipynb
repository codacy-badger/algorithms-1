{
 "cells": [
  {
   "cell_type": "markdown",
   "metadata": {},
   "source": [
    "## Problem\n",
    "\n",
    "Given a sorted list of integers of length N, determine if an element x is in the list without performing any multiplication, division, or bit-shift operations.\n",
    "\n",
    "Do this in `O(log N)` time."
   ]
  },
  {
   "cell_type": "markdown",
   "metadata": {},
   "source": [
    "## Solution\n",
    "We can't use binary search to locate the element because involves dividing by two to get the middle element. \n",
    "\n",
    "We can use Fibonacci search to get around this limitation. The idea is that fibonacci numbers are used to locate indices to check in the array, and by cleverly updating these indices, we can efficiently locate our element.\n",
    "\n",
    "Let `p` and `q` be consequtive Fibonacci numbers. `q` is the smallest Fibonacci number that is **greater than or equal to** the size of the array. We compare `x` with `array[p]` and perform the following logic:\n",
    "\n",
    "1. If `x == array[p]`, we have found the element. Return true.\n",
    "2. If `x < array[p]` move p and q down two indices each, cutting down the largest two elements from the search.\n",
    "3. If `x > array[p]` move p and q down index each, and add an offset of p to the next search value.\n",
    "\n",
    "If we have exhausted our list of Fibonacci numbers, we can be assured that the element is not in our array.\n",
    "\n",
    "\n",
    "Let's go through an example.\n",
    "\n",
    "First, we need a helper function to generate the Fibonacci numbers, given the length of the array => N."
   ]
  },
  {
   "cell_type": "code",
   "execution_count": 2,
   "metadata": {},
   "outputs": [],
   "source": [
    "def get_fib_sequence(n):\n",
    "    a, b = 0, 1\n",
    "    \n",
    "    sequence = [a]\n",
    "    while a < n:\n",
    "        a, b = b, a + b\n",
    "        sequence.append(a)\n",
    "    return sequence"
   ]
  },
  {
   "cell_type": "markdown",
   "metadata": {},
   "source": [
    "Suppose we have array \n",
    "```\n",
    "[2, 4, 10, 16, 25, 45, 55, 65, 80, 100]\n",
    "```\n",
    "\n",
    "Since there are 10 elements in the array, the generated sequence of Fibonacci numbers will be \n",
    "```\n",
    "[0, 1, 1, 2, 3, 5, 8, 13]\n",
    "```\n",
    "\n",
    "So the values of p and q are: `p == 6, q == 7` (The second last and last indices in the sequence)   \n",
    "\n",
    "Now suppose we are searching for `45`, we'll carry out the following steps:\n",
    "\n",
    "- Compare 45 with `array[fib[p]] => array[8]`. Since 45 < 80, we move p and q down two indices. p = 4, q = 5.\n",
    "- Next, compare 45 with `array[fib[p]] => array[3]`. Since 45 > 16, we set p = 3 and create an offset of 2. So p = 5, q = 4. \n",
    "- Finally, we compare 45 with `array[fib[p]]`. Since array[5] == 45, we have found x.\n"
   ]
  },
  {
   "cell_type": "code",
   "execution_count": 5,
   "metadata": {},
   "outputs": [],
   "source": [
    "def fibo_search(array, x):\n",
    "    n = len(array)\n",
    "    fibs = get_fib_sequence(n)\n",
    "    \n",
    "    p, q = len(fibs) - 2, len(fibs) - 1\n",
    "    offset = 0\n",
    "    \n",
    "    while q > 0:\n",
    "        index = min(offset + fibs[p], n - 1)\n",
    "        if x == array[index]:\n",
    "            return True\n",
    "        elif x < array[index]:\n",
    "            p -= 2\n",
    "            q -= 2\n",
    "        else:\n",
    "            p -= 1\n",
    "            q -= 1\n",
    "            offset = index\n",
    "    return False"
   ]
  },
  {
   "cell_type": "code",
   "execution_count": 6,
   "metadata": {},
   "outputs": [
    {
     "data": {
      "text/plain": [
       "True"
      ]
     },
     "execution_count": 6,
     "metadata": {},
     "output_type": "execute_result"
    }
   ],
   "source": [
    "fibo_search([2, 4, 10, 16, 25, 45, 55, 65, 80, 100], 45)"
   ]
  },
  {
   "cell_type": "code",
   "execution_count": null,
   "metadata": {},
   "outputs": [],
   "source": []
  }
 ],
 "metadata": {
  "kernelspec": {
   "display_name": "Python 3",
   "language": "python",
   "name": "python3"
  },
  "language_info": {
   "codemirror_mode": {
    "name": "ipython",
    "version": 3
   },
   "file_extension": ".py",
   "mimetype": "text/x-python",
   "name": "python",
   "nbconvert_exporter": "python",
   "pygments_lexer": "ipython3",
   "version": "3.7.6"
  }
 },
 "nbformat": 4,
 "nbformat_minor": 4
}
