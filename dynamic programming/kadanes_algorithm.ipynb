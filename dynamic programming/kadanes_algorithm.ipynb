{
 "cells": [
  {
   "cell_type": "code",
   "execution_count": null,
   "metadata": {},
   "outputs": [],
   "source": [
    "def kadanesAlgorithm(array):\n",
    "    global_max = float('-inf')\n",
    "    # initialize local maximum to zero, \n",
    "    # since we haven't started getting it for the first index\n",
    "    local_max = 0\n",
    "    for i in range(len(array)):\n",
    "        local_max = max(array[i], array[i] + local_max)\n",
    "        if local_max > global_max:\n",
    "            global_max = local_max\n",
    "    return global_max"
   ]
  },
  {
   "cell_type": "code",
   "execution_count": null,
   "metadata": {},
   "outputs": [],
   "source": []
  }
 ],
 "metadata": {
  "kernelspec": {
   "display_name": "Python 3",
   "language": "python",
   "name": "python3"
  }
 },
 "nbformat": 4,
 "nbformat_minor": 2
}
