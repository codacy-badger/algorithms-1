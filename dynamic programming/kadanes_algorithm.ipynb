{
 "cells": [
  {
   "cell_type": "markdown",
   "metadata": {},
   "source": [
    "### Problem\n",
    "Given an array of integers, find the largest possible sum of contiguous subarray within the given array."
   ]
  },
  {
   "cell_type": "code",
   "execution_count": 5,
   "metadata": {},
   "outputs": [],
   "source": [
    "## solution\n",
    "def kadanes_algorithm(array):\n",
    "    \"\"\"\n",
    "    Complexity:\n",
    "        O(n) time | O(1) space\n",
    "    \"\"\"\n",
    "    global_max = float('-inf')\n",
    "    # initialize local maximum to zero, \n",
    "    # since we haven't started getting it for the first index\n",
    "    local_max = 0\n",
    "    for i in range(len(array)):\n",
    "        # the local maximum for an index is always => local_max[i] = max(array[i], local_max of array[i - 1])\n",
    "        local_max = max(array[i], array[i] + local_max)\n",
    "        if local_max > global_max:\n",
    "            # update global max when the current local max is larger than global max.\n",
    "            global_max = local_max\n",
    "    return global_max"
   ]
  },
  {
   "cell_type": "code",
   "execution_count": 9,
   "metadata": {},
   "outputs": [
    {
     "data": {
      "text/plain": [
       "6"
      ]
     },
     "execution_count": 9,
     "metadata": {},
     "output_type": "execute_result"
    }
   ],
   "source": [
    "array = [-3, 4, -1, 2, 1, -5, 4, -12, 3, -7]\n",
    "kadanes_algorithm(array)"
   ]
  },
  {
   "cell_type": "code",
   "execution_count": null,
   "metadata": {},
   "outputs": [],
   "source": [
    "## unit tests to validate solution\n",
    "import unittest\n",
    "\n",
    "class KadenesTestCase(unittest.TestCase):\n",
    "    def test_case_1(self):\n",
    "        array = [1, 2, 3, 4, 5, 6, 7, 8, 9, 10]\n",
    "        expected_sum = 55\n",
    "        self.assertEqual(kadanes_algorithm(array), expected_sum)\n",
    "        \n",
    "    def test_case_2(self):\n",
    "        array = [-2, 1, -3, 4, -1, 2, 1, -5, 4]\n",
    "        expected_sum = 6\n",
    "        self.assertEqual(kadanes_algorithm(array), expected_sum)\n",
    "\n",
    "if __name__ == \"__main__\":\n",
    "    unittest.main(argv=['first-arg-is-ignored'], exit=False)"
   ]
  }
 ],
 "metadata": {
  "kernelspec": {
   "display_name": "Python 3",
   "language": "python",
   "name": "python3"
  },
  "language_info": {
   "codemirror_mode": {
    "name": "ipython",
    "version": 3
   },
   "file_extension": ".py",
   "mimetype": "text/x-python",
   "name": "python",
   "nbconvert_exporter": "python",
   "pygments_lexer": "ipython3",
   "version": "3.7.4"
  }
 },
 "nbformat": 4,
 "nbformat_minor": 2
}
