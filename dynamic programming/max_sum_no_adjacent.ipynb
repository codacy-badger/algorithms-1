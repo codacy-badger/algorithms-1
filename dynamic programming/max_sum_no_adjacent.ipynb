{
 "cells": [
  {
   "cell_type": "markdown",
   "metadata": {},
   "source": [
    "### Max sum no adjacent\n",
    "Given a array of integers, find the maximum sum of non-adjacent elements in the array, returning the sum. If the sum can't be generated, return 0.\n",
    "\n",
    "```\n",
    "Sample input: [1, 2, 4, 20]\n",
    "Sample output: 22\n",
    "```"
   ]
  },
  {
   "cell_type": "code",
   "execution_count": 1,
   "metadata": {},
   "outputs": [],
   "source": [
    "def maxSubsetNoAdjacent(array):\n",
    "    \"\"\"Create a new array of the same length as the input array. Then use this formula (A[i] = max(A[i - 1], A[i - 2] + A[i])) to find the max sum generated from index 0 to current index.\"\"\"\n",
    "    if len(array) == 0:\n",
    "        return 0\n",
    "    elif len(array) == 1:\n",
    "        return A[0]\n",
    "    \n",
    "    max_sums = array[:]\n",
    "    max_sums[1] = max(max_sums[0], max_sums[1])\n",
    "    \n",
    "    for i in range(2, len(array)):\n",
    "        max_sums[i] = max(max_sums[i - 1], max_sums[i - 2] + array[i])\n",
    "    return max_sums[-1]"
   ]
  },
  {
   "cell_type": "code",
   "execution_count": 2,
   "metadata": {},
   "outputs": [
    {
     "data": {
      "text/plain": [
       "6"
      ]
     },
     "execution_count": 2,
     "metadata": {},
     "output_type": "execute_result"
    }
   ],
   "source": [
    "A = [1, 2, 3, 4]\n",
    "maxSubsetNoAdjacent(A)"
   ]
  },
  {
   "cell_type": "code",
   "execution_count": null,
   "metadata": {},
   "outputs": [],
   "source": []
  }
 ],
 "metadata": {
  "kernelspec": {
   "display_name": "Python 3",
   "language": "python",
   "name": "python3"
  },
  "language_info": {
   "codemirror_mode": {
    "name": "ipython",
    "version": 3
   },
   "file_extension": ".py",
   "mimetype": "text/x-python",
   "name": "python",
   "nbconvert_exporter": "python",
   "pygments_lexer": "ipython3",
   "version": "3.7.6"
  }
 },
 "nbformat": 4,
 "nbformat_minor": 4
}
