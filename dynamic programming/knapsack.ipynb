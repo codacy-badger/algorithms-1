{
 "cells": [
  {
   "cell_type": "markdown",
   "metadata": {},
   "source": [
    "## Knapsack Problem\n",
    "You are given an array of arrays. Each subarray in this array contains two integer elements: the first represents an item value, the second an item's weight.\n",
    "\n",
    "You are also given an integer representing the maximum capacity of the knapsack that you have.\n",
    "\n",
    "Your goal is to fit items that will collectively fit within the knapsack's capacity while maximizing on their combined value.\n",
    "\n",
    "Write a function that returns the maximum combined value of the items you'd pick, as well as an array of the item indices picked.\n",
    "\n",
    "Sample Input: [[1,2],[4,3],[5,6],[6,7]], 10\n",
    "Sample Output: 10, [1, 3]\n",
    "\n"
   ]
  },
  {
   "cell_type": "code",
   "execution_count": 14,
   "metadata": {},
   "outputs": [],
   "source": [
    "def knapsack(items, capacity):\n",
    "    \"\"\"\n",
    "    Complexity:\n",
    "        O(nc) time | O(nc) space, where n == number of items, c == capacity\n",
    "    \"\"\"\n",
    "    knapsack_values = [[0 for col in range(capacity + 1)] for row in range(len(items) + 1)]\n",
    "    \n",
    "    for row in range(1, len(items) + 1):\n",
    "        current_value = items[row - 1][0]\n",
    "        current_weight = items[row - 1][1]\n",
    "        for col in range(capacity + 1):\n",
    "            if current_weight > col:\n",
    "                knapsack_values[row][col] = knapsack_values[row - 1][col]\n",
    "            else:\n",
    "                knapsack_values[row][col] = max(\n",
    "                    knapsack_values[row - 1][col],\n",
    "                    knapsack_values[row - 1][col - current_weight] + current_value\n",
    "                )\n",
    "    \n",
    "    return [knapsack_values[-1][-1], backtrack_items(knapsack_values, items)]\n",
    "\n",
    "def backtrack_items(values, items):\n",
    "    \"\"\"\n",
    "    Backtracks from the bottom right of the 2d array, finding all the items that were put in the knapsack.\n",
    "    \"\"\"\n",
    "    results = []\n",
    "    row = len(values) - 1\n",
    "    col = len(values[0]) - 1\n",
    "    \n",
    "    while row > 0:\n",
    "        if values[row][col] == values[row - 1][col]:\n",
    "            row -= 1\n",
    "        else:\n",
    "            results.append(row - 1)\n",
    "            col -= items[row - 1][1]\n",
    "            row -= 1\n",
    "    return results"
   ]
  },
  {
   "cell_type": "code",
   "execution_count": 15,
   "metadata": {},
   "outputs": [
    {
     "data": {
      "text/plain": [
       "[10, [3, 1]]"
      ]
     },
     "execution_count": 15,
     "metadata": {},
     "output_type": "execute_result"
    }
   ],
   "source": [
    "# test it out\n",
    "capacity = 10\n",
    "items = [[1, 3], [4, 3], [5, 6], [6, 7]]\n",
    "\n",
    "knapsack(items, capacity)"
   ]
  },
  {
   "cell_type": "code",
   "execution_count": null,
   "metadata": {},
   "outputs": [],
   "source": []
  }
 ],
 "metadata": {
  "kernelspec": {
   "display_name": "Python 3",
   "language": "python",
   "name": "python3"
  },
  "language_info": {
   "codemirror_mode": {
    "name": "ipython",
    "version": 3
   },
   "file_extension": ".py",
   "mimetype": "text/x-python",
   "name": "python",
   "nbconvert_exporter": "python",
   "pygments_lexer": "ipython3",
   "version": "3.7.4"
  }
 },
 "nbformat": 4,
 "nbformat_minor": 2
}
