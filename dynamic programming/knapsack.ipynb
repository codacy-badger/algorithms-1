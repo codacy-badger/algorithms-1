{
 "cells": [
  {
   "cell_type": "markdown",
   "metadata": {},
   "source": [
    "## Knapsack Problem\n",
    "You are given an array of arrays. Each subarray in this array contains two integer elements: the first represents an item value, the second an item's weight.\n",
    "\n",
    "You are also given an integer representing the maximum capacity of the knapsack that you have.\n",
    "\n",
    "Your goal is to fit items that will collectively fit within the knapsack's capacity while maximizing on their combined value.\n",
    "\n",
    "Write a function that returns the maximum combined value of the items you'd pick, as well as the item indices\n"
   ]
  }
 ],
 "metadata": {
  "kernelspec": {
   "display_name": "Python 3",
   "language": "python",
   "name": "python3"
  },
  "language_info": {
   "codemirror_mode": {
    "name": "ipython",
    "version": 3
   },
   "file_extension": ".py",
   "mimetype": "text/x-python",
   "name": "python",
   "nbconvert_exporter": "python",
   "pygments_lexer": "ipython3",
   "version": "3.7.4"
  }
 },
 "nbformat": 4,
 "nbformat_minor": 2
}
