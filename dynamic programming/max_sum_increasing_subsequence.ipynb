{
 "cells": [
  {
   "cell_type": "markdown",
   "metadata": {},
   "source": [
    "### Max Sum Increasing Subsequence\n",
    "Write a function that takes in a non-empty array of integers and returns the greatest sum that can be generated from a strictly increasing subsequence in the array, as well as an array of the numbers in that sequence.\n",
    "\n",
    "A subsequence of an array is a set of numbers that aren't necessarily adjacent to each other in the array but that are in the same order as they appear in the array.\n",
    "\n",
    "For instance, [1, 2, 4] form a subsequence of array [1, 5, 2, 0, 4].\n",
    "\n",
    "Sample input:\n",
    "```python\n",
    "array = [1, 7, 2, 3, 5, 1, 3]\n",
    "```\n",
    "\n",
    "Sample output:\n",
    "```python\n",
    "[11, [1, 2, 3, 5]]\n",
    "```\n"
   ]
  },
  {
   "cell_type": "code",
   "execution_count": null,
   "metadata": {},
   "outputs": [],
   "source": [
    "def maxSumIncreasingSubsequence(array):\n",
    "    pass"
   ]
  }
 ],
 "metadata": {
  "kernelspec": {
   "display_name": "Python 3",
   "language": "python",
   "name": "python3"
  },
  "language_info": {
   "codemirror_mode": {
    "name": "ipython",
    "version": 3
   },
   "file_extension": ".py",
   "mimetype": "text/x-python",
   "name": "python",
   "nbconvert_exporter": "python",
   "pygments_lexer": "ipython3",
   "version": "3.7.6"
  }
 },
 "nbformat": 4,
 "nbformat_minor": 4
}
