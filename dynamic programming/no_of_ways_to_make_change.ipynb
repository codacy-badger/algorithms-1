{
 "cells": [
  {
   "cell_type": "markdown",
   "metadata": {},
   "source": [
    "### Problem: Number of ways to make change\n",
    "Given a list of integers representing denominations and an integer representing a target amount of money, create a function that returns the number of ways to make change for that target value using the denominations.\n",
    "Note that an unlimited amount of coins is at your disposal."
   ]
  },
  {
   "cell_type": "code",
   "execution_count": 2,
   "metadata": {},
   "outputs": [],
   "source": [
    "## solution\n",
    "def make_change(n, denoms):\n",
    "    \"\"\"\n",
    "    Complexity:\n",
    "        O(nd) time, where n = target amount, and d is the number of denominations\n",
    "        O(n) space\n",
    "    \"\"\"\n",
    "    # set a list of zeros, before we begin filling up their respective number of ways to make change\n",
    "    ways = [0 for i in range(n + 1)]\n",
    "    \n",
    "    # base case: if we have zero target amount to make its change, only one way exists: not doing anything --> so it becomes 1, \n",
    "    ways[0] = 1\n",
    "    for denom in denoms:\n",
    "        for amount in range(1, n + 1):\n",
    "            # check to see if the denom is less than amount, because we can't use a large denomination to make change for a smaller amount\n",
    "            if denom <= amount:\n",
    "                # add the current number of ways there are to the number of ways to generate that amount minus the denomnication\n",
    "                ways[amount] += ways[amount - denom]\n",
    "    return ways[n]"
   ]
  },
  {
   "cell_type": "code",
   "execution_count": 3,
   "metadata": {},
   "outputs": [
    {
     "data": {
      "text/plain": [
       "2"
      ]
     },
     "execution_count": 3,
     "metadata": {},
     "output_type": "execute_result"
    }
   ],
   "source": [
    "make_change(5, [1, 5])\n"
   ]
  }
 ],
 "metadata": {
  "kernelspec": {
   "display_name": "Python 3",
   "language": "python",
   "name": "python3"
  },
  "language_info": {
   "codemirror_mode": {
    "name": "ipython",
    "version": 3
   },
   "file_extension": ".py",
   "mimetype": "text/x-python",
   "name": "python",
   "nbconvert_exporter": "python",
   "pygments_lexer": "ipython3",
   "version": "3.7.4"
  }
 },
 "nbformat": 4,
 "nbformat_minor": 2
}
